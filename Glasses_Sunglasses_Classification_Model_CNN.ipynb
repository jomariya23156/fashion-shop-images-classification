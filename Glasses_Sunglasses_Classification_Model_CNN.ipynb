{
 "cells": [
  {
   "cell_type": "markdown",
   "id": "neither-scotland",
   "metadata": {},
   "source": [
    "## Import libraries"
   ]
  },
  {
   "cell_type": "code",
   "execution_count": 50,
   "id": "solid-indicator",
   "metadata": {},
   "outputs": [],
   "source": [
    "import io\n",
    "import itertools\n",
    "\n",
    "import numpy as np\n",
    "import sklearn.metrics\n",
    "\n",
    "import tensorflow as tf\n",
    "from tensorboard.plugins.hparams import api as hp\n",
    "\n",
    "import matplotlib.pyplot as plt"
   ]
  },
  {
   "cell_type": "markdown",
   "id": "accompanied-partner",
   "metadata": {},
   "source": [
    "## Preprocess Data"
   ]
  },
  {
   "cell_type": "code",
   "execution_count": 51,
   "id": "overall-investigator",
   "metadata": {},
   "outputs": [],
   "source": [
    "train_data = np.load('dataset/Glasses & Sunglasses - Train.npz')\n",
    "validation_data = np.load('dataset/Glasses & Sunglasses - Validation.npz')\n",
    "test_data = np.load('dataset/Glasses & Sunglasses - Test.npz')"
   ]
  },
  {
   "cell_type": "code",
   "execution_count": 52,
   "id": "monetary-belle",
   "metadata": {},
   "outputs": [],
   "source": [
    "images_train, labels_train = train_data['images'], train_data['labels']\n",
    "images_val, labels_val = validation_data['images'], validation_data['labels']\n",
    "images_test, labels_test = test_data['images'], test_data['labels']"
   ]
  },
  {
   "cell_type": "code",
   "execution_count": 53,
   "id": "smart-nevada",
   "metadata": {},
   "outputs": [
    {
     "data": {
      "text/plain": [
       "array([0, 1, 1, ..., 1, 1, 0])"
      ]
     },
     "execution_count": 53,
     "metadata": {},
     "output_type": "execute_result"
    }
   ],
   "source": [
    "labels_train"
   ]
  },
  {
   "cell_type": "code",
   "execution_count": 54,
   "id": "funded-jersey",
   "metadata": {},
   "outputs": [
    {
     "data": {
      "text/plain": [
       "(4002, 120, 90, 3)"
      ]
     },
     "execution_count": 54,
     "metadata": {},
     "output_type": "execute_result"
    }
   ],
   "source": [
    "images_train.shape"
   ]
  },
  {
   "cell_type": "code",
   "execution_count": 55,
   "id": "interracial-stewart",
   "metadata": {},
   "outputs": [
    {
     "data": {
      "text/plain": [
       "(4002,)"
      ]
     },
     "execution_count": 55,
     "metadata": {},
     "output_type": "execute_result"
    }
   ],
   "source": [
    "labels_train.shape"
   ]
  },
  {
   "cell_type": "code",
   "execution_count": 56,
   "id": "thousand-consequence",
   "metadata": {},
   "outputs": [
    {
     "data": {
      "text/plain": [
       "(500, 120, 90, 3)"
      ]
     },
     "execution_count": 56,
     "metadata": {},
     "output_type": "execute_result"
    }
   ],
   "source": [
    "images_val.shape"
   ]
  },
  {
   "cell_type": "code",
   "execution_count": 57,
   "id": "chief-involvement",
   "metadata": {},
   "outputs": [
    {
     "data": {
      "text/plain": [
       "(500, 120, 90, 3)"
      ]
     },
     "execution_count": 57,
     "metadata": {},
     "output_type": "execute_result"
    }
   ],
   "source": [
    "images_test.shape"
   ]
  },
  {
   "cell_type": "code",
   "execution_count": 58,
   "id": "african-passenger",
   "metadata": {},
   "outputs": [
    {
     "data": {
      "text/plain": [
       "(500,)"
      ]
     },
     "execution_count": 58,
     "metadata": {},
     "output_type": "execute_result"
    }
   ],
   "source": [
    "labels_val.shape"
   ]
  },
  {
   "cell_type": "code",
   "execution_count": 59,
   "id": "expected-alfred",
   "metadata": {},
   "outputs": [
    {
     "data": {
      "text/plain": [
       "(500,)"
      ]
     },
     "execution_count": 59,
     "metadata": {},
     "output_type": "execute_result"
    }
   ],
   "source": [
    "labels_test.shape"
   ]
  },
  {
   "cell_type": "code",
   "execution_count": 60,
   "id": "soviet-david",
   "metadata": {},
   "outputs": [],
   "source": [
    "images_train = images_train/255.0\n",
    "images_val = images_val/255.0\n",
    "images_test = images_test/255.0"
   ]
  },
  {
   "cell_type": "markdown",
   "id": "dressed-defendant",
   "metadata": {},
   "source": [
    "## Create the model"
   ]
  },
  {
   "cell_type": "markdown",
   "id": "hazardous-jungle",
   "metadata": {},
   "source": [
    "### Define some hyperparameters"
   ]
  },
  {
   "cell_type": "code",
   "execution_count": 61,
   "id": "legislative-saturday",
   "metadata": {},
   "outputs": [],
   "source": [
    "BATCH_SIZE = 64\n",
    "EPOCHS = 15"
   ]
  },
  {
   "cell_type": "code",
   "execution_count": 62,
   "id": "under-stanford",
   "metadata": {},
   "outputs": [],
   "source": [
    "# hyperparameter tuning\n",
    "HP_KERNEL_SIZE = hp.HParam('kernel size', hp.Discrete([3,5,7]))\n",
    "HP_KERNEL_NUM = hp.HParam('kernel num', hp.Discrete([32,64,96,128]))\n",
    "\n",
    "METRIC = 'accuracy'\n",
    "\n",
    "with tf.summary.create_file_writer(r'Logs/Model 1 (Glasses&Sunglasses)/hparam_tuning/').as_default():\n",
    "    hp.hparams_config(\n",
    "        hparams = [HP_KERNEL_SIZE, HP_KERNEL_NUM],\n",
    "        metrics = [hp.Metric(METRIC, display_name='accuracy')]\n",
    "    )"
   ]
  },
  {
   "cell_type": "code",
   "execution_count": 63,
   "id": "animated-rouge",
   "metadata": {},
   "outputs": [],
   "source": [
    "def train_test_model(hparams, session_num):\n",
    "    model = tf.keras.Sequential([\n",
    "        tf.keras.layers.Conv2D(hparams[HP_KERNEL_NUM], hparams[HP_KERNEL_SIZE], activation = 'relu', input_shape=(120,90,3)),\n",
    "        tf.keras.layers.MaxPooling2D(pool_size=(2,2)),\n",
    "        tf.keras.layers.Conv2D(hparams[HP_KERNEL_NUM], 3, activation = 'relu'),\n",
    "        tf.keras.layers.MaxPooling2D(pool_size=(2,2)),\n",
    "        tf.keras.layers.Flatten(),\n",
    "        tf.keras.layers.Dense(2)\n",
    "    ])\n",
    "    \n",
    "    loss_fn = tf.keras.losses.SparseCategoricalCrossentropy(from_logits = True)\n",
    "    model.compile(optimizer = 'adam', loss = loss_fn, metrics = ['accuracy'])\n",
    "    \n",
    "    log_dir = \"Logs\\\\Model 1 (Glasses&Sunglasses)\\\\fit\\\\\" + f\"run-{session_num}\"\n",
    "    \n",
    "    # functions for creating confusion matrix\n",
    "    def plot_confusion_matrix(cm, class_names):\n",
    "        \"\"\"\n",
    "        Returns a matplotlib figure containing the plotted confusion matrix.\n",
    "\n",
    "        Args:\n",
    "        cm (array, shape = [n, n]): a confusion matrix of integer classes\n",
    "        class_names (array, shape = [n]): String names of the integer classes\n",
    "        \"\"\"\n",
    "        figure = plt.figure(figsize=(12, 12))\n",
    "        plt.imshow(cm, interpolation='nearest', cmap=plt.cm.Blues)\n",
    "        plt.title(\"Confusion matrix\")\n",
    "        plt.colorbar()\n",
    "        tick_marks = np.arange(len(class_names))\n",
    "        plt.xticks(tick_marks, class_names, rotation=45)\n",
    "        plt.yticks(tick_marks, class_names)\n",
    "\n",
    "        # Normalize the confusion matrix.\n",
    "        cm = np.around(cm.astype('float') / cm.sum(axis=1)[:, np.newaxis], decimals=2)\n",
    "\n",
    "        # Use white text if squares are dark; otherwise black.\n",
    "        threshold = cm.max() / 2.\n",
    "        for i, j in itertools.product(range(cm.shape[0]), range(cm.shape[1])):\n",
    "            color = \"white\" if cm[i, j] > threshold else \"black\"\n",
    "            plt.text(j, i, cm[i, j], horizontalalignment=\"center\", color=color)\n",
    "\n",
    "        plt.tight_layout()\n",
    "        plt.ylabel('True label')\n",
    "        plt.xlabel('Predicted label')\n",
    "\n",
    "        return figure\n",
    "\n",
    "    def plot_to_image(figure):\n",
    "        \"\"\"Converts the matplotlib plot specified by 'figure' to a PNG image and\n",
    "        returns it. The supplied figure is closed and inaccessible after this call.\"\"\"\n",
    "\n",
    "        # Save the plot to a PNG in memory.\n",
    "        buf = io.BytesIO()\n",
    "        plt.savefig(buf, format='png')\n",
    "\n",
    "        # Closing the figure prevents it from being displayed directly inside the notebook.\n",
    "        plt.close(figure)\n",
    "\n",
    "        buf.seek(0)\n",
    "\n",
    "        # Convert PNG buffer to TF image\n",
    "        image = tf.image.decode_png(buf.getvalue(), channels=4)\n",
    "\n",
    "        # Add the batch dimension\n",
    "        image = tf.expand_dims(image, 0)\n",
    "\n",
    "        return image\n",
    "\n",
    "    # Define a file writer variable for logging purposes\n",
    "    file_writer_cm = tf.summary.create_file_writer(log_dir + '/cm')\n",
    "\n",
    "    def log_confusion_matrix(epoch, logs):\n",
    "        # Use the model to predict the values from the validation dataset.\n",
    "        test_pred_raw = model.predict(images_val)\n",
    "        test_pred = np.argmax(test_pred_raw, axis=1)\n",
    "\n",
    "        # Calculate the confusion matrix.\n",
    "        cm = sklearn.metrics.confusion_matrix(labels_val, test_pred)\n",
    "\n",
    "        # Log the confusion matrix as an image summary.\n",
    "        figure = plot_confusion_matrix(cm, class_names=['Glasses','Sunglasses'])\n",
    "        cm_image = plot_to_image(figure)\n",
    "\n",
    "        # Log the confusion matrix as an image summary.\n",
    "        with file_writer_cm.as_default():\n",
    "            tf.summary.image(\"Confusion Matrix\", cm_image, step=epoch)\n",
    "    \n",
    "    #callbacks\n",
    "    early_stopping = tf.keras.callbacks.EarlyStopping(patience = 2, restore_best_weights = True)\n",
    "    tensorboard_callbacks = tf.keras.callbacks.TensorBoard(log_dir = log_dir, histogram_freq = 1, profile_batch = 0)\n",
    "    cm_callbacks = tf.keras.callbacks.LambdaCallback(on_epoch_end = log_confusion_matrix)\n",
    "    \n",
    "    model.fit(images_train,\n",
    "              labels_train,\n",
    "              epochs = EPOCHS,\n",
    "              batch_size = BATCH_SIZE,\n",
    "              callbacks = [tensorboard_callbacks, cm_callbacks, early_stopping],\n",
    "              validation_data = (images_val, labels_val),\n",
    "              verbose = 1)\n",
    "    \n",
    "    _, accuracy = model.evaluate(images_val, labels_val)\n",
    "    \n",
    "    model.save(r'saved_models\\Model 1 (Glasses&Sunglasses)\\Run-{}'.format(session_num))\n",
    "    \n",
    "    return accuracy"
   ]
  },
  {
   "cell_type": "code",
   "execution_count": 64,
   "id": "unlikely-macro",
   "metadata": {},
   "outputs": [],
   "source": [
    "def run(log_dir, hparams, session_num):\n",
    "    with tf.summary.create_file_writer(log_dir).as_default():\n",
    "        hp.hparams(hparams)  # record the values used in this trial\n",
    "        accuracy = train_test_model(hparams, session_num)\n",
    "        tf.summary.scalar(METRIC,accuracy,step=1)"
   ]
  },
  {
   "cell_type": "code",
   "execution_count": 65,
   "id": "built-solution",
   "metadata": {},
   "outputs": [
    {
     "name": "stdout",
     "output_type": "stream",
     "text": [
      "--- Starting Trial: run-1\n",
      "{'kernel size': 3, 'kernel num': 32}\n",
      "Epoch 1/15\n",
      "63/63 [==============================] - 18s 289ms/step - loss: 0.4622 - accuracy: 0.7706 - val_loss: 0.2372 - val_accuracy: 0.9440\n",
      "Epoch 2/15\n",
      "63/63 [==============================] - 18s 287ms/step - loss: 0.1595 - accuracy: 0.9465 - val_loss: 0.2229 - val_accuracy: 0.9580\n",
      "Epoch 3/15\n",
      "63/63 [==============================] - 18s 283ms/step - loss: 0.1499 - accuracy: 0.9518 - val_loss: 0.2062 - val_accuracy: 0.9540\n",
      "Epoch 4/15\n",
      "63/63 [==============================] - 18s 279ms/step - loss: 0.1364 - accuracy: 0.9575 - val_loss: 0.2082 - val_accuracy: 0.9500\n",
      "Epoch 5/15\n",
      "63/63 [==============================] - 17s 277ms/step - loss: 0.1358 - accuracy: 0.9580 - val_loss: 0.2037 - val_accuracy: 0.9560\n",
      "Epoch 6/15\n",
      "63/63 [==============================] - 17s 277ms/step - loss: 0.1188 - accuracy: 0.9650 - val_loss: 0.2062 - val_accuracy: 0.9580\n",
      "Epoch 7/15\n",
      "63/63 [==============================] - 18s 289ms/step - loss: 0.1228 - accuracy: 0.9645 - val_loss: 0.2154 - val_accuracy: 0.9640\n",
      "16/16 [==============================] - 1s 38ms/step - loss: 0.2037 - accuracy: 0.9560\n",
      "WARNING:tensorflow:From C:\\Users\\Admin\\anaconda3\\envs\\Python3-TF2\\lib\\site-packages\\tensorflow\\python\\training\\tracking\\tracking.py:111: Model.state_updates (from tensorflow.python.keras.engine.training) is deprecated and will be removed in a future version.\n",
      "Instructions for updating:\n",
      "This property should not be used in TensorFlow 2.0, as updates are applied automatically.\n",
      "WARNING:tensorflow:From C:\\Users\\Admin\\anaconda3\\envs\\Python3-TF2\\lib\\site-packages\\tensorflow\\python\\training\\tracking\\tracking.py:111: Layer.updates (from tensorflow.python.keras.engine.base_layer) is deprecated and will be removed in a future version.\n",
      "Instructions for updating:\n",
      "This property should not be used in TensorFlow 2.0, as updates are applied automatically.\n",
      "INFO:tensorflow:Assets written to: saved_models\\Model 1 (Glasses&Sunglasses)\\Run-1\\assets\n",
      "--- Starting Trial: run-2\n",
      "{'kernel size': 3, 'kernel num': 64}\n",
      "Epoch 1/15\n",
      "63/63 [==============================] - 43s 688ms/step - loss: 0.4312 - accuracy: 0.7914 - val_loss: 0.2115 - val_accuracy: 0.9380\n",
      "Epoch 2/15\n",
      "63/63 [==============================] - 42s 660ms/step - loss: 0.1719 - accuracy: 0.9420 - val_loss: 0.2283 - val_accuracy: 0.9300\n",
      "Epoch 3/15\n",
      "63/63 [==============================] - 37s 590ms/step - loss: 0.1434 - accuracy: 0.9570 - val_loss: 0.2047 - val_accuracy: 0.9580\n",
      "Epoch 4/15\n",
      "63/63 [==============================] - 39s 626ms/step - loss: 0.1364 - accuracy: 0.9598 - val_loss: 0.2104 - val_accuracy: 0.9380\n",
      "Epoch 5/15\n",
      "63/63 [==============================] - 39s 614ms/step - loss: 0.1422 - accuracy: 0.9568 - val_loss: 0.2001 - val_accuracy: 0.9540\n",
      "Epoch 6/15\n",
      "63/63 [==============================] - 41s 655ms/step - loss: 0.1360 - accuracy: 0.9610 - val_loss: 0.2005 - val_accuracy: 0.9560\n",
      "Epoch 7/15\n",
      "63/63 [==============================] - 40s 631ms/step - loss: 0.1217 - accuracy: 0.9655 - val_loss: 0.1928 - val_accuracy: 0.9660\n",
      "Epoch 8/15\n",
      "63/63 [==============================] - 35s 561ms/step - loss: 0.1286 - accuracy: 0.9653 - val_loss: 0.1925 - val_accuracy: 0.9500\n",
      "Epoch 9/15\n",
      "63/63 [==============================] - 35s 555ms/step - loss: 0.1213 - accuracy: 0.9668 - val_loss: 0.1894 - val_accuracy: 0.9560\n",
      "Epoch 10/15\n",
      "63/63 [==============================] - 33s 531ms/step - loss: 0.1230 - accuracy: 0.9660 - val_loss: 0.1948 - val_accuracy: 0.9520\n",
      "Epoch 11/15\n",
      "63/63 [==============================] - 33s 525ms/step - loss: 0.1164 - accuracy: 0.9643 - val_loss: 0.1965 - val_accuracy: 0.9560\n",
      "16/16 [==============================] - 1s 65ms/step - loss: 0.1894 - accuracy: 0.9560\n",
      "INFO:tensorflow:Assets written to: saved_models\\Model 1 (Glasses&Sunglasses)\\Run-2\\assets\n",
      "--- Starting Trial: run-3\n",
      "{'kernel size': 3, 'kernel num': 96}\n",
      "Epoch 1/15\n",
      "63/63 [==============================] - 53s 842ms/step - loss: 0.4311 - accuracy: 0.8111 - val_loss: 0.3180 - val_accuracy: 0.8800\n",
      "Epoch 2/15\n",
      "63/63 [==============================] - 52s 831ms/step - loss: 0.1712 - accuracy: 0.9365 - val_loss: 0.2240 - val_accuracy: 0.9580\n",
      "Epoch 3/15\n",
      "63/63 [==============================] - 58s 919ms/step - loss: 0.1550 - accuracy: 0.9510 - val_loss: 0.2163 - val_accuracy: 0.9360\n",
      "Epoch 4/15\n",
      "63/63 [==============================] - 56s 896ms/step - loss: 0.1420 - accuracy: 0.9578 - val_loss: 0.2173 - val_accuracy: 0.9460\n",
      "Epoch 5/15\n",
      "63/63 [==============================] - 55s 867ms/step - loss: 0.1330 - accuracy: 0.9615 - val_loss: 0.2056 - val_accuracy: 0.9420\n",
      "Epoch 6/15\n",
      "63/63 [==============================] - 54s 865ms/step - loss: 0.1325 - accuracy: 0.9603 - val_loss: 0.1957 - val_accuracy: 0.9460\n",
      "Epoch 7/15\n",
      "63/63 [==============================] - 55s 867ms/step - loss: 0.1385 - accuracy: 0.9575 - val_loss: 0.2001 - val_accuracy: 0.9440\n",
      "Epoch 8/15\n",
      "63/63 [==============================] - 56s 881ms/step - loss: 0.1304 - accuracy: 0.9605 - val_loss: 0.1899 - val_accuracy: 0.9580\n",
      "Epoch 9/15\n",
      "63/63 [==============================] - 56s 892ms/step - loss: 0.1248 - accuracy: 0.9638 - val_loss: 0.1821 - val_accuracy: 0.9620\n",
      "Epoch 10/15\n",
      "63/63 [==============================] - 53s 842ms/step - loss: 0.1288 - accuracy: 0.9625 - val_loss: 0.2055 - val_accuracy: 0.9660\n",
      "Epoch 11/15\n",
      "63/63 [==============================] - 50s 800ms/step - loss: 0.1145 - accuracy: 0.9670 - val_loss: 0.1861 - val_accuracy: 0.9520\n",
      "16/16 [==============================] - 2s 106ms/step - loss: 0.1821 - accuracy: 0.9620\n",
      "INFO:tensorflow:Assets written to: saved_models\\Model 1 (Glasses&Sunglasses)\\Run-3\\assets\n",
      "--- Starting Trial: run-4\n",
      "{'kernel size': 3, 'kernel num': 128}\n",
      "Epoch 1/15\n",
      "63/63 [==============================] - 77s 1s/step - loss: 0.4190 - accuracy: 0.8106 - val_loss: 0.2145 - val_accuracy: 0.9540\n",
      "Epoch 2/15\n",
      "63/63 [==============================] - 76s 1s/step - loss: 0.1598 - accuracy: 0.9505 - val_loss: 0.2001 - val_accuracy: 0.9520\n",
      "Epoch 3/15\n",
      "63/63 [==============================] - 77s 1s/step - loss: 0.1507 - accuracy: 0.9530 - val_loss: 0.2183 - val_accuracy: 0.9600\n",
      "Epoch 4/15\n",
      "63/63 [==============================] - 81s 1s/step - loss: 0.1548 - accuracy: 0.9518 - val_loss: 0.2284 - val_accuracy: 0.9340\n",
      "16/16 [==============================] - 2s 151ms/step - loss: 0.2001 - accuracy: 0.9520\n",
      "INFO:tensorflow:Assets written to: saved_models\\Model 1 (Glasses&Sunglasses)\\Run-4\\assets\n",
      "--- Starting Trial: run-5\n",
      "{'kernel size': 5, 'kernel num': 32}\n",
      "Epoch 1/15\n",
      "63/63 [==============================] - 19s 306ms/step - loss: 0.3372 - accuracy: 0.8748 - val_loss: 0.1997 - val_accuracy: 0.9580\n",
      "Epoch 2/15\n",
      "63/63 [==============================] - 19s 297ms/step - loss: 0.1590 - accuracy: 0.9480 - val_loss: 0.2002 - val_accuracy: 0.9500\n",
      "Epoch 3/15\n",
      "63/63 [==============================] - 19s 296ms/step - loss: 0.1391 - accuracy: 0.9575 - val_loss: 0.2105 - val_accuracy: 0.9400\n",
      "16/16 [==============================] - 1s 40ms/step - loss: 0.1997 - accuracy: 0.9580\n",
      "INFO:tensorflow:Assets written to: saved_models\\Model 1 (Glasses&Sunglasses)\\Run-5\\assets\n",
      "--- Starting Trial: run-6\n",
      "{'kernel size': 5, 'kernel num': 64}\n",
      "Epoch 1/15\n",
      "63/63 [==============================] - 37s 585ms/step - loss: 0.3690 - accuracy: 0.8583 - val_loss: 0.2253 - val_accuracy: 0.9580\n",
      "Epoch 2/15\n",
      "63/63 [==============================] - 36s 572ms/step - loss: 0.1763 - accuracy: 0.9418 - val_loss: 0.2179 - val_accuracy: 0.9400\n",
      "Epoch 3/15\n",
      "63/63 [==============================] - 37s 581ms/step - loss: 0.1550 - accuracy: 0.9498 - val_loss: 0.2096 - val_accuracy: 0.9640\n",
      "Epoch 4/15\n",
      "63/63 [==============================] - 36s 576ms/step - loss: 0.1398 - accuracy: 0.9580 - val_loss: 0.2212 - val_accuracy: 0.9420\n",
      "Epoch 5/15\n",
      "63/63 [==============================] - 36s 578ms/step - loss: 0.1586 - accuracy: 0.9498 - val_loss: 0.2200 - val_accuracy: 0.9340\n",
      "16/16 [==============================] - 1s 73ms/step - loss: 0.2096 - accuracy: 0.9640\n",
      "INFO:tensorflow:Assets written to: saved_models\\Model 1 (Glasses&Sunglasses)\\Run-6\\assets\n",
      "--- Starting Trial: run-7\n",
      "{'kernel size': 5, 'kernel num': 96}\n",
      "Epoch 1/15\n"
     ]
    },
    {
     "name": "stdout",
     "output_type": "stream",
     "text": [
      "63/63 [==============================] - 55s 878ms/step - loss: 0.3875 - accuracy: 0.8263 - val_loss: 0.2229 - val_accuracy: 0.9360\n",
      "Epoch 2/15\n",
      "63/63 [==============================] - 56s 882ms/step - loss: 0.1715 - accuracy: 0.9445 - val_loss: 0.2259 - val_accuracy: 0.9360\n",
      "Epoch 3/15\n",
      "63/63 [==============================] - 56s 881ms/step - loss: 0.1660 - accuracy: 0.9468 - val_loss: 0.2096 - val_accuracy: 0.9400\n",
      "Epoch 4/15\n",
      "63/63 [==============================] - 55s 879ms/step - loss: 0.1488 - accuracy: 0.9548 - val_loss: 0.2165 - val_accuracy: 0.9600\n",
      "Epoch 5/15\n",
      "63/63 [==============================] - 55s 877ms/step - loss: 0.1572 - accuracy: 0.9525 - val_loss: 0.2029 - val_accuracy: 0.9440\n",
      "Epoch 6/15\n",
      "63/63 [==============================] - 56s 884ms/step - loss: 0.1657 - accuracy: 0.9493 - val_loss: 0.2691 - val_accuracy: 0.9300\n",
      "Epoch 7/15\n",
      "63/63 [==============================] - 56s 888ms/step - loss: 0.1458 - accuracy: 0.9548 - val_loss: 0.2056 - val_accuracy: 0.9480\n",
      "16/16 [==============================] - 2s 107ms/step - loss: 0.2029 - accuracy: 0.9440\n",
      "INFO:tensorflow:Assets written to: saved_models\\Model 1 (Glasses&Sunglasses)\\Run-7\\assets\n",
      "--- Starting Trial: run-8\n",
      "{'kernel size': 5, 'kernel num': 128}\n",
      "Epoch 1/15\n",
      "63/63 [==============================] - 80s 1s/step - loss: 0.3638 - accuracy: 0.8316 - val_loss: 0.2121 - val_accuracy: 0.9380\n",
      "Epoch 2/15\n",
      "63/63 [==============================] - 80s 1s/step - loss: 0.1580 - accuracy: 0.9513 - val_loss: 0.2138 - val_accuracy: 0.9540\n",
      "Epoch 3/15\n",
      "63/63 [==============================] - 80s 1s/step - loss: 0.1419 - accuracy: 0.9575 - val_loss: 0.1998 - val_accuracy: 0.9460\n",
      "Epoch 4/15\n",
      "63/63 [==============================] - 80s 1s/step - loss: 0.1368 - accuracy: 0.9575 - val_loss: 0.2097 - val_accuracy: 0.9580\n",
      "Epoch 5/15\n",
      "63/63 [==============================] - 79s 1s/step - loss: 0.1438 - accuracy: 0.9590 - val_loss: 0.2394 - val_accuracy: 0.9080\n",
      "16/16 [==============================] - 2s 155ms/step - loss: 0.1998 - accuracy: 0.9460\n",
      "INFO:tensorflow:Assets written to: saved_models\\Model 1 (Glasses&Sunglasses)\\Run-8\\assets\n",
      "--- Starting Trial: run-9\n",
      "{'kernel size': 7, 'kernel num': 32}\n",
      "Epoch 1/15\n",
      "63/63 [==============================] - 24s 385ms/step - loss: 0.3715 - accuracy: 0.8376 - val_loss: 0.2175 - val_accuracy: 0.9580\n",
      "Epoch 2/15\n",
      "63/63 [==============================] - 24s 380ms/step - loss: 0.1758 - accuracy: 0.9398 - val_loss: 0.2195 - val_accuracy: 0.9600\n",
      "Epoch 3/15\n",
      "63/63 [==============================] - 24s 379ms/step - loss: 0.1505 - accuracy: 0.9555 - val_loss: 0.2149 - val_accuracy: 0.9600\n",
      "Epoch 4/15\n",
      "63/63 [==============================] - 24s 383ms/step - loss: 0.1431 - accuracy: 0.9563 - val_loss: 0.2415 - val_accuracy: 0.9560\n",
      "Epoch 5/15\n",
      "63/63 [==============================] - 24s 376ms/step - loss: 0.1393 - accuracy: 0.9578 - val_loss: 0.2129 - val_accuracy: 0.9580\n",
      "Epoch 6/15\n",
      "63/63 [==============================] - 24s 380ms/step - loss: 0.1298 - accuracy: 0.9613 - val_loss: 0.1863 - val_accuracy: 0.9640\n",
      "Epoch 7/15\n",
      "63/63 [==============================] - 24s 378ms/step - loss: 0.1304 - accuracy: 0.9633 - val_loss: 0.1975 - val_accuracy: 0.9600\n",
      "Epoch 8/15\n",
      "63/63 [==============================] - 24s 380ms/step - loss: 0.1254 - accuracy: 0.9673 - val_loss: 0.1937 - val_accuracy: 0.9640\n",
      "16/16 [==============================] - 1s 47ms/step - loss: 0.1863 - accuracy: 0.9640\n",
      "INFO:tensorflow:Assets written to: saved_models\\Model 1 (Glasses&Sunglasses)\\Run-9\\assets\n",
      "--- Starting Trial: run-10\n",
      "{'kernel size': 7, 'kernel num': 64}\n",
      "Epoch 1/15\n",
      "63/63 [==============================] - 40s 635ms/step - loss: 0.4105 - accuracy: 0.8046 - val_loss: 0.2820 - val_accuracy: 0.8900\n",
      "Epoch 2/15\n",
      "63/63 [==============================] - 40s 630ms/step - loss: 0.1681 - accuracy: 0.9458 - val_loss: 0.1984 - val_accuracy: 0.9400\n",
      "Epoch 3/15\n",
      "63/63 [==============================] - 39s 624ms/step - loss: 0.1469 - accuracy: 0.9560 - val_loss: 0.2042 - val_accuracy: 0.9620\n",
      "Epoch 4/15\n",
      "63/63 [==============================] - 40s 631ms/step - loss: 0.1478 - accuracy: 0.9538 - val_loss: 0.1909 - val_accuracy: 0.9620\n",
      "Epoch 5/15\n",
      "63/63 [==============================] - 40s 631ms/step - loss: 0.1404 - accuracy: 0.9548 - val_loss: 0.1965 - val_accuracy: 0.9600\n",
      "Epoch 6/15\n",
      "63/63 [==============================] - 40s 631ms/step - loss: 0.1374 - accuracy: 0.9570 - val_loss: 0.2159 - val_accuracy: 0.9660\n",
      "16/16 [==============================] - 1s 80ms/step - loss: 0.1909 - accuracy: 0.9620\n",
      "INFO:tensorflow:Assets written to: saved_models\\Model 1 (Glasses&Sunglasses)\\Run-10\\assets\n",
      "--- Starting Trial: run-11\n",
      "{'kernel size': 7, 'kernel num': 96}\n",
      "Epoch 1/15\n",
      "63/63 [==============================] - 59s 944ms/step - loss: 0.3526 - accuracy: 0.8633 - val_loss: 0.2036 - val_accuracy: 0.9480\n",
      "Epoch 2/15\n",
      "63/63 [==============================] - 60s 946ms/step - loss: 0.1562 - accuracy: 0.9520 - val_loss: 0.2070 - val_accuracy: 0.9420\n",
      "Epoch 3/15\n",
      "63/63 [==============================] - 60s 945ms/step - loss: 0.1785 - accuracy: 0.9378 - val_loss: 0.2159 - val_accuracy: 0.9540\n",
      "16/16 [==============================] - 2s 117ms/step - loss: 0.2036 - accuracy: 0.9480\n",
      "INFO:tensorflow:Assets written to: saved_models\\Model 1 (Glasses&Sunglasses)\\Run-11\\assets\n",
      "--- Starting Trial: run-12\n",
      "{'kernel size': 7, 'kernel num': 128}\n",
      "Epoch 1/15\n",
      "63/63 [==============================] - 84s 1s/step - loss: 0.3928 - accuracy: 0.8188 - val_loss: 0.2496 - val_accuracy: 0.9540\n",
      "Epoch 2/15\n",
      "63/63 [==============================] - 85s 1s/step - loss: 0.1645 - accuracy: 0.9478 - val_loss: 0.2601 - val_accuracy: 0.9180\n",
      "Epoch 3/15\n",
      "63/63 [==============================] - 84s 1s/step - loss: 0.1582 - accuracy: 0.9513 - val_loss: 0.2025 - val_accuracy: 0.9500\n",
      "Epoch 4/15\n",
      "63/63 [==============================] - 83s 1s/step - loss: 0.1556 - accuracy: 0.9540 - val_loss: 0.2051 - val_accuracy: 0.9640\n",
      "Epoch 5/15\n",
      "63/63 [==============================] - 83s 1s/step - loss: 0.1349 - accuracy: 0.9590 - val_loss: 0.2027 - val_accuracy: 0.9600\n",
      "16/16 [==============================] - 3s 172ms/step - loss: 0.2025 - accuracy: 0.9500\n",
      "INFO:tensorflow:Assets written to: saved_models\\Model 1 (Glasses&Sunglasses)\\Run-12\\assets\n"
     ]
    }
   ],
   "source": [
    "session_num = 1\n",
    "# all hparams combination\n",
    "for kernel_size in HP_KERNEL_SIZE.domain.values:\n",
    "    for kernel_num in HP_KERNEL_NUM.domain.values:\n",
    "        hparams = {\n",
    "            HP_KERNEL_SIZE : kernel_size,\n",
    "            HP_KERNEL_NUM : kernel_num\n",
    "        }\n",
    "        run_name = f\"run-{session_num}\"\n",
    "        print('--- Starting Trial:',run_name)\n",
    "        print({h.name: hparams[h] for h in hparams})\n",
    "        run(\"Logs/Model 1 (Glasses&Sunglasses)/hparam_tuning/\" + run_name, hparams, session_num)\n",
    "        \n",
    "        session_num += 1"
   ]
  }
 ],
 "metadata": {
  "kernelspec": {
   "display_name": "Python 3 (TF2)",
   "language": "python",
   "name": "python3-tf2"
  },
  "language_info": {
   "codemirror_mode": {
    "name": "ipython",
    "version": 3
   },
   "file_extension": ".py",
   "mimetype": "text/x-python",
   "name": "python",
   "nbconvert_exporter": "python",
   "pygments_lexer": "ipython3",
   "version": "3.8.5"
  }
 },
 "nbformat": 4,
 "nbformat_minor": 5
}
