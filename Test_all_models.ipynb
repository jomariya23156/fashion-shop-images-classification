{
 "cells": [
  {
   "cell_type": "markdown",
   "id": "beginning-fifth",
   "metadata": {},
   "source": [
    "# Import libraries"
   ]
  },
  {
   "cell_type": "code",
   "execution_count": 73,
   "id": "incredible-blackberry",
   "metadata": {
    "ExecuteTime": {
     "end_time": "2021-03-04T15:48:24.504517Z",
     "start_time": "2021-03-04T15:48:24.497156Z"
    }
   },
   "outputs": [],
   "source": [
    "import numpy as np\n",
    "import tensorflow as tf\n",
    "import sklearn.metrics"
   ]
  },
  {
   "cell_type": "markdown",
   "id": "mineral-margin",
   "metadata": {},
   "source": [
    "# Test all best performance models for each classification"
   ]
  },
  {
   "cell_type": "markdown",
   "id": "forward-butler",
   "metadata": {},
   "source": [
    "## Primary classification\n",
    "glasses&sunglasses or trousers&jeans or shoes"
   ]
  },
  {
   "cell_type": "code",
   "execution_count": 74,
   "id": "derived-logistics",
   "metadata": {
    "ExecuteTime": {
     "end_time": "2021-03-04T15:48:24.520523Z",
     "start_time": "2021-03-04T15:48:24.506512Z"
    }
   },
   "outputs": [],
   "source": [
    "# load test data\n",
    "primary_test_data = np.load('dataset/Primary categories - Test.npz')"
   ]
  },
  {
   "cell_type": "code",
   "execution_count": 75,
   "id": "looking-standing",
   "metadata": {
    "ExecuteTime": {
     "end_time": "2021-03-04T15:48:24.535862Z",
     "start_time": "2021-03-04T15:48:24.523031Z"
    }
   },
   "outputs": [
    {
     "data": {
      "text/plain": [
       "['images', 'labels']"
      ]
     },
     "execution_count": 75,
     "metadata": {},
     "output_type": "execute_result"
    }
   ],
   "source": [
    "primary_test_data.files"
   ]
  },
  {
   "cell_type": "code",
   "execution_count": 76,
   "id": "scenic-grant",
   "metadata": {
    "ExecuteTime": {
     "end_time": "2021-03-04T15:48:24.551734Z",
     "start_time": "2021-03-04T15:48:24.538334Z"
    }
   },
   "outputs": [
    {
     "data": {
      "text/plain": [
       "array([0, 1, 2])"
      ]
     },
     "execution_count": 76,
     "metadata": {},
     "output_type": "execute_result"
    }
   ],
   "source": [
    "np.unique(primary_test_data['labels'])"
   ]
  },
  {
   "cell_type": "code",
   "execution_count": 77,
   "id": "elect-dream",
   "metadata": {
    "ExecuteTime": {
     "end_time": "2021-03-04T15:48:24.674949Z",
     "start_time": "2021-03-04T15:48:24.553666Z"
    }
   },
   "outputs": [],
   "source": [
    "primary_images_test, primary_labels_test = primary_test_data['images'], primary_test_data['labels']"
   ]
  },
  {
   "cell_type": "code",
   "execution_count": 78,
   "id": "conscious-cleaning",
   "metadata": {
    "ExecuteTime": {
     "end_time": "2021-03-04T15:48:24.690359Z",
     "start_time": "2021-03-04T15:48:24.677021Z"
    }
   },
   "outputs": [
    {
     "data": {
      "text/plain": [
       "(1620, 120, 90, 3)"
      ]
     },
     "execution_count": 78,
     "metadata": {},
     "output_type": "execute_result"
    }
   ],
   "source": [
    "primary_images_test.shape"
   ]
  },
  {
   "cell_type": "code",
   "execution_count": 79,
   "id": "advanced-marketplace",
   "metadata": {
    "ExecuteTime": {
     "end_time": "2021-03-04T15:48:24.861050Z",
     "start_time": "2021-03-04T15:48:24.692354Z"
    }
   },
   "outputs": [],
   "source": [
    "# standardize\n",
    "primary_images_test = primary_images_test / 255.0"
   ]
  },
  {
   "cell_type": "code",
   "execution_count": 80,
   "id": "manufactured-chrome",
   "metadata": {
    "ExecuteTime": {
     "end_time": "2021-03-04T15:48:26.116028Z",
     "start_time": "2021-03-04T15:48:24.864042Z"
    }
   },
   "outputs": [],
   "source": [
    "primary_classification_model = tf.keras.models.load_model('saved_models/Model 1 (Primary Classification)/Run-2/')"
   ]
  },
  {
   "cell_type": "code",
   "execution_count": 81,
   "id": "banner-brass",
   "metadata": {
    "ExecuteTime": {
     "end_time": "2021-03-04T15:48:26.131624Z",
     "start_time": "2021-03-04T15:48:26.120551Z"
    },
    "scrolled": false
   },
   "outputs": [
    {
     "name": "stdout",
     "output_type": "stream",
     "text": [
      "Model: \"sequential_1\"\n",
      "_________________________________________________________________\n",
      "Layer (type)                 Output Shape              Param #   \n",
      "=================================================================\n",
      "conv2d_2 (Conv2D)            (None, 118, 88, 64)       1792      \n",
      "_________________________________________________________________\n",
      "max_pooling2d_2 (MaxPooling2 (None, 59, 44, 64)        0         \n",
      "_________________________________________________________________\n",
      "conv2d_3 (Conv2D)            (None, 57, 42, 64)        36928     \n",
      "_________________________________________________________________\n",
      "max_pooling2d_3 (MaxPooling2 (None, 28, 21, 64)        0         \n",
      "_________________________________________________________________\n",
      "flatten_1 (Flatten)          (None, 37632)             0         \n",
      "_________________________________________________________________\n",
      "dense_1 (Dense)              (None, 3)                 112899    \n",
      "=================================================================\n",
      "Total params: 151,619\n",
      "Trainable params: 151,619\n",
      "Non-trainable params: 0\n",
      "_________________________________________________________________\n"
     ]
    }
   ],
   "source": [
    "primary_classification_model.summary()"
   ]
  },
  {
   "cell_type": "code",
   "execution_count": 82,
   "id": "liberal-correspondence",
   "metadata": {
    "ExecuteTime": {
     "end_time": "2021-03-04T15:48:30.679658Z",
     "start_time": "2021-03-04T15:48:26.135127Z"
    },
    "scrolled": true
   },
   "outputs": [
    {
     "name": "stdout",
     "output_type": "stream",
     "text": [
      "51/51 [==============================] - 4s 82ms/step - loss: 0.0326 - accuracy: 0.3185\n"
     ]
    },
    {
     "data": {
      "text/plain": [
       "0.3185185194015503"
      ]
     },
     "execution_count": 82,
     "metadata": {},
     "output_type": "execute_result"
    }
   ],
   "source": [
    "loss, accuracy = primary_classification_model.evaluate(primary_images_test, primary_labels_test)\n",
    "accuracy"
   ]
  },
  {
   "cell_type": "markdown",
   "id": "played-behalf",
   "metadata": {},
   "source": [
    "something wrong might happen with the model.evaluate\n",
    "### Let's try calculating  the accuracy mannually"
   ]
  },
  {
   "cell_type": "code",
   "execution_count": 83,
   "id": "technological-designation",
   "metadata": {
    "ExecuteTime": {
     "end_time": "2021-03-04T15:48:41.252567Z",
     "start_time": "2021-03-04T15:48:30.681629Z"
    }
   },
   "outputs": [],
   "source": [
    "primary_score = 0\n",
    "for i in range(len(primary_images_test)):\n",
    "\n",
    "    # pass the value manually\n",
    "    predicted = primary_classification_model(primary_images_test[i:i+1])\n",
    "    label_predicted = np.argmax(predicted)\n",
    "    if label_predicted == primary_labels_test[i]:\n",
    "        primary_score += 1"
   ]
  },
  {
   "cell_type": "code",
   "execution_count": 84,
   "id": "dutch-silence",
   "metadata": {
    "ExecuteTime": {
     "end_time": "2021-03-04T15:48:41.268431Z",
     "start_time": "2021-03-04T15:48:41.254427Z"
    }
   },
   "outputs": [
    {
     "data": {
      "text/plain": [
       "0.9975308641975309"
      ]
     },
     "execution_count": 84,
     "metadata": {},
     "output_type": "execute_result"
    }
   ],
   "source": [
    "primary_score / primary_images_test.shape[0]"
   ]
  },
  {
   "cell_type": "markdown",
   "id": "beginning-corporation",
   "metadata": {},
   "source": [
    "### Another way to calculate accuracy mannually"
   ]
  },
  {
   "cell_type": "code",
   "execution_count": 85,
   "id": "continuous-willow",
   "metadata": {
    "ExecuteTime": {
     "end_time": "2021-03-04T15:48:45.447347Z",
     "start_time": "2021-03-04T15:48:41.271964Z"
    }
   },
   "outputs": [
    {
     "data": {
      "text/plain": [
       "array([0, 2, 2, ..., 2, 2, 1], dtype=int64)"
      ]
     },
     "execution_count": 85,
     "metadata": {},
     "output_type": "execute_result"
    }
   ],
   "source": [
    "# argmax is the index of the highest value (probability, in this case)\n",
    "# this's also our predicted labels\n",
    "# axis = 1 for find max along all columns not row\n",
    "np.argmax(primary_classification_model.predict(primary_images_test), axis = 1)"
   ]
  },
  {
   "cell_type": "code",
   "execution_count": 86,
   "id": "excited-scene",
   "metadata": {
    "ExecuteTime": {
     "end_time": "2021-03-04T15:48:49.846320Z",
     "start_time": "2021-03-04T15:48:45.449342Z"
    }
   },
   "outputs": [],
   "source": [
    "correct_predict = np.argmax(primary_classification_model.predict(primary_images_test), axis = 1) == primary_labels_test"
   ]
  },
  {
   "cell_type": "code",
   "execution_count": 87,
   "id": "incomplete-portfolio",
   "metadata": {
    "ExecuteTime": {
     "end_time": "2021-03-04T15:48:49.861350Z",
     "start_time": "2021-03-04T15:48:49.847825Z"
    }
   },
   "outputs": [
    {
     "data": {
      "text/plain": [
       "0.9975308641975309"
      ]
     },
     "execution_count": 87,
     "metadata": {},
     "output_type": "execute_result"
    }
   ],
   "source": [
    "primary_accuracy = np.sum(correct_predict) / primary_labels_test.shape[0]\n",
    "primary_accuracy"
   ]
  },
  {
   "cell_type": "markdown",
   "id": "eight-cheat",
   "metadata": {},
   "source": [
    "## Glasses&Sunglasses"
   ]
  },
  {
   "cell_type": "code",
   "execution_count": 88,
   "id": "informative-swedish",
   "metadata": {
    "ExecuteTime": {
     "end_time": "2021-03-04T15:48:49.876578Z",
     "start_time": "2021-03-04T15:48:49.864312Z"
    }
   },
   "outputs": [],
   "source": [
    "glasses_test_data = np.load('dataset/Glasses & Sunglasses - Test.npz')"
   ]
  },
  {
   "cell_type": "code",
   "execution_count": 89,
   "id": "adverse-declaration",
   "metadata": {
    "ExecuteTime": {
     "end_time": "2021-03-04T15:48:49.892524Z",
     "start_time": "2021-03-04T15:48:49.878541Z"
    }
   },
   "outputs": [
    {
     "data": {
      "text/plain": [
       "['images', 'labels']"
      ]
     },
     "execution_count": 89,
     "metadata": {},
     "output_type": "execute_result"
    }
   ],
   "source": [
    "glasses_test_data.files"
   ]
  },
  {
   "cell_type": "code",
   "execution_count": 90,
   "id": "strange-boundary",
   "metadata": {
    "ExecuteTime": {
     "end_time": "2021-03-04T15:48:49.939194Z",
     "start_time": "2021-03-04T15:48:49.894520Z"
    }
   },
   "outputs": [],
   "source": [
    "glasses_images_test = glasses_test_data['images']\n",
    "glasses_labels_test = glasses_test_data['labels']"
   ]
  },
  {
   "cell_type": "code",
   "execution_count": 91,
   "id": "white-variance",
   "metadata": {
    "ExecuteTime": {
     "end_time": "2021-03-04T15:48:50.001277Z",
     "start_time": "2021-03-04T15:48:49.940191Z"
    }
   },
   "outputs": [],
   "source": [
    "# Standardize\n",
    "glasses_images_test = glasses_images_test / 255.0"
   ]
  },
  {
   "cell_type": "code",
   "execution_count": 92,
   "id": "tribal-influence",
   "metadata": {
    "ExecuteTime": {
     "end_time": "2021-03-04T15:48:50.851531Z",
     "start_time": "2021-03-04T15:48:50.003270Z"
    }
   },
   "outputs": [],
   "source": [
    "glasses_model = tf.keras.models.load_model('saved_models/Model 1 (Glasses&Sunglasses)/Run-6')"
   ]
  },
  {
   "cell_type": "code",
   "execution_count": 93,
   "id": "japanese-queens",
   "metadata": {
    "ExecuteTime": {
     "end_time": "2021-03-04T15:48:52.441359Z",
     "start_time": "2021-03-04T15:48:50.853045Z"
    }
   },
   "outputs": [
    {
     "name": "stdout",
     "output_type": "stream",
     "text": [
      "16/16 [==============================] - 1s 81ms/step - loss: 0.1621 - accuracy: 0.3920\n"
     ]
    },
    {
     "data": {
      "text/plain": [
       "0.3919999897480011"
      ]
     },
     "execution_count": 93,
     "metadata": {},
     "output_type": "execute_result"
    }
   ],
   "source": [
    "glasses_loss, glasses_accuracy = glasses_model.evaluate(glasses_images_test, glasses_labels_test)\n",
    "glasses_accuracy"
   ]
  },
  {
   "cell_type": "code",
   "execution_count": 94,
   "id": "stopped-overview",
   "metadata": {
    "ExecuteTime": {
     "end_time": "2021-03-04T15:48:53.960629Z",
     "start_time": "2021-03-04T15:48:52.443861Z"
    }
   },
   "outputs": [
    {
     "data": {
      "text/plain": [
       "0.956"
      ]
     },
     "execution_count": 94,
     "metadata": {},
     "output_type": "execute_result"
    }
   ],
   "source": [
    "# calculate accuracy manually\n",
    "correct_predict = np.argmax(glasses_model.predict(glasses_images_test), axis = 1) == glasses_labels_test\n",
    "glasses_accuracy = np.sum(correct_predict) / glasses_labels_test.shape[0]\n",
    "glasses_accuracy"
   ]
  },
  {
   "cell_type": "markdown",
   "id": "potential-greenhouse",
   "metadata": {},
   "source": [
    "## Shoes_All_Dropout (Combined)\n",
    "All labels are 'Boots Male', 'Trainers/Sneakers Male', 'Sandals/Flip flops/Slippers Male', 'Formal shoes Male','Others Male', 'Boots Female', 'Ballerina Female', 'Trainers/Sneakers Female','High heels Female', 'Sandals/Flip flops/Slippers Female', 'Others Female' the labels number are in this exact order 0 to 10"
   ]
  },
  {
   "cell_type": "code",
   "execution_count": 95,
   "id": "exact-anxiety",
   "metadata": {
    "ExecuteTime": {
     "end_time": "2021-03-04T15:48:53.976745Z",
     "start_time": "2021-03-04T15:48:53.964661Z"
    }
   },
   "outputs": [],
   "source": [
    "shoes_all_test_data = np.load('dataset/Shoes - All - Test.npz')"
   ]
  },
  {
   "cell_type": "code",
   "execution_count": 96,
   "id": "blocked-transcript",
   "metadata": {
    "ExecuteTime": {
     "end_time": "2021-03-04T15:48:54.038513Z",
     "start_time": "2021-03-04T15:48:53.981501Z"
    }
   },
   "outputs": [],
   "source": [
    "shoes_all_images_test = shoes_all_test_data['images']\n",
    "shoes_all_labels_test = shoes_all_test_data['labels']"
   ]
  },
  {
   "cell_type": "code",
   "execution_count": 97,
   "id": "reduced-conjunction",
   "metadata": {
    "ExecuteTime": {
     "end_time": "2021-03-04T15:48:54.116157Z",
     "start_time": "2021-03-04T15:48:54.040506Z"
    }
   },
   "outputs": [],
   "source": [
    "shoes_all_images_test = shoes_all_images_test / 255.0"
   ]
  },
  {
   "cell_type": "code",
   "execution_count": 98,
   "id": "chinese-drain",
   "metadata": {
    "ExecuteTime": {
     "end_time": "2021-03-04T15:48:56.373866Z",
     "start_time": "2021-03-04T15:48:54.117662Z"
    }
   },
   "outputs": [],
   "source": [
    "shoes_all_model = tf.keras.models.load_model('saved_models/Model 1 (Shoes_All_Dropout)/Run-18')"
   ]
  },
  {
   "cell_type": "code",
   "execution_count": 99,
   "id": "grand-aaron",
   "metadata": {
    "ExecuteTime": {
     "end_time": "2021-03-04T15:49:03.070835Z",
     "start_time": "2021-03-04T15:48:56.375830Z"
    }
   },
   "outputs": [
    {
     "name": "stdout",
     "output_type": "stream",
     "text": [
      "20/20 [==============================] - 6s 308ms/step - loss: 0.7046 - accuracy: 0.0856\n"
     ]
    },
    {
     "data": {
      "text/plain": [
       "0.08562196791172028"
      ]
     },
     "execution_count": 99,
     "metadata": {},
     "output_type": "execute_result"
    }
   ],
   "source": [
    "shoes_all_loss, shoes_all_accuracy = shoes_all_model.evaluate(shoes_all_images_test, shoes_all_labels_test)\n",
    "shoes_all_accuracy"
   ]
  },
  {
   "cell_type": "code",
   "execution_count": 100,
   "id": "eleven-edward",
   "metadata": {
    "ExecuteTime": {
     "end_time": "2021-03-04T15:49:09.546898Z",
     "start_time": "2021-03-04T15:49:03.072347Z"
    }
   },
   "outputs": [
    {
     "data": {
      "text/plain": [
       "0.7512116316639742"
      ]
     },
     "execution_count": 100,
     "metadata": {},
     "output_type": "execute_result"
    }
   ],
   "source": [
    "# calculate accuracy manually\n",
    "correct_predict = np.argmax(shoes_all_model.predict(shoes_all_images_test), axis = 1) == shoes_all_labels_test\n",
    "shoes_all_accuracy = np.sum(correct_predict) / shoes_all_labels_test.shape[0]\n",
    "shoes_all_accuracy"
   ]
  },
  {
   "cell_type": "markdown",
   "id": "approximate-stake",
   "metadata": {},
   "source": [
    "## Shoes_Gender_L2 (Hierarchical)\n",
    "male's shoes or female's shoes"
   ]
  },
  {
   "cell_type": "code",
   "execution_count": 101,
   "id": "verbal-schedule",
   "metadata": {
    "ExecuteTime": {
     "end_time": "2021-03-04T15:49:09.562173Z",
     "start_time": "2021-03-04T15:49:09.549136Z"
    }
   },
   "outputs": [],
   "source": [
    "shoes_gender_test_data = np.load('dataset/Shoes - All - Test.npz')"
   ]
  },
  {
   "cell_type": "code",
   "execution_count": 102,
   "id": "neither-surfing",
   "metadata": {
    "ExecuteTime": {
     "end_time": "2021-03-04T15:49:09.670659Z",
     "start_time": "2021-03-04T15:49:09.565622Z"
    }
   },
   "outputs": [],
   "source": [
    "shoes_gender_images_test = shoes_gender_test_data['images'] / 255.0\n",
    "shoes_gender_genders_test = shoes_gender_test_data['genders']"
   ]
  },
  {
   "cell_type": "code",
   "execution_count": 103,
   "id": "varied-saturn",
   "metadata": {
    "ExecuteTime": {
     "end_time": "2021-03-04T15:49:11.666111Z",
     "start_time": "2021-03-04T15:49:09.672164Z"
    }
   },
   "outputs": [],
   "source": [
    "shoes_gender_model = tf.keras.models.load_model('saved_models/Model 1 (Shoes_Gender_L2)/Run-14')"
   ]
  },
  {
   "cell_type": "code",
   "execution_count": 104,
   "id": "extreme-nickname",
   "metadata": {
    "ExecuteTime": {
     "end_time": "2021-03-04T15:49:14.258827Z",
     "start_time": "2021-03-04T15:49:11.667619Z"
    }
   },
   "outputs": [
    {
     "data": {
      "text/plain": [
       "0.8222940226171244"
      ]
     },
     "execution_count": 104,
     "metadata": {},
     "output_type": "execute_result"
    }
   ],
   "source": [
    "# calculate accuracy manually\n",
    "correct_predict = np.argmax(shoes_gender_model.predict(shoes_gender_images_test), axis = 1) == shoes_gender_genders_test\n",
    "shoes_gender_accuracy = np.sum(correct_predict) / shoes_gender_genders_test.shape[0]\n",
    "shoes_gender_accuracy"
   ]
  },
  {
   "cell_type": "markdown",
   "id": "medium-korea",
   "metadata": {},
   "source": [
    "## Shoes_Male_L2 (Hierarchical)\n",
    "All labels are 'Boots Male', 'Trainers/Sneakers Male', 'Sandals/Flip flops/Slippers Male', 'Formal shoes Male','Others Male' the labels number are in this exact order 0 to 4"
   ]
  },
  {
   "cell_type": "code",
   "execution_count": 105,
   "id": "asian-spouse",
   "metadata": {
    "ExecuteTime": {
     "end_time": "2021-03-04T15:49:14.273902Z",
     "start_time": "2021-03-04T15:49:14.260339Z"
    }
   },
   "outputs": [],
   "source": [
    "shoes_male_test_data = np.load('dataset/Shoes - Male - Test.npz')"
   ]
  },
  {
   "cell_type": "code",
   "execution_count": 106,
   "id": "artistic-counter",
   "metadata": {
    "ExecuteTime": {
     "end_time": "2021-03-04T15:49:14.335275Z",
     "start_time": "2021-03-04T15:49:14.278425Z"
    }
   },
   "outputs": [],
   "source": [
    "shoes_male_images_test = shoes_male_test_data['images'] / 255.0\n",
    "shoes_male_labels_test = shoes_male_test_data['labels']"
   ]
  },
  {
   "cell_type": "code",
   "execution_count": 107,
   "id": "surgical-parade",
   "metadata": {
    "ExecuteTime": {
     "end_time": "2021-03-04T15:49:16.141491Z",
     "start_time": "2021-03-04T15:49:14.337510Z"
    }
   },
   "outputs": [],
   "source": [
    "shoes_male_model = tf.keras.models.load_model('saved_models/Model 1 (Shoes_Male_L2)/Run-2')"
   ]
  },
  {
   "cell_type": "code",
   "execution_count": 108,
   "id": "humanitarian-witness",
   "metadata": {
    "ExecuteTime": {
     "end_time": "2021-03-04T15:49:16.965905Z",
     "start_time": "2021-03-04T15:49:16.143486Z"
    }
   },
   "outputs": [
    {
     "data": {
      "text/plain": [
       "0.8764478764478765"
      ]
     },
     "execution_count": 108,
     "metadata": {},
     "output_type": "execute_result"
    }
   ],
   "source": [
    "correct_predict = np.argmax(shoes_male_model.predict(shoes_male_images_test), axis = 1) == shoes_male_labels_test\n",
    "shoes_male_accuracy = np.sum(correct_predict) / shoes_male_labels_test.shape[0]\n",
    "shoes_male_accuracy"
   ]
  },
  {
   "cell_type": "markdown",
   "id": "seventh-cemetery",
   "metadata": {},
   "source": [
    "## Shoes_Female_L2 (Hierarchical)\n",
    "All labels are 'Boots Female', 'Ballerina Female', 'Trainers/Sneakers Female','High heels Female', 'Sandals/Flip flops/Slippers Female', 'Others Female' the labels number are in this exact order 0 to 5"
   ]
  },
  {
   "cell_type": "code",
   "execution_count": 109,
   "id": "buried-perry",
   "metadata": {
    "ExecuteTime": {
     "end_time": "2021-03-04T15:49:16.981230Z",
     "start_time": "2021-03-04T15:49:16.968191Z"
    }
   },
   "outputs": [],
   "source": [
    "shoes_female_test_data = np.load('dataset/Shoes - Female - Test.npz')"
   ]
  },
  {
   "cell_type": "code",
   "execution_count": 110,
   "id": "polar-caution",
   "metadata": {
    "ExecuteTime": {
     "end_time": "2021-03-04T15:49:17.057871Z",
     "start_time": "2021-03-04T15:49:16.983192Z"
    }
   },
   "outputs": [],
   "source": [
    "shoes_female_images_test = shoes_female_test_data['images'] / 255.0\n",
    "shoes_female_labels_test = shoes_female_test_data['labels']"
   ]
  },
  {
   "cell_type": "code",
   "execution_count": 111,
   "id": "toxic-diameter",
   "metadata": {
    "ExecuteTime": {
     "end_time": "2021-03-04T15:49:19.039130Z",
     "start_time": "2021-03-04T15:49:17.059838Z"
    }
   },
   "outputs": [],
   "source": [
    "shoes_female_model = tf.keras.models.load_model('saved_models/Model 1 (Shoes_Female_L2)/Run-7')"
   ]
  },
  {
   "cell_type": "code",
   "execution_count": 112,
   "id": "protected-appeal",
   "metadata": {
    "ExecuteTime": {
     "end_time": "2021-03-04T15:49:20.628380Z",
     "start_time": "2021-03-04T15:49:19.041297Z"
    }
   },
   "outputs": [
    {
     "data": {
      "text/plain": [
       "0.8527777777777777"
      ]
     },
     "execution_count": 112,
     "metadata": {},
     "output_type": "execute_result"
    }
   ],
   "source": [
    "correct_predict = np.argmax(shoes_female_model.predict(shoes_female_images_test), axis = 1) == shoes_female_labels_test\n",
    "shoes_female_accuracy = np.sum(correct_predict) / shoes_female_labels_test.shape[0]\n",
    "shoes_female_accuracy"
   ]
  },
  {
   "cell_type": "markdown",
   "id": "interested-barbados",
   "metadata": {},
   "source": [
    "## Trousers&Jeans_All Model 3 (Combined)\n",
    "All labels are 'Trousers Male','Jeans Male','Trousers Female','Jeans Female', the labels number are in this exact order 0 to 3"
   ]
  },
  {
   "cell_type": "code",
   "execution_count": 113,
   "id": "owned-madonna",
   "metadata": {
    "ExecuteTime": {
     "end_time": "2021-03-04T15:49:20.643679Z",
     "start_time": "2021-03-04T15:49:20.629887Z"
    }
   },
   "outputs": [],
   "source": [
    "tj_all_test_data = np.load('dataset/Trousers & Jeans - All - Test.npz')"
   ]
  },
  {
   "cell_type": "code",
   "execution_count": 114,
   "id": "offshore-bundle",
   "metadata": {
    "ExecuteTime": {
     "end_time": "2021-03-04T15:49:20.735834Z",
     "start_time": "2021-03-04T15:49:20.646449Z"
    }
   },
   "outputs": [],
   "source": [
    "tj_all_images_test = tj_all_test_data['images'] / 255.0\n",
    "tj_all_labels_test = tj_all_test_data['labels']"
   ]
  },
  {
   "cell_type": "code",
   "execution_count": 115,
   "id": "unnecessary-collective",
   "metadata": {
    "ExecuteTime": {
     "end_time": "2021-03-04T15:49:23.469405Z",
     "start_time": "2021-03-04T15:49:20.738341Z"
    }
   },
   "outputs": [],
   "source": [
    "tj_all_model = tf.keras.models.load_model('saved_models/Model 3 (Trousers&Jeans_All)/Run-62')"
   ]
  },
  {
   "cell_type": "code",
   "execution_count": 116,
   "id": "empirical-transcript",
   "metadata": {
    "ExecuteTime": {
     "end_time": "2021-03-04T15:49:26.071794Z",
     "start_time": "2021-03-04T15:49:23.471887Z"
    }
   },
   "outputs": [
    {
     "data": {
      "text/plain": [
       "0.762"
      ]
     },
     "execution_count": 116,
     "metadata": {},
     "output_type": "execute_result"
    }
   ],
   "source": [
    "correct_predict = np.argmax(tj_all_model.predict(tj_all_images_test), axis = 1) == tj_all_labels_test\n",
    "tj_all_accuracy = np.sum(correct_predict) / tj_all_labels_test.shape[0]\n",
    "tj_all_accuracy"
   ]
  },
  {
   "cell_type": "markdown",
   "id": "crude-examination",
   "metadata": {},
   "source": [
    "## Trousers&Jeans_All_L2 Model 4 (Combined)\n",
    "All labels are 'Trousers Male','Jeans Male','Trousers Female','Jeans Female', the labels number are in this exact order 0 to 3"
   ]
  },
  {
   "cell_type": "code",
   "execution_count": 117,
   "id": "metric-origin",
   "metadata": {
    "ExecuteTime": {
     "end_time": "2021-03-04T15:49:26.086754Z",
     "start_time": "2021-03-04T15:49:26.073790Z"
    }
   },
   "outputs": [],
   "source": [
    "tj_all_l2_test_data = np.load('dataset/Trousers & Jeans - All - Test.npz')"
   ]
  },
  {
   "cell_type": "code",
   "execution_count": 118,
   "id": "former-suffering",
   "metadata": {
    "ExecuteTime": {
     "end_time": "2021-03-04T15:49:26.177949Z",
     "start_time": "2021-03-04T15:49:26.088749Z"
    }
   },
   "outputs": [],
   "source": [
    "tj_all_l2_images_test = tj_all_l2_test_data['images'] / 255.0\n",
    "tj_all_l2_labels_test = tj_all_l2_test_data['labels']"
   ]
  },
  {
   "cell_type": "code",
   "execution_count": 119,
   "id": "polished-cycle",
   "metadata": {
    "ExecuteTime": {
     "end_time": "2021-03-04T15:49:28.749402Z",
     "start_time": "2021-03-04T15:49:26.179908Z"
    }
   },
   "outputs": [],
   "source": [
    "tj_all_l2_model = tf.keras.models.load_model('saved_models/Model 4 (Trousers&Jeans_All_L2)/Run-1')"
   ]
  },
  {
   "cell_type": "code",
   "execution_count": 120,
   "id": "animal-flashing",
   "metadata": {
    "ExecuteTime": {
     "end_time": "2021-03-04T15:49:31.316103Z",
     "start_time": "2021-03-04T15:49:28.751396Z"
    }
   },
   "outputs": [
    {
     "data": {
      "text/plain": [
       "0.746"
      ]
     },
     "execution_count": 120,
     "metadata": {},
     "output_type": "execute_result"
    }
   ],
   "source": [
    "correct_predict = np.argmax(tj_all_l2_model.predict(tj_all_l2_images_test), axis = 1) == tj_all_l2_labels_test\n",
    "tj_all_l2_accuracy = np.sum(correct_predict) / tj_all_l2_labels_test.shape[0]\n",
    "tj_all_l2_accuracy"
   ]
  },
  {
   "cell_type": "markdown",
   "id": "processed-socket",
   "metadata": {},
   "source": [
    "## Trousers&Jeans_All_Dropout Model 5 (Combined)\n",
    "All labels are 'Trousers Male','Jeans Male','Trousers Female','Jeans Female', the labels number are in this exact order 0 to 3"
   ]
  },
  {
   "cell_type": "code",
   "execution_count": 121,
   "id": "excited-hammer",
   "metadata": {
    "ExecuteTime": {
     "end_time": "2021-03-04T15:49:31.331687Z",
     "start_time": "2021-03-04T15:49:31.318175Z"
    }
   },
   "outputs": [],
   "source": [
    "tj_all_dropout_test_data = np.load('dataset/Trousers & Jeans - All - Test.npz')"
   ]
  },
  {
   "cell_type": "code",
   "execution_count": 122,
   "id": "incorporated-bulletin",
   "metadata": {
    "ExecuteTime": {
     "end_time": "2021-03-04T15:49:31.455807Z",
     "start_time": "2021-03-04T15:49:31.334928Z"
    }
   },
   "outputs": [],
   "source": [
    "tj_all_dropout_images_test = tj_all_dropout_test_data['images'] / 255.0\n",
    "tj_all_dropout_labels_test = tj_all_dropout_test_data['labels']"
   ]
  },
  {
   "cell_type": "code",
   "execution_count": 123,
   "id": "genuine-genealogy",
   "metadata": {
    "ExecuteTime": {
     "end_time": "2021-03-04T15:49:34.288820Z",
     "start_time": "2021-03-04T15:49:31.457803Z"
    }
   },
   "outputs": [],
   "source": [
    "tj_all_dropout_model = tf.keras.models.load_model('saved_models/Model 5 (Trousers&Jeans_All_Dropout)/Run-4')"
   ]
  },
  {
   "cell_type": "code",
   "execution_count": 124,
   "id": "negative-polls",
   "metadata": {
    "ExecuteTime": {
     "end_time": "2021-03-04T15:49:36.863840Z",
     "start_time": "2021-03-04T15:49:34.291757Z"
    }
   },
   "outputs": [
    {
     "data": {
      "text/plain": [
       "0.736"
      ]
     },
     "execution_count": 124,
     "metadata": {},
     "output_type": "execute_result"
    }
   ],
   "source": [
    "correct_predict = np.argmax(tj_all_dropout_model.predict(tj_all_dropout_images_test), axis = 1) == tj_all_dropout_labels_test\n",
    "tj_all_dropout_accuracy = np.sum(correct_predict) / tj_all_dropout_labels_test.shape[0]\n",
    "tj_all_dropout_accuracy"
   ]
  },
  {
   "cell_type": "markdown",
   "id": "premium-tribune",
   "metadata": {},
   "source": [
    "## Trousers&Jeans_Gender (Hierarchical)\n",
    "All labels are 'Male' and 'Female'"
   ]
  },
  {
   "cell_type": "code",
   "execution_count": 125,
   "id": "ancient-watts",
   "metadata": {
    "ExecuteTime": {
     "end_time": "2021-03-04T15:49:36.879300Z",
     "start_time": "2021-03-04T15:49:36.867829Z"
    }
   },
   "outputs": [],
   "source": [
    "tj_gender_test_data = np.load('dataset/Trousers & Jeans - All - Test.npz')"
   ]
  },
  {
   "cell_type": "code",
   "execution_count": 126,
   "id": "lasting-fusion",
   "metadata": {
    "ExecuteTime": {
     "end_time": "2021-03-04T15:49:36.987661Z",
     "start_time": "2021-03-04T15:49:36.881342Z"
    }
   },
   "outputs": [],
   "source": [
    "tj_gender_images_test = tj_all_dropout_test_data['images'] / 255.0\n",
    "tj_gender_genders_test = tj_all_dropout_test_data['genders']"
   ]
  },
  {
   "cell_type": "code",
   "execution_count": 127,
   "id": "frozen-newport",
   "metadata": {
    "ExecuteTime": {
     "end_time": "2021-03-04T15:49:39.632674Z",
     "start_time": "2021-03-04T15:49:36.990190Z"
    }
   },
   "outputs": [],
   "source": [
    "tj_gender_model = tf.keras.models.load_model('saved_models/Model 1 (Trousers&Jeans_Gender)/Run-12')"
   ]
  },
  {
   "cell_type": "code",
   "execution_count": 128,
   "id": "complex-liverpool",
   "metadata": {
    "ExecuteTime": {
     "end_time": "2021-03-04T15:49:45.046048Z",
     "start_time": "2021-03-04T15:49:39.634644Z"
    }
   },
   "outputs": [
    {
     "data": {
      "text/plain": [
       "0.906"
      ]
     },
     "execution_count": 128,
     "metadata": {},
     "output_type": "execute_result"
    }
   ],
   "source": [
    "correct_predict = np.argmax(tj_gender_model.predict(tj_gender_images_test), axis = 1) == tj_gender_genders_test\n",
    "tj_gender_accuracy = np.sum(correct_predict) / tj_gender_genders_test.shape[0]\n",
    "tj_gender_accuracy"
   ]
  },
  {
   "cell_type": "markdown",
   "id": "affected-transsexual",
   "metadata": {},
   "source": [
    "## Trousers&Jeans_Male (Hierarchical)\n",
    "All labels are 'Trousers' and 'Jeans'"
   ]
  },
  {
   "cell_type": "code",
   "execution_count": 129,
   "id": "competitive-montgomery",
   "metadata": {
    "ExecuteTime": {
     "end_time": "2021-03-04T15:49:45.061990Z",
     "start_time": "2021-03-04T15:49:45.049007Z"
    }
   },
   "outputs": [],
   "source": [
    "tj_male_test_data = np.load('dataset/Trousers & Jeans - Male - Test.npz')"
   ]
  },
  {
   "cell_type": "code",
   "execution_count": 130,
   "id": "aboriginal-mistress",
   "metadata": {
    "ExecuteTime": {
     "end_time": "2021-03-04T15:49:45.124434Z",
     "start_time": "2021-03-04T15:49:45.064495Z"
    }
   },
   "outputs": [],
   "source": [
    "tj_male_images_test = tj_male_test_data['images'] / 255.0\n",
    "tj_male_labels_test = tj_male_test_data['labels']"
   ]
  },
  {
   "cell_type": "code",
   "execution_count": 131,
   "id": "valued-drilling",
   "metadata": {
    "ExecuteTime": {
     "end_time": "2021-03-04T15:49:46.574084Z",
     "start_time": "2021-03-04T15:49:45.125942Z"
    }
   },
   "outputs": [],
   "source": [
    "tj_male_model = tf.keras.models.load_model('saved_models/Model 1 (Trousers&Jeans_Male)/Run-5')"
   ]
  },
  {
   "cell_type": "code",
   "execution_count": 132,
   "id": "coordinated-heater",
   "metadata": {
    "ExecuteTime": {
     "end_time": "2021-03-04T15:49:47.379608Z",
     "start_time": "2021-03-04T15:49:46.576621Z"
    }
   },
   "outputs": [
    {
     "data": {
      "text/plain": [
       "0.872"
      ]
     },
     "execution_count": 132,
     "metadata": {},
     "output_type": "execute_result"
    }
   ],
   "source": [
    "correct_predict = np.argmax(tj_male_model.predict(tj_male_images_test), axis = 1) == tj_male_labels_test\n",
    "tj_male_accuracy = np.sum(correct_predict) / tj_male_labels_test.shape[0]\n",
    "tj_male_accuracy"
   ]
  },
  {
   "cell_type": "markdown",
   "id": "tested-patrick",
   "metadata": {},
   "source": [
    "## Trousers&Jeans_Female (Hierarchical)\n",
    "All labels are 'Trousers' and 'Jeans'"
   ]
  },
  {
   "cell_type": "code",
   "execution_count": 133,
   "id": "apparent-prisoner",
   "metadata": {
    "ExecuteTime": {
     "end_time": "2021-03-04T15:50:30.011492Z",
     "start_time": "2021-03-04T15:50:29.996487Z"
    }
   },
   "outputs": [],
   "source": [
    "tj_female_test_data = np.load('dataset/Trousers & Jeans - Female - Test.npz')"
   ]
  },
  {
   "cell_type": "code",
   "execution_count": 134,
   "id": "metropolitan-dover",
   "metadata": {
    "ExecuteTime": {
     "end_time": "2021-03-04T15:50:30.740193Z",
     "start_time": "2021-03-04T15:50:30.686967Z"
    }
   },
   "outputs": [],
   "source": [
    "tj_female_images_test = tj_female_test_data['images'] / 255.0\n",
    "tj_female_labels_test = tj_female_test_data['labels']"
   ]
  },
  {
   "cell_type": "code",
   "execution_count": 135,
   "id": "residential-waste",
   "metadata": {
    "ExecuteTime": {
     "end_time": "2021-03-04T15:51:39.760527Z",
     "start_time": "2021-03-04T15:51:37.087428Z"
    }
   },
   "outputs": [],
   "source": [
    "tj_female_model = tf.keras.models.load_model('saved_models/Model 1 (Trousers&Jeans_Female)/Run-13')"
   ]
  },
  {
   "cell_type": "code",
   "execution_count": 136,
   "id": "every-stable",
   "metadata": {
    "ExecuteTime": {
     "end_time": "2021-03-04T15:52:58.786403Z",
     "start_time": "2021-03-04T15:52:57.172146Z"
    }
   },
   "outputs": [
    {
     "data": {
      "text/plain": [
       "0.86"
      ]
     },
     "execution_count": 136,
     "metadata": {},
     "output_type": "execute_result"
    }
   ],
   "source": [
    "correct_predict = np.argmax(tj_female_model.predict(tj_female_images_test), axis = 1) == tj_female_labels_test\n",
    "tj_female_accuracy = np.sum(correct_predict) / tj_female_labels_test.shape[0]\n",
    "tj_female_accuracy"
   ]
  },
  {
   "cell_type": "markdown",
   "id": "warming-pioneer",
   "metadata": {},
   "source": [
    "# Summary"
   ]
  },
  {
   "cell_type": "code",
   "execution_count": 142,
   "id": "outdoor-auditor",
   "metadata": {
    "ExecuteTime": {
     "end_time": "2021-03-04T15:58:23.870827Z",
     "start_time": "2021-03-04T15:58:23.853842Z"
    }
   },
   "outputs": [
    {
     "name": "stdout",
     "output_type": "stream",
     "text": [
      "Primary_Classification accuracy:  0.9975308641975309\n",
      "Glasses&Sunglasses accuracy:  0.956\n",
      "Shoes_All accuracy:  0.7512116316639742\n",
      "Shoes_Gender accuracy:  0.8222940226171244\n",
      "Shoes_Male accuracy:  0.8764478764478765\n",
      "Shoes_Female accuracy:  0.8527777777777777\n",
      "Trousers&Jeans_All accuracy:  0.762\n",
      "Trousers&Jeans_All_L2 accuracy:  0.746\n",
      "Trousers&Jeans_All_Dropout accuracy:  0.736\n",
      "Trousers&Jeans_Gender accuracy:  0.906\n",
      "Trousers&Jeans_Male accuracy:  0.872\n",
      "Trousers&Jeans_Female accuracy:  0.86\n"
     ]
    }
   ],
   "source": [
    "print('Primary_Classification accuracy: ',primary_accuracy)\n",
    "print('Glasses&Sunglasses accuracy: ',glasses_accuracy)\n",
    "print('Shoes_All accuracy: ',shoes_all_accuracy)\n",
    "print('Shoes_Gender accuracy: ',shoes_gender_accuracy)\n",
    "print('Shoes_Male accuracy: ',shoes_male_accuracy)\n",
    "print('Shoes_Female accuracy: ',shoes_female_accuracy)\n",
    "print('Trousers&Jeans_All accuracy: ',tj_all_accuracy)\n",
    "print('Trousers&Jeans_All_L2 accuracy: ',tj_all_l2_accuracy)\n",
    "print('Trousers&Jeans_All_Dropout accuracy: ',tj_all_dropout_accuracy)\n",
    "print('Trousers&Jeans_Gender accuracy: ',tj_gender_accuracy)\n",
    "print('Trousers&Jeans_Male accuracy: ',tj_male_accuracy)\n",
    "print('Trousers&Jeans_Female accuracy: ',tj_female_accuracy)"
   ]
  }
 ],
 "metadata": {
  "kernelspec": {
   "display_name": "Python 3 (TF2)",
   "language": "python",
   "name": "python3-tf2"
  },
  "language_info": {
   "codemirror_mode": {
    "name": "ipython",
    "version": 3
   },
   "file_extension": ".py",
   "mimetype": "text/x-python",
   "name": "python",
   "nbconvert_exporter": "python",
   "pygments_lexer": "ipython3",
   "version": "3.8.5"
  }
 },
 "nbformat": 4,
 "nbformat_minor": 5
}
