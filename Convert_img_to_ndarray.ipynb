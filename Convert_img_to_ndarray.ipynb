{
 "cells": [
  {
   "cell_type": "code",
   "execution_count": 1,
   "id": "upset-bottom",
   "metadata": {
    "ExecuteTime": {
     "end_time": "2021-03-04T16:01:48.129225Z",
     "start_time": "2021-03-04T16:01:47.942594Z"
    }
   },
   "outputs": [],
   "source": [
    "import numpy as np\n",
    "from PIL import Image"
   ]
  },
  {
   "cell_type": "code",
   "execution_count": 2,
   "id": "original-panama",
   "metadata": {
    "ExecuteTime": {
     "end_time": "2021-03-04T16:01:48.718718Z",
     "start_time": "2021-03-04T16:01:48.682423Z"
    }
   },
   "outputs": [],
   "source": [
    "image = Image.open('Sample images (Full size)/Test image.jpg')"
   ]
  },
  {
   "cell_type": "code",
   "execution_count": 3,
   "id": "regulated-yugoslavia",
   "metadata": {
    "ExecuteTime": {
     "end_time": "2021-03-04T16:01:50.922393Z",
     "start_time": "2021-03-04T16:01:49.395662Z"
    }
   },
   "outputs": [],
   "source": [
    "image.show()"
   ]
  },
  {
   "cell_type": "code",
   "execution_count": 4,
   "id": "variable-neighborhood",
   "metadata": {
    "ExecuteTime": {
     "end_time": "2021-03-04T16:01:51.757001Z",
     "start_time": "2021-03-04T16:01:51.743781Z"
    }
   },
   "outputs": [],
   "source": [
    "# resize to shape we want, in this case 90x120\n",
    "image.thumbnail((90,120))"
   ]
  },
  {
   "cell_type": "code",
   "execution_count": 5,
   "id": "declared-collector",
   "metadata": {
    "ExecuteTime": {
     "end_time": "2021-03-04T16:01:53.739841Z",
     "start_time": "2021-03-04T16:01:52.490303Z"
    }
   },
   "outputs": [],
   "source": [
    "image.show()"
   ]
  },
  {
   "cell_type": "code",
   "execution_count": 6,
   "id": "unknown-partnership",
   "metadata": {
    "ExecuteTime": {
     "end_time": "2021-03-04T16:01:55.861058Z",
     "start_time": "2021-03-04T16:01:55.850556Z"
    }
   },
   "outputs": [],
   "source": [
    "image_array = np.asarray(image)"
   ]
  },
  {
   "cell_type": "code",
   "execution_count": 7,
   "id": "everyday-suicide",
   "metadata": {
    "ExecuteTime": {
     "end_time": "2021-03-04T16:01:56.420870Z",
     "start_time": "2021-03-04T16:01:56.402533Z"
    }
   },
   "outputs": [
    {
     "data": {
      "text/plain": [
       "(120, 90, 3)"
      ]
     },
     "execution_count": 7,
     "metadata": {},
     "output_type": "execute_result"
    }
   ],
   "source": [
    "image_array.shape"
   ]
  },
  {
   "cell_type": "markdown",
   "id": "numeric-direction",
   "metadata": {},
   "source": [
    "## DONE !!!"
   ]
  }
 ],
 "metadata": {
  "kernelspec": {
   "display_name": "Python 3 (TF2)",
   "language": "python",
   "name": "python3-tf2"
  },
  "language_info": {
   "codemirror_mode": {
    "name": "ipython",
    "version": 3
   },
   "file_extension": ".py",
   "mimetype": "text/x-python",
   "name": "python",
   "nbconvert_exporter": "python",
   "pygments_lexer": "ipython3",
   "version": "3.8.5"
  }
 },
 "nbformat": 4,
 "nbformat_minor": 5
}
