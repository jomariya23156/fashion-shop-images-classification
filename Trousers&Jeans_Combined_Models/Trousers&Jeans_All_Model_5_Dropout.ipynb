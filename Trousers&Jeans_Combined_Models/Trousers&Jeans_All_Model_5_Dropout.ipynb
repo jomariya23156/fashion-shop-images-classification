{
 "cells": [
  {
   "cell_type": "markdown",
   "id": "united-nightlife",
   "metadata": {},
   "source": [
    "## Import libraries"
   ]
  },
  {
   "cell_type": "code",
   "execution_count": 49,
   "id": "affiliated-queue",
   "metadata": {},
   "outputs": [],
   "source": [
    "import io\n",
    "import itertools\n",
    "\n",
    "import numpy as np\n",
    "import sklearn.metrics\n",
    "\n",
    "import tensorflow as tf\n",
    "from tensorboard.plugins.hparams import api as hp\n",
    "\n",
    "import matplotlib.pyplot as plt"
   ]
  },
  {
   "cell_type": "markdown",
   "id": "south-gossip",
   "metadata": {},
   "source": [
    "## Load and preprocess data"
   ]
  },
  {
   "cell_type": "code",
   "execution_count": 50,
   "id": "official-doubt",
   "metadata": {},
   "outputs": [],
   "source": [
    "train_data = np.load('dataset/Trousers & Jeans - All - Train.npz')\n",
    "validation_data = np.load('dataset/Trousers & Jeans - All - Validation.npz')\n",
    "test_data = np.load('dataset/Trousers & Jeans - All - Test.npz')"
   ]
  },
  {
   "cell_type": "code",
   "execution_count": 51,
   "id": "fiscal-nurse",
   "metadata": {},
   "outputs": [
    {
     "data": {
      "text/plain": [
       "['images', 'labels', 'genders']"
      ]
     },
     "execution_count": 51,
     "metadata": {},
     "output_type": "execute_result"
    }
   ],
   "source": [
    "list(train_data.keys())"
   ]
  },
  {
   "cell_type": "code",
   "execution_count": 52,
   "id": "linear-tyler",
   "metadata": {},
   "outputs": [],
   "source": [
    "images_train, labels_train = train_data['images'], train_data['labels']\n",
    "images_val, labels_val = validation_data['images'], validation_data['labels']\n",
    "images_test, labels_test = test_data['images'], test_data['labels']"
   ]
  },
  {
   "cell_type": "code",
   "execution_count": 53,
   "id": "seasonal-disability",
   "metadata": {},
   "outputs": [
    {
     "data": {
      "text/plain": [
       "array([0, 1, 2, 3])"
      ]
     },
     "execution_count": 53,
     "metadata": {},
     "output_type": "execute_result"
    }
   ],
   "source": [
    "np.unique(labels_train)"
   ]
  },
  {
   "cell_type": "code",
   "execution_count": 54,
   "id": "behind-scanning",
   "metadata": {},
   "outputs": [
    {
     "data": {
      "text/plain": [
       "(4004, 120, 90, 3)"
      ]
     },
     "execution_count": 54,
     "metadata": {},
     "output_type": "execute_result"
    }
   ],
   "source": [
    "images_train.shape"
   ]
  },
  {
   "cell_type": "code",
   "execution_count": 55,
   "id": "hollow-correlation",
   "metadata": {},
   "outputs": [
    {
     "data": {
      "text/plain": [
       "(4004,)"
      ]
     },
     "execution_count": 55,
     "metadata": {},
     "output_type": "execute_result"
    }
   ],
   "source": [
    "labels_train.shape"
   ]
  },
  {
   "cell_type": "code",
   "execution_count": 56,
   "id": "iraqi-register",
   "metadata": {},
   "outputs": [
    {
     "data": {
      "text/plain": [
       "(500, 120, 90, 3)"
      ]
     },
     "execution_count": 56,
     "metadata": {},
     "output_type": "execute_result"
    }
   ],
   "source": [
    "images_val.shape"
   ]
  },
  {
   "cell_type": "code",
   "execution_count": 57,
   "id": "helpful-brunei",
   "metadata": {},
   "outputs": [
    {
     "data": {
      "text/plain": [
       "(500,)"
      ]
     },
     "execution_count": 57,
     "metadata": {},
     "output_type": "execute_result"
    }
   ],
   "source": [
    "labels_val.shape"
   ]
  },
  {
   "cell_type": "code",
   "execution_count": 58,
   "id": "premium-silicon",
   "metadata": {},
   "outputs": [
    {
     "data": {
      "text/plain": [
       "(500, 120, 90, 3)"
      ]
     },
     "execution_count": 58,
     "metadata": {},
     "output_type": "execute_result"
    }
   ],
   "source": [
    "images_test.shape"
   ]
  },
  {
   "cell_type": "code",
   "execution_count": 59,
   "id": "sonic-webmaster",
   "metadata": {},
   "outputs": [
    {
     "data": {
      "text/plain": [
       "(500,)"
      ]
     },
     "execution_count": 59,
     "metadata": {},
     "output_type": "execute_result"
    }
   ],
   "source": [
    "labels_test.shape"
   ]
  },
  {
   "cell_type": "code",
   "execution_count": 60,
   "id": "turned-salvation",
   "metadata": {},
   "outputs": [],
   "source": [
    "# standardize \n",
    "images_train = images_train/255.0\n",
    "images_val = images_val/255.0\n",
    "images_test = images_test/255.0"
   ]
  },
  {
   "cell_type": "markdown",
   "id": "cosmetic-young",
   "metadata": {},
   "source": [
    "## Create the model!"
   ]
  },
  {
   "cell_type": "markdown",
   "id": "external-panama",
   "metadata": {},
   "source": [
    "### Define hyparameters"
   ]
  },
  {
   "cell_type": "code",
   "execution_count": 61,
   "id": "supported-clock",
   "metadata": {},
   "outputs": [],
   "source": [
    "EPOCHS = 15\n",
    "BATCH_SIZE = 64"
   ]
  },
  {
   "cell_type": "code",
   "execution_count": 62,
   "id": "numerous-removal",
   "metadata": {},
   "outputs": [],
   "source": [
    "HP_DROPOUT_RATE = hp.HParam('dropout_rate', hp.Discrete([0.1,0.2,0.3,0.4,0.5,0.6,0.7]))"
   ]
  },
  {
   "cell_type": "code",
   "execution_count": 63,
   "id": "legislative-removal",
   "metadata": {},
   "outputs": [],
   "source": [
    "METRIC = 'accuracy'\n",
    "\n",
    "with tf.summary.create_file_writer(r'Logs/Model 5 (Trousers&Jeans_All_Dropout)/hparam_tuning/').as_default():\n",
    "    hp.hparams_config(\n",
    "        hparams = [HP_DROPOUT_RATE],\n",
    "        metrics = [hp.Metric(METRIC, display_name='accuracy')]\n",
    "    )"
   ]
  },
  {
   "cell_type": "markdown",
   "id": "legitimate-version",
   "metadata": {},
   "source": [
    "### Model architecture"
   ]
  },
  {
   "cell_type": "code",
   "execution_count": 64,
   "id": "opened-minister",
   "metadata": {},
   "outputs": [],
   "source": [
    "def train_test_model(hparams, session_num):\n",
    "    model = tf.keras.Sequential([\n",
    "        # we choose the valueus for kernel_num, kernel_size, and dense from the best of the hyperparameter tuning we do in model 3\n",
    "        tf.keras.layers.Conv2D(96, 7, activation = 'relu', input_shape = (120,90,3)),\n",
    "        tf.keras.layers.MaxPooling2D(pool_size=(2,2)),\n",
    "        tf.keras.layers.Conv2D(96, 3, activation = 'relu'),\n",
    "        tf.keras.layers.MaxPooling2D(pool_size=(2,2)),\n",
    "        tf.keras.layers.Flatten(),\n",
    "        tf.keras.layers.Dense(512, activation = 'relu'),\n",
    "        tf.keras.layers.Dropout(hparams[HP_DROPOUT_RATE]),\n",
    "        tf.keras.layers.Dense(4, activation='softmax')\n",
    "    ])\n",
    "    \n",
    "    loss_fn = tf.keras.losses.SparseCategoricalCrossentropy()\n",
    "    model.compile(optimizer = 'adam', loss = loss_fn, metrics = ['accuracy'])\n",
    "    \n",
    "    log_dir = \"Logs\\\\Model 5 (Trousers&Jeans_All_Dropout)\\\\fit\\\\\" + f\"run-{session_num}\"\n",
    "    \n",
    "    # functions for creating confusion matrix\n",
    "    def plot_confusion_matrix(cm, class_names):\n",
    "        \"\"\"\n",
    "        Returns a matplotlib figure containing the plotted confusion matrix.\n",
    "\n",
    "        Args:\n",
    "        cm (array, shape = [n, n]): a confusion matrix of integer classes\n",
    "        class_names (array, shape = [n]): String names of the integer classes\n",
    "        \"\"\"\n",
    "        figure = plt.figure(figsize=(12, 12))\n",
    "        plt.imshow(cm, interpolation='nearest', cmap=plt.cm.Blues)\n",
    "        plt.title(\"Confusion matrix\")\n",
    "        plt.colorbar()\n",
    "        tick_marks = np.arange(len(class_names))\n",
    "        plt.xticks(tick_marks, class_names, rotation=45)\n",
    "        plt.yticks(tick_marks, class_names)\n",
    "\n",
    "        # Normalize the confusion matrix.\n",
    "        cm = np.around(cm.astype('float') / cm.sum(axis=1)[:, np.newaxis], decimals=2)\n",
    "\n",
    "        # Use white text if squares are dark; otherwise black.\n",
    "        threshold = cm.max() / 2.\n",
    "        for i, j in itertools.product(range(cm.shape[0]), range(cm.shape[1])):\n",
    "            color = \"white\" if cm[i, j] > threshold else \"black\"\n",
    "            plt.text(j, i, cm[i, j], horizontalalignment=\"center\", color=color)\n",
    "\n",
    "        plt.tight_layout()\n",
    "        plt.ylabel('True label')\n",
    "        plt.xlabel('Predicted label')\n",
    "\n",
    "        return figure\n",
    "\n",
    "    def plot_to_image(figure):\n",
    "        \"\"\"Converts the matplotlib plot specified by 'figure' to a PNG image and\n",
    "        returns it. The supplied figure is closed and inaccessible after this call.\"\"\"\n",
    "\n",
    "        # Save the plot to a PNG in memory.\n",
    "        buf = io.BytesIO()\n",
    "        plt.savefig(buf, format='png')\n",
    "\n",
    "        # Closing the figure prevents it from being displayed directly inside the notebook.\n",
    "        plt.close(figure)\n",
    "\n",
    "        buf.seek(0)\n",
    "\n",
    "        # Convert PNG buffer to TF image\n",
    "        image = tf.image.decode_png(buf.getvalue(), channels=4)\n",
    "\n",
    "        # Add the batch dimension\n",
    "        image = tf.expand_dims(image, 0)\n",
    "\n",
    "        return image\n",
    "\n",
    "    # Define a file writer variable for logging purposes\n",
    "    file_writer_cm = tf.summary.create_file_writer(log_dir + '/cm')\n",
    "\n",
    "    def log_confusion_matrix(epoch, logs):\n",
    "        # Use the model to predict the values from the validation dataset.\n",
    "        test_pred_raw = model.predict(images_val)\n",
    "        test_pred = np.argmax(test_pred_raw, axis=1)\n",
    "\n",
    "        # Calculate the confusion matrix.\n",
    "        cm = sklearn.metrics.confusion_matrix(labels_val, test_pred)\n",
    "\n",
    "        # Log the confusion matrix as an image summary.\n",
    "        figure = plot_confusion_matrix(cm, class_names=['Trousers Male','Jeans Male','Trousers Female','Jeans Female'])\n",
    "        cm_image = plot_to_image(figure)\n",
    "\n",
    "        # Log the confusion matrix as an image summary.\n",
    "        with file_writer_cm.as_default():\n",
    "            tf.summary.image(\"Confusion Matrix\", cm_image, step=epoch)\n",
    "            \n",
    "    # callbacks\n",
    "    early_stopping = tf.keras.callbacks.EarlyStopping(monitor = 'val_loss', patience = 2, restore_best_weights = True)\n",
    "    cm_callback = tf.keras.callbacks.LambdaCallback(on_epoch_end = log_confusion_matrix)\n",
    "    tensorboard_callback = tf.keras.callbacks.TensorBoard(log_dir=log_dir, histogram_freq = 1, profile_batch = 0)\n",
    "    \n",
    "    model.fit(images_train,\n",
    "              labels_train,\n",
    "              epochs = EPOCHS,\n",
    "              batch_size = BATCH_SIZE,\n",
    "              callbacks = [tensorboard_callback, cm_callback, early_stopping],\n",
    "              validation_data = (images_val, labels_val),\n",
    "              verbose = 1)\n",
    "    \n",
    "    _, accuracy = model.evaluate(images_val, labels_val)\n",
    "    \n",
    "    model.save(r'saved_models\\Model 5 (Trousers&Jeans_All_Dropout)\\Run-{}'.format(session_num))\n",
    "    \n",
    "    return accuracy"
   ]
  },
  {
   "cell_type": "code",
   "execution_count": 65,
   "id": "lined-baseball",
   "metadata": {},
   "outputs": [],
   "source": [
    "def run(log_dir, hparams, session_num):\n",
    "    with tf.summary.create_file_writer(log_dir).as_default():\n",
    "        hp.hparams(hparams)  # record the values used in this trial\n",
    "        accuracy = train_test_model(hparams, session_num)\n",
    "        tf.summary.scalar(METRIC,accuracy,step=1)"
   ]
  },
  {
   "cell_type": "code",
   "execution_count": 66,
   "id": "developed-support",
   "metadata": {},
   "outputs": [
    {
     "name": "stdout",
     "output_type": "stream",
     "text": [
      "--- Starting Trial: run-1\n",
      "{'dropout_rate': 0.1}\n",
      "Epoch 1/15\n",
      "63/63 [==============================] - 72s 1s/step - loss: 1.4386 - accuracy: 0.4675 - val_loss: 1.0663 - val_accuracy: 0.5480\n",
      "Epoch 2/15\n",
      "63/63 [==============================] - 71s 1s/step - loss: 0.9647 - accuracy: 0.6109 - val_loss: 1.1192 - val_accuracy: 0.5540\n",
      "Epoch 3/15\n",
      "63/63 [==============================] - 72s 1s/step - loss: 0.8326 - accuracy: 0.6618 - val_loss: 0.9273 - val_accuracy: 0.6380\n",
      "Epoch 4/15\n",
      "63/63 [==============================] - 79s 1s/step - loss: 0.7750 - accuracy: 0.6813 - val_loss: 0.8741 - val_accuracy: 0.6520\n",
      "Epoch 5/15\n",
      "63/63 [==============================] - 76s 1s/step - loss: 0.7033 - accuracy: 0.7113 - val_loss: 0.8260 - val_accuracy: 0.6520\n",
      "Epoch 6/15\n",
      "63/63 [==============================] - 75s 1s/step - loss: 0.6578 - accuracy: 0.7230 - val_loss: 0.9030 - val_accuracy: 0.6640\n",
      "Epoch 7/15\n",
      "63/63 [==============================] - 77s 1s/step - loss: 0.6451 - accuracy: 0.7300 - val_loss: 0.8659 - val_accuracy: 0.6540\n",
      "16/16 [==============================] - 2s 139ms/step - loss: 0.8260 - accuracy: 0.6520\n",
      "WARNING:tensorflow:From C:\\Users\\Admin\\anaconda3\\envs\\Python3-TF2\\lib\\site-packages\\tensorflow\\python\\training\\tracking\\tracking.py:111: Model.state_updates (from tensorflow.python.keras.engine.training) is deprecated and will be removed in a future version.\n",
      "Instructions for updating:\n",
      "This property should not be used in TensorFlow 2.0, as updates are applied automatically.\n",
      "WARNING:tensorflow:From C:\\Users\\Admin\\anaconda3\\envs\\Python3-TF2\\lib\\site-packages\\tensorflow\\python\\training\\tracking\\tracking.py:111: Layer.updates (from tensorflow.python.keras.engine.base_layer) is deprecated and will be removed in a future version.\n",
      "Instructions for updating:\n",
      "This property should not be used in TensorFlow 2.0, as updates are applied automatically.\n",
      "INFO:tensorflow:Assets written to: saved_models\\Model 5 (Trousers&Jeans_All_Dropout)\\Run-1\\assets\n",
      "--- Starting Trial: run-2\n",
      "{'dropout_rate': 0.2}\n",
      "Epoch 1/15\n",
      "63/63 [==============================] - 78s 1s/step - loss: 1.4780 - accuracy: 0.4198 - val_loss: 1.0984 - val_accuracy: 0.5540\n",
      "Epoch 2/15\n",
      "63/63 [==============================] - 76s 1s/step - loss: 0.9688 - accuracy: 0.6049 - val_loss: 0.9892 - val_accuracy: 0.5840\n",
      "Epoch 3/15\n",
      "63/63 [==============================] - 80s 1s/step - loss: 0.8473 - accuracy: 0.6563 - val_loss: 0.8812 - val_accuracy: 0.6020\n",
      "Epoch 4/15\n",
      "63/63 [==============================] - 82s 1s/step - loss: 0.7960 - accuracy: 0.6773 - val_loss: 0.8535 - val_accuracy: 0.6380\n",
      "Epoch 5/15\n",
      "63/63 [==============================] - 73s 1s/step - loss: 0.7276 - accuracy: 0.6971 - val_loss: 0.8095 - val_accuracy: 0.6620\n",
      "Epoch 6/15\n",
      "63/63 [==============================] - 82s 1s/step - loss: 0.6797 - accuracy: 0.7108 - val_loss: 0.8027 - val_accuracy: 0.6680\n",
      "Epoch 7/15\n",
      "63/63 [==============================] - 72s 1s/step - loss: 0.6566 - accuracy: 0.7273 - val_loss: 0.8401 - val_accuracy: 0.6560\n",
      "Epoch 8/15\n",
      "63/63 [==============================] - 70s 1s/step - loss: 0.6074 - accuracy: 0.7440 - val_loss: 0.8235 - val_accuracy: 0.6780\n",
      "16/16 [==============================] - 2s 135ms/step - loss: 0.8027 - accuracy: 0.6680\n",
      "INFO:tensorflow:Assets written to: saved_models\\Model 5 (Trousers&Jeans_All_Dropout)\\Run-2\\assets\n",
      "--- Starting Trial: run-3\n",
      "{'dropout_rate': 0.3}\n",
      "Epoch 1/15\n",
      "63/63 [==============================] - 72s 1s/step - loss: 1.4496 - accuracy: 0.4463 - val_loss: 1.0984 - val_accuracy: 0.5020\n",
      "Epoch 2/15\n",
      "63/63 [==============================] - 72s 1s/step - loss: 0.9516 - accuracy: 0.6136 - val_loss: 0.9919 - val_accuracy: 0.5940\n",
      "Epoch 3/15\n",
      "63/63 [==============================] - 72s 1s/step - loss: 0.8485 - accuracy: 0.6566 - val_loss: 0.8973 - val_accuracy: 0.6320\n",
      "Epoch 4/15\n",
      "63/63 [==============================] - 72s 1s/step - loss: 0.7651 - accuracy: 0.6936 - val_loss: 0.8553 - val_accuracy: 0.6420\n",
      "Epoch 5/15\n",
      "63/63 [==============================] - 72s 1s/step - loss: 0.7151 - accuracy: 0.7150 - val_loss: 0.8526 - val_accuracy: 0.6940\n",
      "Epoch 6/15\n",
      "63/63 [==============================] - 72s 1s/step - loss: 0.6736 - accuracy: 0.7225 - val_loss: 0.8157 - val_accuracy: 0.6600\n",
      "Epoch 7/15\n",
      "63/63 [==============================] - 72s 1s/step - loss: 0.6331 - accuracy: 0.7473 - val_loss: 0.7868 - val_accuracy: 0.6780\n",
      "Epoch 8/15\n",
      "63/63 [==============================] - 71s 1s/step - loss: 0.5864 - accuracy: 0.7687 - val_loss: 0.7447 - val_accuracy: 0.7200\n",
      "Epoch 9/15\n",
      "63/63 [==============================] - 71s 1s/step - loss: 0.5411 - accuracy: 0.7825 - val_loss: 0.7841 - val_accuracy: 0.6820\n",
      "Epoch 10/15\n",
      "63/63 [==============================] - 71s 1s/step - loss: 0.5201 - accuracy: 0.7915 - val_loss: 0.7753 - val_accuracy: 0.7160\n",
      "16/16 [==============================] - 2s 134ms/step - loss: 0.7447 - accuracy: 0.7200\n",
      "INFO:tensorflow:Assets written to: saved_models\\Model 5 (Trousers&Jeans_All_Dropout)\\Run-3\\assets\n",
      "--- Starting Trial: run-4\n",
      "{'dropout_rate': 0.4}\n",
      "Epoch 1/15\n",
      "63/63 [==============================] - 71s 1s/step - loss: 1.4491 - accuracy: 0.4271 - val_loss: 1.1507 - val_accuracy: 0.4820\n",
      "Epoch 2/15\n",
      "63/63 [==============================] - 71s 1s/step - loss: 1.0337 - accuracy: 0.5727 - val_loss: 0.9805 - val_accuracy: 0.6100\n",
      "Epoch 3/15\n",
      "63/63 [==============================] - 71s 1s/step - loss: 0.9088 - accuracy: 0.6271 - val_loss: 1.0072 - val_accuracy: 0.5760\n",
      "Epoch 4/15\n",
      "63/63 [==============================] - 71s 1s/step - loss: 0.8419 - accuracy: 0.6506 - val_loss: 0.9016 - val_accuracy: 0.6420\n",
      "Epoch 5/15\n",
      "63/63 [==============================] - 71s 1s/step - loss: 0.8033 - accuracy: 0.6716 - val_loss: 0.8685 - val_accuracy: 0.6500\n",
      "Epoch 6/15\n",
      "63/63 [==============================] - 71s 1s/step - loss: 0.7349 - accuracy: 0.6978 - val_loss: 0.8230 - val_accuracy: 0.6480\n",
      "Epoch 7/15\n",
      "63/63 [==============================] - 71s 1s/step - loss: 0.7039 - accuracy: 0.7135 - val_loss: 0.7852 - val_accuracy: 0.6860\n",
      "Epoch 8/15\n",
      "63/63 [==============================] - 71s 1s/step - loss: 0.6776 - accuracy: 0.7193 - val_loss: 0.7951 - val_accuracy: 0.6880\n",
      "Epoch 9/15\n",
      "63/63 [==============================] - 71s 1s/step - loss: 0.6292 - accuracy: 0.7410 - val_loss: 0.7543 - val_accuracy: 0.6900\n",
      "Epoch 10/15\n",
      "63/63 [==============================] - 71s 1s/step - loss: 0.5872 - accuracy: 0.7565 - val_loss: 0.7295 - val_accuracy: 0.6980\n",
      "Epoch 11/15\n",
      "63/63 [==============================] - 71s 1s/step - loss: 0.5840 - accuracy: 0.7652 - val_loss: 0.7449 - val_accuracy: 0.7040\n",
      "Epoch 12/15\n",
      "63/63 [==============================] - 71s 1s/step - loss: 0.5424 - accuracy: 0.7785 - val_loss: 0.6940 - val_accuracy: 0.7220\n",
      "Epoch 13/15\n",
      "63/63 [==============================] - 71s 1s/step - loss: 0.5010 - accuracy: 0.7905 - val_loss: 0.7039 - val_accuracy: 0.7240\n",
      "Epoch 14/15\n",
      "63/63 [==============================] - 71s 1s/step - loss: 0.4817 - accuracy: 0.8029 - val_loss: 0.7267 - val_accuracy: 0.7360\n",
      "16/16 [==============================] - 2s 133ms/step - loss: 0.6940 - accuracy: 0.7220\n",
      "INFO:tensorflow:Assets written to: saved_models\\Model 5 (Trousers&Jeans_All_Dropout)\\Run-4\\assets\n",
      "--- Starting Trial: run-5\n",
      "{'dropout_rate': 0.5}\n",
      "Epoch 1/15\n",
      "63/63 [==============================] - 71s 1s/step - loss: 1.4034 - accuracy: 0.4530 - val_loss: 1.1576 - val_accuracy: 0.4760\n",
      "Epoch 2/15\n",
      "63/63 [==============================] - 71s 1s/step - loss: 1.0252 - accuracy: 0.5644 - val_loss: 1.0133 - val_accuracy: 0.5740\n",
      "Epoch 3/15\n",
      "63/63 [==============================] - 71s 1s/step - loss: 0.9124 - accuracy: 0.6249 - val_loss: 0.9711 - val_accuracy: 0.6000\n",
      "Epoch 4/15\n",
      "63/63 [==============================] - 72s 1s/step - loss: 0.8569 - accuracy: 0.6518 - val_loss: 0.9254 - val_accuracy: 0.6160\n",
      "Epoch 5/15\n",
      "63/63 [==============================] - 71s 1s/step - loss: 0.8141 - accuracy: 0.6661 - val_loss: 0.8633 - val_accuracy: 0.6520\n",
      "Epoch 6/15\n",
      "63/63 [==============================] - 71s 1s/step - loss: 0.7841 - accuracy: 0.6761 - val_loss: 0.8786 - val_accuracy: 0.6140\n",
      "Epoch 7/15\n",
      "63/63 [==============================] - 71s 1s/step - loss: 0.7380 - accuracy: 0.7028 - val_loss: 0.8185 - val_accuracy: 0.6600\n",
      "Epoch 8/15\n"
     ]
    },
    {
     "name": "stdout",
     "output_type": "stream",
     "text": [
      "63/63 [==============================] - 72s 1s/step - loss: 0.7039 - accuracy: 0.7088 - val_loss: 0.8020 - val_accuracy: 0.6900\n",
      "Epoch 9/15\n",
      "63/63 [==============================] - 71s 1s/step - loss: 0.6648 - accuracy: 0.7275 - val_loss: 0.8046 - val_accuracy: 0.6680\n",
      "Epoch 10/15\n",
      "63/63 [==============================] - 71s 1s/step - loss: 0.6604 - accuracy: 0.7203 - val_loss: 0.7845 - val_accuracy: 0.6980\n",
      "Epoch 11/15\n",
      "63/63 [==============================] - 71s 1s/step - loss: 0.6115 - accuracy: 0.7483 - val_loss: 0.7490 - val_accuracy: 0.7060\n",
      "Epoch 12/15\n",
      "63/63 [==============================] - 72s 1s/step - loss: 0.5968 - accuracy: 0.7557 - val_loss: 0.7361 - val_accuracy: 0.7100\n",
      "Epoch 13/15\n",
      "63/63 [==============================] - 71s 1s/step - loss: 0.5604 - accuracy: 0.7770 - val_loss: 0.7705 - val_accuracy: 0.7040\n",
      "Epoch 14/15\n",
      "63/63 [==============================] - 71s 1s/step - loss: 0.5386 - accuracy: 0.7897 - val_loss: 0.7508 - val_accuracy: 0.7180\n",
      "16/16 [==============================] - 2s 133ms/step - loss: 0.7361 - accuracy: 0.7100\n",
      "INFO:tensorflow:Assets written to: saved_models\\Model 5 (Trousers&Jeans_All_Dropout)\\Run-5\\assets\n",
      "--- Starting Trial: run-6\n",
      "{'dropout_rate': 0.6}\n",
      "Epoch 1/15\n",
      "63/63 [==============================] - 70s 1s/step - loss: 1.5088 - accuracy: 0.3926 - val_loss: 1.1851 - val_accuracy: 0.5240\n",
      "Epoch 2/15\n",
      "63/63 [==============================] - 70s 1s/step - loss: 1.0476 - accuracy: 0.5579 - val_loss: 1.0308 - val_accuracy: 0.5760\n",
      "Epoch 3/15\n",
      "63/63 [==============================] - 72s 1s/step - loss: 0.9524 - accuracy: 0.6124 - val_loss: 0.9440 - val_accuracy: 0.6200\n",
      "Epoch 4/15\n",
      "63/63 [==============================] - 71s 1s/step - loss: 0.8588 - accuracy: 0.6474 - val_loss: 0.8736 - val_accuracy: 0.6760\n",
      "Epoch 5/15\n",
      "63/63 [==============================] - 71s 1s/step - loss: 0.8404 - accuracy: 0.6489 - val_loss: 0.8830 - val_accuracy: 0.6520\n",
      "Epoch 6/15\n",
      "63/63 [==============================] - 71s 1s/step - loss: 0.7834 - accuracy: 0.6746 - val_loss: 0.8546 - val_accuracy: 0.6760\n",
      "Epoch 7/15\n",
      "63/63 [==============================] - 71s 1s/step - loss: 0.7485 - accuracy: 0.6938 - val_loss: 0.8276 - val_accuracy: 0.6740\n",
      "Epoch 8/15\n",
      "63/63 [==============================] - 71s 1s/step - loss: 0.7220 - accuracy: 0.6978 - val_loss: 0.7942 - val_accuracy: 0.7020\n",
      "Epoch 9/15\n",
      "63/63 [==============================] - 71s 1s/step - loss: 0.6909 - accuracy: 0.7228 - val_loss: 0.8019 - val_accuracy: 0.6800\n",
      "Epoch 10/15\n",
      "63/63 [==============================] - 71s 1s/step - loss: 0.6542 - accuracy: 0.7290 - val_loss: 0.7868 - val_accuracy: 0.6960\n",
      "Epoch 11/15\n",
      "63/63 [==============================] - 71s 1s/step - loss: 0.6626 - accuracy: 0.7268 - val_loss: 0.7649 - val_accuracy: 0.6940\n",
      "Epoch 12/15\n",
      "63/63 [==============================] - 71s 1s/step - loss: 0.6110 - accuracy: 0.7502 - val_loss: 0.7432 - val_accuracy: 0.6980\n",
      "Epoch 13/15\n",
      "63/63 [==============================] - 71s 1s/step - loss: 0.5948 - accuracy: 0.7560 - val_loss: 0.7276 - val_accuracy: 0.7140\n",
      "Epoch 14/15\n",
      "63/63 [==============================] - 71s 1s/step - loss: 0.6025 - accuracy: 0.7522 - val_loss: 0.7437 - val_accuracy: 0.7060\n",
      "Epoch 15/15\n",
      "63/63 [==============================] - 71s 1s/step - loss: 0.5722 - accuracy: 0.7637 - val_loss: 0.6997 - val_accuracy: 0.7140\n",
      "16/16 [==============================] - 2s 132ms/step - loss: 0.6997 - accuracy: 0.7140\n",
      "INFO:tensorflow:Assets written to: saved_models\\Model 5 (Trousers&Jeans_All_Dropout)\\Run-6\\assets\n",
      "--- Starting Trial: run-7\n",
      "{'dropout_rate': 0.7}\n",
      "Epoch 1/15\n",
      "63/63 [==============================] - 71s 1s/step - loss: 1.4160 - accuracy: 0.3996 - val_loss: 1.1524 - val_accuracy: 0.5360\n",
      "Epoch 2/15\n",
      "63/63 [==============================] - 71s 1s/step - loss: 1.0785 - accuracy: 0.5442 - val_loss: 1.0860 - val_accuracy: 0.5320\n",
      "Epoch 3/15\n",
      "63/63 [==============================] - 71s 1s/step - loss: 0.9665 - accuracy: 0.5932 - val_loss: 0.9536 - val_accuracy: 0.6080\n",
      "Epoch 4/15\n",
      "63/63 [==============================] - 72s 1s/step - loss: 0.8975 - accuracy: 0.6269 - val_loss: 0.9099 - val_accuracy: 0.6220\n",
      "Epoch 5/15\n",
      "63/63 [==============================] - 71s 1s/step - loss: 0.8329 - accuracy: 0.6598 - val_loss: 0.9098 - val_accuracy: 0.6400\n",
      "Epoch 6/15\n",
      "63/63 [==============================] - 71s 1s/step - loss: 0.8132 - accuracy: 0.6668 - val_loss: 0.8933 - val_accuracy: 0.6280\n",
      "Epoch 7/15\n",
      "63/63 [==============================] - 71s 1s/step - loss: 0.7809 - accuracy: 0.6808 - val_loss: 0.8446 - val_accuracy: 0.6540\n",
      "Epoch 8/15\n",
      "63/63 [==============================] - 71s 1s/step - loss: 0.7529 - accuracy: 0.6828 - val_loss: 0.8287 - val_accuracy: 0.6560\n",
      "Epoch 9/15\n",
      "63/63 [==============================] - 71s 1s/step - loss: 0.7066 - accuracy: 0.7060 - val_loss: 0.8268 - val_accuracy: 0.6560\n",
      "Epoch 10/15\n",
      "63/63 [==============================] - 82s 1s/step - loss: 0.6844 - accuracy: 0.7168 - val_loss: 0.7941 - val_accuracy: 0.6880\n",
      "Epoch 11/15\n",
      "63/63 [==============================] - 76s 1s/step - loss: 0.6808 - accuracy: 0.7190 - val_loss: 0.7847 - val_accuracy: 0.6820\n",
      "Epoch 12/15\n",
      "63/63 [==============================] - 71s 1s/step - loss: 0.6436 - accuracy: 0.7320 - val_loss: 0.7729 - val_accuracy: 0.6660\n",
      "Epoch 13/15\n",
      "63/63 [==============================] - 71s 1s/step - loss: 0.6248 - accuracy: 0.7420 - val_loss: 0.7793 - val_accuracy: 0.6840\n",
      "Epoch 14/15\n",
      "63/63 [==============================] - 71s 1s/step - loss: 0.6045 - accuracy: 0.7517 - val_loss: 0.7458 - val_accuracy: 0.7040\n",
      "Epoch 15/15\n",
      "63/63 [==============================] - 71s 1s/step - loss: 0.5636 - accuracy: 0.7722 - val_loss: 0.7411 - val_accuracy: 0.7020\n",
      "16/16 [==============================] - 2s 133ms/step - loss: 0.7411 - accuracy: 0.7020\n",
      "INFO:tensorflow:Assets written to: saved_models\\Model 5 (Trousers&Jeans_All_Dropout)\\Run-7\\assets\n"
     ]
    }
   ],
   "source": [
    "session_num = 1\n",
    "for dropout_rate in HP_DROPOUT_RATE.domain.values:\n",
    "    hparams = {\n",
    "        HP_DROPOUT_RATE : dropout_rate\n",
    "    }\n",
    "    run_name = f'run-{session_num}'\n",
    "    print('--- Starting Trial:',run_name)\n",
    "    print({h.name: hparams[h] for h in hparams})\n",
    "    run(\"Logs/Model 5 (Trousers&Jeans_All_Dropout)/hparam_tuning/\" + run_name, hparams, session_num)\n",
    "\n",
    "    session_num += 1"
   ]
  }
 ],
 "metadata": {
  "kernelspec": {
   "display_name": "Python 3 (TF2)",
   "language": "python",
   "name": "python3-tf2"
  },
  "language_info": {
   "codemirror_mode": {
    "name": "ipython",
    "version": 3
   },
   "file_extension": ".py",
   "mimetype": "text/x-python",
   "name": "python",
   "nbconvert_exporter": "python",
   "pygments_lexer": "ipython3",
   "version": "3.8.5"
  }
 },
 "nbformat": 4,
 "nbformat_minor": 5
}
