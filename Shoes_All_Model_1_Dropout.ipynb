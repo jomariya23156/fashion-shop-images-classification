{
 "cells": [
  {
   "cell_type": "markdown",
   "id": "grand-reply",
   "metadata": {},
   "source": [
    "## Import libraries"
   ]
  },
  {
   "cell_type": "code",
   "execution_count": 24,
   "id": "seasonal-integration",
   "metadata": {
    "ExecuteTime": {
     "end_time": "2021-03-03T01:06:02.497137Z",
     "start_time": "2021-03-03T01:06:02.488620Z"
    }
   },
   "outputs": [],
   "source": [
    "import io\n",
    "import itertools\n",
    "\n",
    "import numpy as np\n",
    "import sklearn.metrics\n",
    "\n",
    "import tensorflow as tf\n",
    "from tensorboard.plugins.hparams import api as hp\n",
    "\n",
    "import matplotlib.pyplot as plt"
   ]
  },
  {
   "cell_type": "markdown",
   "id": "loose-aquarium",
   "metadata": {},
   "source": [
    "## Load and Preprocess data"
   ]
  },
  {
   "cell_type": "code",
   "execution_count": 25,
   "id": "viral-wisdom",
   "metadata": {
    "ExecuteTime": {
     "end_time": "2021-03-03T01:06:02.512526Z",
     "start_time": "2021-03-03T01:06:02.499534Z"
    }
   },
   "outputs": [],
   "source": [
    "train_data = np.load('dataset/Shoes - All - Train.npz')\n",
    "validation_data = np.load('dataset/Shoes - All - Validation.npz')\n",
    "test_data = np.load('dataset/Shoes - All - Test.npz')"
   ]
  },
  {
   "cell_type": "code",
   "execution_count": 26,
   "id": "suited-maldives",
   "metadata": {
    "ExecuteTime": {
     "end_time": "2021-03-03T01:06:02.527511Z",
     "start_time": "2021-03-03T01:06:02.514995Z"
    }
   },
   "outputs": [
    {
     "data": {
      "text/plain": [
       "['images', 'labels', 'genders']"
      ]
     },
     "execution_count": 26,
     "metadata": {},
     "output_type": "execute_result"
    }
   ],
   "source": [
    "train_data.files"
   ]
  },
  {
   "cell_type": "code",
   "execution_count": 27,
   "id": "organized-making",
   "metadata": {
    "ExecuteTime": {
     "end_time": "2021-03-03T01:06:03.167518Z",
     "start_time": "2021-03-03T01:06:02.529052Z"
    }
   },
   "outputs": [],
   "source": [
    "images_train, labels_train = train_data['images'], train_data['labels']\n",
    "images_val, labels_val = validation_data['images'], validation_data['labels']\n",
    "images_test, labels_test = test_data['images'], test_data['labels']"
   ]
  },
  {
   "cell_type": "code",
   "execution_count": 28,
   "id": "arranged-romania",
   "metadata": {
    "ExecuteTime": {
     "end_time": "2021-03-03T01:06:03.183006Z",
     "start_time": "2021-03-03T01:06:03.168516Z"
    }
   },
   "outputs": [
    {
     "data": {
      "text/plain": [
       "(4959, 120, 90, 3)"
      ]
     },
     "execution_count": 28,
     "metadata": {},
     "output_type": "execute_result"
    }
   ],
   "source": [
    "images_train.shape"
   ]
  },
  {
   "cell_type": "code",
   "execution_count": 29,
   "id": "iraqi-primary",
   "metadata": {
    "ExecuteTime": {
     "end_time": "2021-03-03T01:06:03.198045Z",
     "start_time": "2021-03-03T01:06:03.184514Z"
    },
    "scrolled": true
   },
   "outputs": [
    {
     "data": {
      "text/plain": [
       "(4959,)"
      ]
     },
     "execution_count": 29,
     "metadata": {},
     "output_type": "execute_result"
    }
   ],
   "source": [
    "labels_train.shape"
   ]
  },
  {
   "cell_type": "code",
   "execution_count": 30,
   "id": "junior-translator",
   "metadata": {
    "ExecuteTime": {
     "end_time": "2021-03-03T01:06:03.213532Z",
     "start_time": "2021-03-03T01:06:03.200555Z"
    }
   },
   "outputs": [
    {
     "data": {
      "text/plain": [
       "array([ 0,  1,  2,  3,  4,  5,  6,  7,  8,  9, 10])"
      ]
     },
     "execution_count": 30,
     "metadata": {},
     "output_type": "execute_result"
    }
   ],
   "source": [
    "np.unique(labels_train)"
   ]
  },
  {
   "cell_type": "code",
   "execution_count": 31,
   "id": "former-logistics",
   "metadata": {
    "ExecuteTime": {
     "end_time": "2021-03-03T01:06:03.245053Z",
     "start_time": "2021-03-03T01:06:03.217034Z"
    }
   },
   "outputs": [],
   "source": [
    "# Data augmentation\n",
    "# Flip the image by flip the axis 2\n",
    "# we have 4 axis now in images (no. of pic, y, x, channel)\n",
    "# so, if we want to flip horizontally, we flip axis 2\n",
    "\n",
    "flipped_images_train = np.flip(images_train, axis = 2)\n",
    "flipped_images_val = np.flip(images_val, axis = 2)\n",
    "flipped_images_test = np.flip(images_test, axis = 2)"
   ]
  },
  {
   "cell_type": "code",
   "execution_count": 32,
   "id": "eastern-penalty",
   "metadata": {
    "ExecuteTime": {
     "end_time": "2021-03-03T01:06:03.682619Z",
     "start_time": "2021-03-03T01:06:03.247554Z"
    }
   },
   "outputs": [],
   "source": [
    "# Don't forget to concatenate labels with itself, cuz we increase pic in images, so labels have to be increased too.\n",
    "images_train = np.concatenate((images_train, flipped_images_train))\n",
    "labels_train = np.concatenate((labels_train, labels_train))\n",
    "\n",
    "images_val = np.concatenate((images_val, flipped_images_val))\n",
    "labels_val = np.concatenate((labels_val, labels_val))\n",
    "\n",
    "images_test = np.concatenate((images_test, flipped_images_test))\n",
    "labels_test = np.concatenate((labels_test, labels_test))"
   ]
  },
  {
   "cell_type": "code",
   "execution_count": 33,
   "id": "spoken-filling",
   "metadata": {
    "ExecuteTime": {
     "end_time": "2021-03-03T01:06:03.838041Z",
     "start_time": "2021-03-03T01:06:03.684576Z"
    }
   },
   "outputs": [
    {
     "data": {
      "text/plain": [
       "<matplotlib.image.AxesImage at 0x1cd8b366be0>"
      ]
     },
     "execution_count": 33,
     "metadata": {},
     "output_type": "execute_result"
    },
    {
     "data": {
      "image/png": "[encoded data removed]",
      "text/plain": [
       "<Figure size 432x288 with 1 Axes>"
      ]
     },
     "metadata": {
      "needs_background": "light"
     },
     "output_type": "display_data"
    }
   ],
   "source": [
    "plt.imshow(images_train[5])"
   ]
  },
  {
   "cell_type": "code",
   "execution_count": 34,
   "id": "absolute-teacher",
   "metadata": {
    "ExecuteTime": {
     "end_time": "2021-03-03T01:06:03.992263Z",
     "start_time": "2021-03-03T01:06:03.840037Z"
    },
    "scrolled": true
   },
   "outputs": [
    {
     "data": {
      "text/plain": [
       "<matplotlib.image.AxesImage at 0x1cd80f51850>"
      ]
     },
     "execution_count": 34,
     "metadata": {},
     "output_type": "execute_result"
    },
    {
     "data": {
      "image/png": "[encoded data removed]",
      "text/plain": [
       "<Figure size 432x288 with 1 Axes>"
      ]
     },
     "metadata": {
      "needs_background": "light"
     },
     "output_type": "display_data"
    }
   ],
   "source": [
    "plt.imshow(images_train[4959+5])"
   ]
  },
  {
   "cell_type": "code",
   "execution_count": 35,
   "id": "concrete-nursing",
   "metadata": {
    "ExecuteTime": {
     "end_time": "2021-03-03T01:06:04.008261Z",
     "start_time": "2021-03-03T01:06:03.996761Z"
    }
   },
   "outputs": [
    {
     "data": {
      "text/plain": [
       "(1238, 120, 90, 3)"
      ]
     },
     "execution_count": 35,
     "metadata": {},
     "output_type": "execute_result"
    }
   ],
   "source": [
    "images_val.shape"
   ]
  },
  {
   "cell_type": "code",
   "execution_count": 36,
   "id": "bulgarian-drinking",
   "metadata": {
    "ExecuteTime": {
     "end_time": "2021-03-03T01:06:04.024212Z",
     "start_time": "2021-03-03T01:06:04.010257Z"
    }
   },
   "outputs": [
    {
     "data": {
      "text/plain": [
       "(1238,)"
      ]
     },
     "execution_count": 36,
     "metadata": {},
     "output_type": "execute_result"
    }
   ],
   "source": [
    "labels_val.shape"
   ]
  },
  {
   "cell_type": "code",
   "execution_count": 37,
   "id": "fitted-surrey",
   "metadata": {
    "ExecuteTime": {
     "end_time": "2021-03-03T01:06:04.039212Z",
     "start_time": "2021-03-03T01:06:04.025721Z"
    }
   },
   "outputs": [
    {
     "data": {
      "text/plain": [
       "(1238, 120, 90, 3)"
      ]
     },
     "execution_count": 37,
     "metadata": {},
     "output_type": "execute_result"
    }
   ],
   "source": [
    "images_test.shape"
   ]
  },
  {
   "cell_type": "code",
   "execution_count": 38,
   "id": "entitled-wildlife",
   "metadata": {
    "ExecuteTime": {
     "end_time": "2021-03-03T01:06:04.055268Z",
     "start_time": "2021-03-03T01:06:04.041718Z"
    }
   },
   "outputs": [
    {
     "data": {
      "text/plain": [
       "(1238,)"
      ]
     },
     "execution_count": 38,
     "metadata": {},
     "output_type": "execute_result"
    }
   ],
   "source": [
    "labels_test.shape"
   ]
  },
  {
   "cell_type": "code",
   "execution_count": 39,
   "id": "available-march",
   "metadata": {
    "ExecuteTime": {
     "end_time": "2021-03-03T01:06:05.045562Z",
     "start_time": "2021-03-03T01:06:04.058771Z"
    }
   },
   "outputs": [],
   "source": [
    "# Scale the data\n",
    "images_train = images_train/255.0\n",
    "images_val = images_val/255.0\n",
    "images_test = images_test/255.0"
   ]
  },
  {
   "cell_type": "markdown",
   "id": "hearing-jamaica",
   "metadata": {},
   "source": [
    "## Model Architecture"
   ]
  },
  {
   "cell_type": "markdown",
   "id": "soviet-superior",
   "metadata": {},
   "source": [
    "### Hyperparameters"
   ]
  },
  {
   "cell_type": "code",
   "execution_count": 40,
   "id": "unavailable-brazil",
   "metadata": {
    "ExecuteTime": {
     "end_time": "2021-03-03T01:06:05.060988Z",
     "start_time": "2021-03-03T01:06:05.046573Z"
    }
   },
   "outputs": [],
   "source": [
    "EPOCHS = 15\n",
    "BATCH_SIZE = 64"
   ]
  },
  {
   "cell_type": "code",
   "execution_count": 41,
   "id": "natural-joshua",
   "metadata": {
    "ExecuteTime": {
     "end_time": "2021-03-03T01:06:05.076985Z",
     "start_time": "2021-03-03T01:06:05.062984Z"
    }
   },
   "outputs": [],
   "source": [
    "# Choose the best one from the tuning\n",
    "# This was my mistake, I wrote the wrong code at the tuning so it saved only the last model.\n",
    "# I need to do this again on the best hparam to save the best model\n",
    "HP_KERNEL_SIZE = hp.HParam('kernel size', hp.Discrete([5]))\n",
    "HP_KERNEL_NUM = hp.HParam('kernel num', hp.Discrete([128]))\n",
    "HP_DROPOUT_RATE = hp.HParam('dropout rate', hp.Discrete([0.4]))"
   ]
  },
  {
   "cell_type": "code",
   "execution_count": 42,
   "id": "intellectual-restoration",
   "metadata": {
    "ExecuteTime": {
     "end_time": "2021-03-03T01:06:05.092481Z",
     "start_time": "2021-03-03T01:06:05.078979Z"
    }
   },
   "outputs": [],
   "source": [
    "METRIC = 'accuracy'\n",
    "\n",
    "with tf.summary.create_file_writer(r'logs\\Model 1 (Shoes_All_Dropout)\\hparam_tuning').as_default():\n",
    "    hp.hparams_config(\n",
    "        hparams = [HP_KERNEL_SIZE,HP_KERNEL_NUM,HP_DROPOUT_RATE],\n",
    "        metrics = [hp.Metric(METRIC, display_name = 'accuracy')]\n",
    "    )"
   ]
  },
  {
   "cell_type": "markdown",
   "id": "abroad-production",
   "metadata": {},
   "source": [
    "### Model"
   ]
  },
  {
   "cell_type": "code",
   "execution_count": 43,
   "id": "actual-casting",
   "metadata": {
    "ExecuteTime": {
     "end_time": "2021-03-03T01:06:05.123826Z",
     "start_time": "2021-03-03T01:06:05.094846Z"
    }
   },
   "outputs": [],
   "source": [
    "def train_test_model(hparams, session_num):\n",
    "    model = tf.keras.Sequential([\n",
    "        tf.keras.layers.Conv2D(hparams[HP_KERNEL_NUM], hparams[HP_KERNEL_SIZE], activation = 'relu', input_shape = (120,90,3)),\n",
    "        tf.keras.layers.MaxPooling2D(pool_size = (2,2)),\n",
    "        tf.keras.layers.Conv2D(hparams[HP_KERNEL_NUM], hparams[HP_KERNEL_SIZE], activation = 'relu'),\n",
    "        tf.keras.layers.MaxPooling2D(pool_size = (2,2)),\n",
    "        tf.keras.layers.Flatten(),\n",
    "        tf.keras.layers.Dense(256, activation = 'relu'),\n",
    "        tf.keras.layers.Dropout(hparams[HP_DROPOUT_RATE]),\n",
    "        tf.keras.layers.Dense(11, activation = 'softmax')\n",
    "    ])\n",
    "    \n",
    "    loss_fn = tf.keras.losses.SparseCategoricalCrossentropy()\n",
    "    model.compile(optimizer = 'adam', loss = loss_fn, metrics = ['accuracy'])\n",
    "    \n",
    "    log_dir = \"Logs\\\\Model 1 (Shoes_All_Dropout)\\\\fit\\\\\" + f\"run-{session_num}\"\n",
    "    \n",
    "    # functions for creating confusion matrix\n",
    "    def plot_confusion_matrix(cm, class_names):\n",
    "        \"\"\"\n",
    "        Returns a matplotlib figure containing the plotted confusion matrix.\n",
    "\n",
    "        Args:\n",
    "        cm (array, shape = [n, n]): a confusion matrix of integer classes\n",
    "        class_names (array, shape = [n]): String names of the integer classes\n",
    "        \"\"\"\n",
    "        figure = plt.figure(figsize=(12, 12))\n",
    "        plt.imshow(cm, interpolation='nearest', cmap=plt.cm.Blues)\n",
    "        plt.title(\"Confusion matrix\")\n",
    "        plt.colorbar()\n",
    "        tick_marks = np.arange(len(class_names))\n",
    "        plt.xticks(tick_marks, class_names, rotation=45)\n",
    "        plt.yticks(tick_marks, class_names)\n",
    "\n",
    "        # Normalize the confusion matrix.\n",
    "        cm = np.around(cm.astype('float') / cm.sum(axis=1)[:, np.newaxis], decimals=2)\n",
    "\n",
    "        # Use white text if squares are dark; otherwise black.\n",
    "        threshold = cm.max() / 2.\n",
    "        for i, j in itertools.product(range(cm.shape[0]), range(cm.shape[1])):\n",
    "            color = \"white\" if cm[i, j] > threshold else \"black\"\n",
    "            plt.text(j, i, cm[i, j], horizontalalignment=\"center\", color=color)\n",
    "\n",
    "        plt.tight_layout()\n",
    "        plt.ylabel('True label')\n",
    "        plt.xlabel('Predicted label')\n",
    "\n",
    "        return figure\n",
    "\n",
    "    def plot_to_image(figure):\n",
    "        \"\"\"Converts the matplotlib plot specified by 'figure' to a PNG image and\n",
    "        returns it. The supplied figure is closed and inaccessible after this call.\"\"\"\n",
    "\n",
    "        # Save the plot to a PNG in memory.\n",
    "        buf = io.BytesIO()\n",
    "        plt.savefig(buf, format='png')\n",
    "\n",
    "        # Closing the figure prevents it from being displayed directly inside the notebook.\n",
    "        plt.close(figure)\n",
    "\n",
    "        buf.seek(0)\n",
    "\n",
    "        # Convert PNG buffer to TF image\n",
    "        image = tf.image.decode_png(buf.getvalue(), channels=4)\n",
    "\n",
    "        # Add the batch dimension\n",
    "        image = tf.expand_dims(image, 0)\n",
    "\n",
    "        return image\n",
    "\n",
    "    # Define a file writer variable for logging purposes\n",
    "    file_writer_cm = tf.summary.create_file_writer(log_dir + '/cm')\n",
    "\n",
    "    def log_confusion_matrix(epoch, logs):\n",
    "        # Use the model to predict the values from the validation dataset.\n",
    "        test_pred_raw = model.predict(images_val)\n",
    "        test_pred = np.argmax(test_pred_raw, axis=1)\n",
    "\n",
    "        # Calculate the confusion matrix.\n",
    "        cm = sklearn.metrics.confusion_matrix(labels_val, test_pred)\n",
    "\n",
    "        # Log the confusion matrix as an image summary.\n",
    "        figure = plot_confusion_matrix(cm, class_names=['Boots Male','Trainers/Sneakers Male',\n",
    "                                                        'Sandals/Flip flops/Slippers Male', 'Formal shoes Male',\n",
    "                                                        'Others Male',\n",
    "                                                        'Boots Female', 'Ballerina Female', 'Trainers/Sneakers Female',\n",
    "                                                        'High heels Female', 'Sandals/Flip flops/Slippers Female',\n",
    "                                                        'Others Female'])\n",
    "        cm_image = plot_to_image(figure)\n",
    "\n",
    "        # Log the confusion matrix as an image summary.\n",
    "        with file_writer_cm.as_default():\n",
    "            tf.summary.image(\"Confusion Matrix\", cm_image, step=epoch)\n",
    "            \n",
    "    #callbacks\n",
    "    early_stopping = tf.keras.callbacks.EarlyStopping(patience = 2, restore_best_weights = True)\n",
    "    cm_callback = tf.keras.callbacks.LambdaCallback(on_epoch_end = log_confusion_matrix)\n",
    "    tensorboard_callback = tf.keras.callbacks.TensorBoard(log_dir = log_dir, histogram_freq = 1, profile_batch = 0)\n",
    "    \n",
    "    model.fit(images_train,\n",
    "              labels_train,\n",
    "              epochs = EPOCHS,\n",
    "              batch_size = BATCH_SIZE,\n",
    "              callbacks = [tensorboard_callback, cm_callback, early_stopping],\n",
    "              validation_data = (images_val, labels_val),\n",
    "              verbose = 1)\n",
    "    \n",
    "    _, accuracy = model.evaluate(images_val, labels_val)\n",
    "    \n",
    "    model.save(r'saved_models\\Model 1 (Shoes_All_Dropout)\\Run-{}'.format(session_num))\n",
    "    \n",
    "    return accuracy"
   ]
  },
  {
   "cell_type": "code",
   "execution_count": 44,
   "id": "standing-repair",
   "metadata": {
    "ExecuteTime": {
     "end_time": "2021-03-03T01:06:05.139546Z",
     "start_time": "2021-03-03T01:06:05.124819Z"
    }
   },
   "outputs": [],
   "source": [
    "def run(log_dir, hparams, session_num):\n",
    "    with tf.summary.create_file_writer(log_dir).as_default():\n",
    "        hp.hparams(hparams)  # record the values used in this trial\n",
    "        accuracy = train_test_model(hparams, session_num)\n",
    "        tf.summary.scalar(METRIC,accuracy,step=1)"
   ]
  },
  {
   "cell_type": "code",
   "execution_count": 45,
   "id": "convenient-raising",
   "metadata": {
    "ExecuteTime": {
     "end_time": "2021-03-03T01:55:52.986577Z",
     "start_time": "2021-03-03T01:06:05.142075Z"
    }
   },
   "outputs": [
    {
     "name": "stdout",
     "output_type": "stream",
     "text": [
      "--- Starting Trial: run-18\n",
      "{'kernel size': 5, 'kernel num': 128, 'dropout rate': 0.4}\n",
      "Epoch 1/15\n",
      "155/155 [==============================] - 375s 2s/step - loss: 1.6478 - accuracy: 0.4734 - val_loss: 1.1942 - val_accuracy: 0.6300\n",
      "Epoch 2/15\n",
      "155/155 [==============================] - 350s 2s/step - loss: 1.0268 - accuracy: 0.6519 - val_loss: 0.8968 - val_accuracy: 0.6906\n",
      "Epoch 3/15\n",
      "155/155 [==============================] - 348s 2s/step - loss: 0.8030 - accuracy: 0.7187 - val_loss: 0.8446 - val_accuracy: 0.7068\n",
      "Epoch 4/15\n",
      "155/155 [==============================] - 361s 2s/step - loss: 0.6672 - accuracy: 0.7631 - val_loss: 0.7798 - val_accuracy: 0.7157\n",
      "Epoch 5/15\n",
      "155/155 [==============================] - 373s 2s/step - loss: 0.5811 - accuracy: 0.7879 - val_loss: 0.7931 - val_accuracy: 0.7383\n",
      "Epoch 6/15\n",
      "155/155 [==============================] - 387s 2s/step - loss: 0.4948 - accuracy: 0.8158 - val_loss: 0.7353 - val_accuracy: 0.7625\n",
      "Epoch 7/15\n",
      "155/155 [==============================] - 378s 2s/step - loss: 0.4355 - accuracy: 0.8400 - val_loss: 0.7434 - val_accuracy: 0.7698\n",
      "Epoch 8/15\n",
      "155/155 [==============================] - 383s 2s/step - loss: 0.3711 - accuracy: 0.8602 - val_loss: 0.7397 - val_accuracy: 0.7609\n",
      "39/39 [==============================] - 12s 302ms/step - loss: 0.7353 - accuracy: 0.7625\n",
      "INFO:tensorflow:Assets written to: saved_models\\Model 1 (Shoes_All_Dropout)\\Run-18\\assets\n"
     ]
    }
   ],
   "source": [
    "# This, again, the best model I got is from the 6th run\n",
    "# First time I forgot the save the model, but I saved the hparam tuning result correctly\n",
    "session_num = 18\n",
    "for kernel_size in HP_KERNEL_SIZE.domain.values:\n",
    "    for kernel_num in HP_KERNEL_NUM.domain.values:\n",
    "        for dropout_rate in HP_DROPOUT_RATE.domain.values:\n",
    "            hparams = {\n",
    "                HP_KERNEL_SIZE : kernel_size,\n",
    "                HP_KERNEL_NUM : kernel_num,\n",
    "                HP_DROPOUT_RATE : dropout_rate\n",
    "            }\n",
    "            \n",
    "            run_name = f'run-{session_num}'\n",
    "            print('--- Starting Trial:',run_name)\n",
    "            print({h.name: hparams[h] for h in hparams})\n",
    "            run(\"Logs/Model 1 (Shoes_All_Dropout)/hparam_tuning/\" + run_name, hparams, session_num)\n",
    "\n",
    "            session_num += 1"
   ]
  }
 ],
 "metadata": {
  "kernelspec": {
   "display_name": "Python 3 (TF2)",
   "language": "python",
   "name": "python3-tf2"
  },
  "language_info": {
   "codemirror_mode": {
    "name": "ipython",
    "version": 3
   },
   "file_extension": ".py",
   "mimetype": "text/x-python",
   "name": "python",
   "nbconvert_exporter": "python",
   "pygments_lexer": "ipython3",
   "version": "3.8.5"
  }
 },
 "nbformat": 4,
 "nbformat_minor": 5
}
