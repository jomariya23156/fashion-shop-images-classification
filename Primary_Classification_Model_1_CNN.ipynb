{
 "cells": [
  {
   "cell_type": "markdown",
   "id": "biblical-hampshire",
   "metadata": {},
   "source": [
    "## Import libraries"
   ]
  },
  {
   "cell_type": "code",
   "execution_count": 1,
   "id": "million-island",
   "metadata": {
    "ExecuteTime": {
     "end_time": "2021-03-03T14:43:36.441348Z",
     "start_time": "2021-03-03T14:43:32.106524Z"
    }
   },
   "outputs": [],
   "source": [
    "import io\n",
    "import itertools\n",
    "\n",
    "import numpy as np\n",
    "import sklearn.metrics\n",
    "\n",
    "import tensorflow as tf\n",
    "from tensorboard.plugins.hparams import api as hp\n",
    "\n",
    "import matplotlib.pyplot as plt"
   ]
  },
  {
   "cell_type": "markdown",
   "id": "heard-montana",
   "metadata": {},
   "source": [
    "## Load the dataset"
   ]
  },
  {
   "cell_type": "code",
   "execution_count": 2,
   "id": "mighty-income",
   "metadata": {
    "ExecuteTime": {
     "end_time": "2021-03-03T14:43:37.865106Z",
     "start_time": "2021-03-03T14:43:37.848320Z"
    }
   },
   "outputs": [],
   "source": [
    "train_data = np.load('dataset/Primary categories - Train.npz')\n",
    "val_data = np.load('dataset/Primary categories - Validation.npz')\n",
    "test_data = np.load('dataset/Primary categories - Test.npz')"
   ]
  },
  {
   "cell_type": "code",
   "execution_count": 3,
   "id": "terminal-motion",
   "metadata": {
    "ExecuteTime": {
     "end_time": "2021-03-03T14:43:39.552855Z",
     "start_time": "2021-03-03T14:43:38.712111Z"
    }
   },
   "outputs": [],
   "source": [
    "images_train, labels_train = train_data['images'], train_data['labels']\n",
    "\n",
    "images_val, labels_val = val_data['images'], val_data['labels']\n",
    "\n",
    "images_test, labels_test = test_data['images'], test_data['labels']"
   ]
  },
  {
   "cell_type": "markdown",
   "id": "facial-actress",
   "metadata": {},
   "source": [
    "We have 3 labels here:  \n",
    "0 for Glasses/Sunglasses  \n",
    "1 for Trousers and Jeans  \n",
    "2 for Shoes"
   ]
  },
  {
   "cell_type": "code",
   "execution_count": 5,
   "id": "conservative-karma",
   "metadata": {},
   "outputs": [
    {
     "data": {
      "text/plain": [
       "(12963, 120, 90, 3)"
      ]
     },
     "execution_count": 5,
     "metadata": {},
     "output_type": "execute_result"
    }
   ],
   "source": [
    "images_train.shape"
   ]
  },
  {
   "cell_type": "code",
   "execution_count": 6,
   "id": "challenging-integral",
   "metadata": {},
   "outputs": [
    {
     "data": {
      "text/plain": [
       "array([0, 1, 2])"
      ]
     },
     "execution_count": 6,
     "metadata": {},
     "output_type": "execute_result"
    }
   ],
   "source": [
    "np.unique(labels_train)"
   ]
  },
  {
   "cell_type": "code",
   "execution_count": 7,
   "id": "accompanied-weekly",
   "metadata": {},
   "outputs": [
    {
     "data": {
      "text/plain": [
       "(12963,)"
      ]
     },
     "execution_count": 7,
     "metadata": {},
     "output_type": "execute_result"
    }
   ],
   "source": [
    "labels_train.shape"
   ]
  },
  {
   "cell_type": "code",
   "execution_count": 8,
   "id": "aggregate-david",
   "metadata": {},
   "outputs": [
    {
     "data": {
      "text/plain": [
       "(1620, 120, 90, 3)"
      ]
     },
     "execution_count": 8,
     "metadata": {},
     "output_type": "execute_result"
    }
   ],
   "source": [
    "images_val.shape"
   ]
  },
  {
   "cell_type": "code",
   "execution_count": 9,
   "id": "caring-cruise",
   "metadata": {},
   "outputs": [
    {
     "data": {
      "text/plain": [
       "(1620, 120, 90, 3)"
      ]
     },
     "execution_count": 9,
     "metadata": {},
     "output_type": "execute_result"
    }
   ],
   "source": [
    "images_test.shape"
   ]
  },
  {
   "cell_type": "code",
   "execution_count": 4,
   "id": "immediate-booth",
   "metadata": {
    "ExecuteTime": {
     "end_time": "2021-03-03T14:43:43.176270Z",
     "start_time": "2021-03-03T14:43:41.581370Z"
    }
   },
   "outputs": [],
   "source": [
    "images_train = images_train/255.0\n",
    "images_val = images_val/255.0\n",
    "images_test = images_test/255.0"
   ]
  },
  {
   "cell_type": "code",
   "execution_count": 11,
   "id": "legal-offset",
   "metadata": {},
   "outputs": [
    {
     "data": {
      "text/plain": [
       "(12963, 120, 90, 3)"
      ]
     },
     "execution_count": 11,
     "metadata": {},
     "output_type": "execute_result"
    }
   ],
   "source": [
    "images_train.shape"
   ]
  },
  {
   "cell_type": "markdown",
   "id": "manufactured-variety",
   "metadata": {},
   "source": [
    "## Create the model"
   ]
  },
  {
   "cell_type": "markdown",
   "id": "renewable-sessions",
   "metadata": {},
   "source": [
    "### Hyperparameters tuning"
   ]
  },
  {
   "cell_type": "code",
   "execution_count": 12,
   "id": "dedicated-table",
   "metadata": {},
   "outputs": [],
   "source": [
    "# define some hyperparameters\n",
    "BATCH_SIZE = 64\n",
    "EPOCHS = 15"
   ]
  },
  {
   "cell_type": "code",
   "execution_count": 13,
   "id": "unexpected-wales",
   "metadata": {},
   "outputs": [],
   "source": [
    "# for hyperparameters tuning\n",
    "HP_KERNEL_SIZE = hp.HParam('kernel size', hp.Discrete([3,5,7]))\n",
    "HP_KERNEL_NUM = hp.HParam('kernel num', hp.Discrete([32,64,96,128]))\n",
    "\n",
    "METRIC = 'accuracy'\n",
    "\n",
    "with tf.summary.create_file_writer(r'Logs/Model 1 (Primary Classification)/hparam_tuning/').as_default():\n",
    "    hp.hparams_config(\n",
    "        hparams = [HP_KERNEL_SIZE, HP_KERNEL_NUM],\n",
    "        metrics = [hp.Metric(METRIC, display_name = 'accuracy')]\n",
    "    )"
   ]
  },
  {
   "cell_type": "markdown",
   "id": "apparent-navigator",
   "metadata": {},
   "source": [
    "### Model architecture"
   ]
  },
  {
   "cell_type": "code",
   "execution_count": 14,
   "id": "controlling-prison",
   "metadata": {},
   "outputs": [],
   "source": [
    "def train_test_model(hparams, session_num):\n",
    "    model = tf.keras.Sequential([\n",
    "        tf.keras.layers.Conv2D(hparams[HP_KERNEL_NUM], hparams[HP_KERNEL_SIZE], activation = 'relu', input_shape = (120,90,3)),\n",
    "        tf.keras.layers.MaxPooling2D(pool_size=(2,2)),\n",
    "        tf.keras.layers.Conv2D(hparams[HP_KERNEL_NUM], 3, activation = 'relu'),\n",
    "        tf.keras.layers.MaxPooling2D(pool_size=(2,2)),\n",
    "        tf.keras.layers.Flatten(),\n",
    "        tf.keras.layers.Dense(3)\n",
    "    ])\n",
    "\n",
    "    loss_fn = tf.keras.losses.SparseCategoricalCrossentropy(from_logits = True)\n",
    "\n",
    "    model.compile(optimizer = 'adam', loss = loss_fn, metrics = ['accuracy'])\n",
    "    \n",
    "    log_dir = \"Logs\\\\Model 1 (Primary Classification)\\\\fit\\\\\" + f\"run-{session_num}\"\n",
    "    \n",
    "    def plot_confusion_matrix(cm, class_names):\n",
    "        \"\"\"\n",
    "        Returns a matplotlib figure containing the plotted confusion matrix.\n",
    "\n",
    "        Args:\n",
    "        cm (array, shape = [n, n]): a confusion matrix of integer classes\n",
    "        class_names (array, shape = [n]): String names of the integer classes\n",
    "        \"\"\"\n",
    "        figure = plt.figure(figsize=(12, 12))\n",
    "        plt.imshow(cm, interpolation='nearest', cmap=plt.cm.Blues)\n",
    "        plt.title(\"Confusion matrix\")\n",
    "        plt.colorbar()\n",
    "        tick_marks = np.arange(len(class_names))\n",
    "        plt.xticks(tick_marks, class_names, rotation=45)\n",
    "        plt.yticks(tick_marks, class_names)\n",
    "\n",
    "        # Normalize the confusion matrix.\n",
    "        cm = np.around(cm.astype('float') / cm.sum(axis=1)[:, np.newaxis], decimals=2)\n",
    "\n",
    "        # Use white text if squares are dark; otherwise black.\n",
    "        threshold = cm.max() / 2.\n",
    "        for i, j in itertools.product(range(cm.shape[0]), range(cm.shape[1])):\n",
    "            color = \"white\" if cm[i, j] > threshold else \"black\"\n",
    "            plt.text(j, i, cm[i, j], horizontalalignment=\"center\", color=color)\n",
    "\n",
    "        plt.tight_layout()\n",
    "        plt.ylabel('True label')\n",
    "        plt.xlabel('Predicted label')\n",
    "\n",
    "        return figure\n",
    "\n",
    "    def plot_to_image(figure):\n",
    "        \"\"\"Converts the matplotlib plot specified by 'figure' to a PNG image and\n",
    "        returns it. The supplied figure is closed and inaccessible after this call.\"\"\"\n",
    "\n",
    "        # Save the plot to a PNG in memory.\n",
    "        buf = io.BytesIO()\n",
    "        plt.savefig(buf, format='png')\n",
    "\n",
    "        # Closing the figure prevents it from being displayed directly inside the notebook.\n",
    "        plt.close(figure)\n",
    "\n",
    "        buf.seek(0)\n",
    "\n",
    "        # Convert PNG buffer to TF image\n",
    "        image = tf.image.decode_png(buf.getvalue(), channels=4)\n",
    "\n",
    "        # Add the batch dimension\n",
    "        image = tf.expand_dims(image, 0)\n",
    "\n",
    "        return image\n",
    "\n",
    "    # Define a file writer variable for logging purposes\n",
    "    file_writer_cm = tf.summary.create_file_writer(log_dir + '/cm')\n",
    "\n",
    "    def log_confusion_matrix(epoch, logs):\n",
    "        # Use the model to predict the values from the validation dataset.\n",
    "        test_pred_raw = model.predict(images_val)\n",
    "        test_pred = np.argmax(test_pred_raw, axis=1)\n",
    "\n",
    "        # Calculate the confusion matrix.\n",
    "        cm = sklearn.metrics.confusion_matrix(labels_val, test_pred)\n",
    "\n",
    "        # Log the confusion matrix as an image summary.\n",
    "        figure = plot_confusion_matrix(cm, class_names=['Glasses/Sunglasses','Trousers/Jeans','Shoes'])\n",
    "        cm_image = plot_to_image(figure)\n",
    "\n",
    "        # Log the confusion matrix as an image summary.\n",
    "        with file_writer_cm.as_default():\n",
    "            tf.summary.image(\"Confusion Matrix\", cm_image, step=epoch)\n",
    "    \n",
    "    # Callbacks\n",
    "    early_stopping = tf.keras.callbacks.EarlyStopping(\n",
    "        patience = 2,\n",
    "        restore_best_weights = True\n",
    "    )\n",
    "    cm_callback = tf.keras.callbacks.LambdaCallback(on_epoch_end = log_confusion_matrix)\n",
    "    tensorboard_callback = tf.keras.callbacks.TensorBoard(log_dir = log_dir, histogram_freq = 1, profile_batch = 0)\n",
    "    \n",
    "    model.fit(images_train, \n",
    "              labels_train, \n",
    "              epochs = EPOCHS, \n",
    "              batch_size = BATCH_SIZE, \n",
    "              callbacks = [tensorboard_callback, cm_callback, early_stopping],\n",
    "              validation_data = (images_val, labels_val),\n",
    "              verbose = 1\n",
    "             )\n",
    "    \n",
    "    _, accuracy = model.evaluate(images_val,labels_val)\n",
    "    \n",
    "    model.save(r'saved_models\\Model 1 (Primary Classification)\\Run-{}'.format(session_num))\n",
    "    \n",
    "    return accuracy"
   ]
  },
  {
   "cell_type": "markdown",
   "id": "pending-numbers",
   "metadata": {},
   "source": [
    "## Run the model!"
   ]
  },
  {
   "cell_type": "code",
   "execution_count": 15,
   "id": "distinct-attempt",
   "metadata": {},
   "outputs": [],
   "source": [
    "def run(log_dir,hparams,session_num):\n",
    "    with tf.summary.create_file_writer(log_dir).as_default():\n",
    "        hp.hparams(hparams)  # record the values used in this trial\n",
    "        accuracy = train_test_model(hparams, session_num)\n",
    "        tf.summary.scalar(METRIC,accuracy,step=1)"
   ]
  },
  {
   "cell_type": "code",
   "execution_count": 16,
   "id": "desperate-singles",
   "metadata": {},
   "outputs": [
    {
     "name": "stdout",
     "output_type": "stream",
     "text": [
      "--- Starting Trial: run-1\n",
      "{'kernel size': 3, 'kernel num': 32}\n",
      "Epoch 1/15\n",
      "203/203 [==============================] - 65s 321ms/step - loss: 0.0887 - accuracy: 0.9725 - val_loss: 0.0139 - val_accuracy: 0.9951\n",
      "Epoch 2/15\n",
      "203/203 [==============================] - 64s 313ms/step - loss: 0.0154 - accuracy: 0.9981 - val_loss: 0.0033 - val_accuracy: 0.9994\n",
      "Epoch 3/15\n",
      "203/203 [==============================] - 64s 315ms/step - loss: 0.0117 - accuracy: 0.9981 - val_loss: 0.0039 - val_accuracy: 0.9988\n",
      "Epoch 4/15\n",
      "203/203 [==============================] - 68s 333ms/step - loss: 0.0061 - accuracy: 0.9993 - val_loss: 0.0032 - val_accuracy: 0.9988\n",
      "Epoch 5/15\n",
      "203/203 [==============================] - 64s 316ms/step - loss: 0.0058 - accuracy: 0.9990 - val_loss: 0.0145 - val_accuracy: 0.9957\n",
      "Epoch 6/15\n",
      "203/203 [==============================] - 65s 323ms/step - loss: 0.0065 - accuracy: 0.9991 - val_loss: 0.0054 - val_accuracy: 0.9981\n",
      "51/51 [==============================] - 2s 45ms/step - loss: 0.0032 - accuracy: 0.9988\n",
      "WARNING:tensorflow:From C:\\Users\\Admin\\anaconda3\\envs\\Python3-TF2\\lib\\site-packages\\tensorflow\\python\\training\\tracking\\tracking.py:111: Model.state_updates (from tensorflow.python.keras.engine.training) is deprecated and will be removed in a future version.\n",
      "Instructions for updating:\n",
      "This property should not be used in TensorFlow 2.0, as updates are applied automatically.\n",
      "WARNING:tensorflow:From C:\\Users\\Admin\\anaconda3\\envs\\Python3-TF2\\lib\\site-packages\\tensorflow\\python\\training\\tracking\\tracking.py:111: Layer.updates (from tensorflow.python.keras.engine.base_layer) is deprecated and will be removed in a future version.\n",
      "Instructions for updating:\n",
      "This property should not be used in TensorFlow 2.0, as updates are applied automatically.\n",
      "INFO:tensorflow:Assets written to: saved_models\\Model 1\\Run-1\\assets\n",
      "--- Starting Trial: run-2\n",
      "{'kernel size': 3, 'kernel num': 64}\n",
      "Epoch 1/15\n",
      "203/203 [==============================] - 128s 631ms/step - loss: 0.0693 - accuracy: 0.9796 - val_loss: 0.0114 - val_accuracy: 0.9981\n",
      "Epoch 2/15\n",
      "203/203 [==============================] - 130s 638ms/step - loss: 0.0137 - accuracy: 0.9979 - val_loss: 0.0024 - val_accuracy: 1.0000\n",
      "Epoch 3/15\n",
      "203/203 [==============================] - 127s 627ms/step - loss: 0.0169 - accuracy: 0.9965 - val_loss: 0.0305 - val_accuracy: 0.9975\n",
      "Epoch 4/15\n",
      "203/203 [==============================] - 127s 624ms/step - loss: 0.0141 - accuracy: 0.9971 - val_loss: 0.0051 - val_accuracy: 0.9981\n",
      "51/51 [==============================] - 4s 84ms/step - loss: 0.0024 - accuracy: 1.0000\n",
      "INFO:tensorflow:Assets written to: saved_models\\Model 1\\Run-2\\assets\n",
      "--- Starting Trial: run-3\n",
      "{'kernel size': 3, 'kernel num': 96}\n",
      "Epoch 1/15\n",
      "203/203 [==============================] - 210s 1s/step - loss: 0.0740 - accuracy: 0.9760 - val_loss: 0.0223 - val_accuracy: 0.9932\n",
      "Epoch 2/15\n",
      "203/203 [==============================] - 229s 1s/step - loss: 0.0201 - accuracy: 0.9965 - val_loss: 0.0089 - val_accuracy: 0.9975\n",
      "Epoch 3/15\n",
      "203/203 [==============================] - 205s 1s/step - loss: 0.0097 - accuracy: 0.9990 - val_loss: 0.0044 - val_accuracy: 0.9988\n",
      "Epoch 4/15\n",
      "203/203 [==============================] - 204s 1s/step - loss: 0.0096 - accuracy: 0.9986 - val_loss: 0.0049 - val_accuracy: 0.9994\n",
      "Epoch 5/15\n",
      "203/203 [==============================] - 207s 1s/step - loss: 0.0072 - accuracy: 0.9989 - val_loss: 0.0029 - val_accuracy: 0.9994\n",
      "Epoch 6/15\n",
      "203/203 [==============================] - 204s 1s/step - loss: 0.0052 - accuracy: 0.9992 - val_loss: 0.0120 - val_accuracy: 0.9963\n",
      "Epoch 7/15\n",
      "203/203 [==============================] - 203s 1s/step - loss: 0.0063 - accuracy: 0.9990 - val_loss: 0.0035 - val_accuracy: 0.9988\n",
      "51/51 [==============================] - 7s 131ms/step - loss: 0.0029 - accuracy: 0.9994\n",
      "INFO:tensorflow:Assets written to: saved_models\\Model 1\\Run-3\\assets\n",
      "--- Starting Trial: run-4\n",
      "{'kernel size': 3, 'kernel num': 128}\n",
      "Epoch 1/15\n",
      "203/203 [==============================] - 300s 1s/step - loss: 0.1024 - accuracy: 0.9711 - val_loss: 0.0091 - val_accuracy: 0.9975\n",
      "Epoch 2/15\n",
      "203/203 [==============================] - 306s 2s/step - loss: 0.0158 - accuracy: 0.9978 - val_loss: 0.0044 - val_accuracy: 0.9988\n",
      "Epoch 3/15\n",
      "203/203 [==============================] - 315s 2s/step - loss: 0.0105 - accuracy: 0.9988 - val_loss: 0.0258 - val_accuracy: 0.9981\n",
      "Epoch 4/15\n",
      "203/203 [==============================] - 298s 1s/step - loss: 0.0570 - accuracy: 0.9846 - val_loss: 0.0478 - val_accuracy: 0.9778\n",
      "51/51 [==============================] - 10s 197ms/step - loss: 0.0044 - accuracy: 0.9988\n",
      "INFO:tensorflow:Assets written to: saved_models\\Model 1\\Run-4\\assets\n",
      "--- Starting Trial: run-5\n",
      "{'kernel size': 5, 'kernel num': 32}\n",
      "Epoch 1/15\n",
      "203/203 [==============================] - 74s 365ms/step - loss: 0.0723 - accuracy: 0.9818 - val_loss: 0.0063 - val_accuracy: 0.9994\n",
      "Epoch 2/15\n",
      "203/203 [==============================] - 72s 354ms/step - loss: 0.0148 - accuracy: 0.9975 - val_loss: 0.0029 - val_accuracy: 0.9994\n",
      "Epoch 3/15\n",
      "203/203 [==============================] - 73s 357ms/step - loss: 0.0236 - accuracy: 0.9949 - val_loss: 0.0157 - val_accuracy: 0.9969\n",
      "Epoch 4/15\n",
      "203/203 [==============================] - 73s 360ms/step - loss: 0.0122 - accuracy: 0.9985 - val_loss: 0.0091 - val_accuracy: 0.9981\n",
      "51/51 [==============================] - 3s 53ms/step - loss: 0.0029 - accuracy: 0.9994\n",
      "INFO:tensorflow:Assets written to: saved_models\\Model 1\\Run-5\\assets\n",
      "--- Starting Trial: run-6\n",
      "{'kernel size': 5, 'kernel num': 64}\n",
      "Epoch 1/15\n",
      "203/203 [==============================] - 146s 717ms/step - loss: 0.0839 - accuracy: 0.9765 - val_loss: 0.0136 - val_accuracy: 0.9975\n",
      "Epoch 2/15\n",
      "203/203 [==============================] - 154s 761ms/step - loss: 0.0153 - accuracy: 0.9988 - val_loss: 0.0126 - val_accuracy: 0.9975\n",
      "Epoch 3/15\n",
      "203/203 [==============================] - 159s 785ms/step - loss: 0.0101 - accuracy: 0.9989 - val_loss: 0.0114 - val_accuracy: 0.9981\n",
      "Epoch 4/15\n",
      "203/203 [==============================] - 147s 722ms/step - loss: 0.0074 - accuracy: 0.9992 - val_loss: 0.0096 - val_accuracy: 0.9981\n",
      "Epoch 5/15\n",
      "203/203 [==============================] - 142s 698ms/step - loss: 0.0059 - accuracy: 0.9990 - val_loss: 0.0071 - val_accuracy: 0.9981\n",
      "Epoch 6/15\n",
      "203/203 [==============================] - 148s 728ms/step - loss: 0.0056 - accuracy: 0.9992 - val_loss: 0.0270 - val_accuracy: 0.9944\n",
      "Epoch 7/15\n",
      "203/203 [==============================] - 148s 728ms/step - loss: 0.0068 - accuracy: 0.9988 - val_loss: 0.0079 - val_accuracy: 0.9975\n",
      "51/51 [==============================] - 5s 92ms/step - loss: 0.0071 - accuracy: 0.9981\n",
      "INFO:tensorflow:Assets written to: saved_models\\Model 1\\Run-6\\assets\n",
      "--- Starting Trial: run-7\n",
      "{'kernel size': 5, 'kernel num': 96}\n",
      "Epoch 1/15\n",
      "203/203 [==============================] - 229s 1s/step - loss: 0.0938 - accuracy: 0.9725 - val_loss: 0.0187 - val_accuracy: 0.9981\n",
      "Epoch 2/15\n",
      "203/203 [==============================] - 220s 1s/step - loss: 0.0170 - accuracy: 0.9980 - val_loss: 0.0043 - val_accuracy: 0.9994\n",
      "Epoch 3/15\n",
      "203/203 [==============================] - 219s 1s/step - loss: 0.0138 - accuracy: 0.9985 - val_loss: 0.0022 - val_accuracy: 0.9994\n",
      "Epoch 4/15\n",
      "203/203 [==============================] - 225s 1s/step - loss: 0.0101 - accuracy: 0.9987 - val_loss: 0.0104 - val_accuracy: 0.9969\n",
      "Epoch 5/15\n",
      "203/203 [==============================] - 230s 1s/step - loss: 0.0285 - accuracy: 0.9928 - val_loss: 0.0127 - val_accuracy: 0.9981\n",
      "51/51 [==============================] - 8s 149ms/step - loss: 0.0022 - accuracy: 0.9994\n",
      "INFO:tensorflow:Assets written to: saved_models\\Model 1\\Run-7\\assets\n",
      "--- Starting Trial: run-8\n",
      "{'kernel size': 5, 'kernel num': 128}\n",
      "Epoch 1/15\n",
      "203/203 [==============================] - 311s 2s/step - loss: 0.0921 - accuracy: 0.9729 - val_loss: 0.0136 - val_accuracy: 0.9969\n",
      "Epoch 2/15\n",
      "203/203 [==============================] - 322s 2s/step - loss: 0.0155 - accuracy: 0.9980 - val_loss: 0.0121 - val_accuracy: 0.9981\n",
      "Epoch 3/15\n",
      "203/203 [==============================] - 322s 2s/step - loss: 0.0175 - accuracy: 0.9972 - val_loss: 0.0083 - val_accuracy: 0.9975\n",
      "Epoch 4/15\n",
      "203/203 [==============================] - 315s 2s/step - loss: 0.0094 - accuracy: 0.9988 - val_loss: 0.0126 - val_accuracy: 0.9975\n",
      "Epoch 5/15\n",
      "203/203 [==============================] - 317s 2s/step - loss: 0.0055 - accuracy: 0.9992 - val_loss: 0.0027 - val_accuracy: 0.9988\n",
      "Epoch 6/15\n",
      "203/203 [==============================] - 342s 2s/step - loss: 0.0049 - accuracy: 0.9994 - val_loss: 0.0051 - val_accuracy: 0.9981\n",
      "Epoch 7/15\n",
      "203/203 [==============================] - 315s 2s/step - loss: 0.0029 - accuracy: 0.9997 - val_loss: 0.0017 - val_accuracy: 0.9994\n",
      "Epoch 8/15\n",
      "203/203 [==============================] - 331s 2s/step - loss: 0.0017 - accuracy: 0.9996 - val_loss: 7.3452e-04 - val_accuracy: 1.0000\n",
      "Epoch 9/15\n",
      "203/203 [==============================] - 319s 2s/step - loss: 0.0014 - accuracy: 0.9996 - val_loss: 0.0070 - val_accuracy: 0.9975\n",
      "Epoch 10/15\n",
      "203/203 [==============================] - 309s 2s/step - loss: 0.0032 - accuracy: 0.9998 - val_loss: 9.1062e-04 - val_accuracy: 1.0000\n",
      "51/51 [==============================] - 9s 185ms/step - loss: 7.3452e-04 - accuracy: 1.0000\n",
      "INFO:tensorflow:Assets written to: saved_models\\Model 1\\Run-8\\assets\n",
      "--- Starting Trial: run-9\n",
      "{'kernel size': 7, 'kernel num': 32}\n",
      "Epoch 1/15\n",
      "203/203 [==============================] - 87s 427ms/step - loss: 0.1094 - accuracy: 0.9691 - val_loss: 0.0086 - val_accuracy: 0.9988\n",
      "Epoch 2/15\n",
      "203/203 [==============================] - 86s 422ms/step - loss: 0.0177 - accuracy: 0.9981 - val_loss: 0.0069 - val_accuracy: 0.9988\n",
      "Epoch 3/15\n",
      "203/203 [==============================] - 88s 435ms/step - loss: 0.0105 - accuracy: 0.9990 - val_loss: 0.0040 - val_accuracy: 0.9988\n",
      "Epoch 4/15\n",
      "203/203 [==============================] - 91s 447ms/step - loss: 0.0073 - accuracy: 0.9992 - val_loss: 0.0042 - val_accuracy: 0.9988\n",
      "Epoch 5/15\n",
      "203/203 [==============================] - 90s 443ms/step - loss: 0.0055 - accuracy: 0.9995 - val_loss: 0.0047 - val_accuracy: 0.9988\n",
      "51/51 [==============================] - 3s 54ms/step - loss: 0.0040 - accuracy: 0.9988\n",
      "INFO:tensorflow:Assets written to: saved_models\\Model 1\\Run-9\\assets\n",
      "--- Starting Trial: run-10\n",
      "{'kernel size': 7, 'kernel num': 64}\n",
      "Epoch 1/15\n",
      "203/203 [==============================] - 152s 751ms/step - loss: 0.0900 - accuracy: 0.9726 - val_loss: 0.0101 - val_accuracy: 0.9981\n",
      "Epoch 2/15\n",
      "203/203 [==============================] - 159s 786ms/step - loss: 0.0191 - accuracy: 0.9977 - val_loss: 0.0107 - val_accuracy: 0.9975\n",
      "Epoch 3/15\n",
      "203/203 [==============================] - 152s 747ms/step - loss: 0.0262 - accuracy: 0.9941 - val_loss: 0.0051 - val_accuracy: 0.9981\n",
      "Epoch 4/15\n",
      "203/203 [==============================] - 158s 780ms/step - loss: 0.0125 - accuracy: 0.9984 - val_loss: 0.0043 - val_accuracy: 0.9988\n",
      "Epoch 5/15\n",
      "203/203 [==============================] - 149s 735ms/step - loss: 0.0081 - accuracy: 0.9990 - val_loss: 0.0065 - val_accuracy: 0.9981\n",
      "Epoch 6/15\n",
      "203/203 [==============================] - 152s 748ms/step - loss: 0.0084 - accuracy: 0.9986 - val_loss: 0.0028 - val_accuracy: 0.9988\n",
      "Epoch 7/15\n",
      "203/203 [==============================] - 141s 693ms/step - loss: 0.0039 - accuracy: 0.9995 - val_loss: 0.0030 - val_accuracy: 0.9994\n",
      "Epoch 8/15\n",
      "203/203 [==============================] - 146s 717ms/step - loss: 0.0035 - accuracy: 0.9997 - val_loss: 0.0060 - val_accuracy: 0.9981\n",
      "51/51 [==============================] - 5s 95ms/step - loss: 0.0028 - accuracy: 0.9988\n",
      "INFO:tensorflow:Assets written to: saved_models\\Model 1\\Run-10\\assets\n",
      "--- Starting Trial: run-11\n",
      "{'kernel size': 7, 'kernel num': 96}\n",
      "Epoch 1/15\n",
      "203/203 [==============================] - 230s 1s/step - loss: 0.1207 - accuracy: 0.9675 - val_loss: 0.0096 - val_accuracy: 0.9981\n",
      "Epoch 2/15\n",
      "203/203 [==============================] - 230s 1s/step - loss: 0.0189 - accuracy: 0.9975 - val_loss: 0.0038 - val_accuracy: 0.9994\n",
      "Epoch 3/15\n",
      "203/203 [==============================] - 232s 1s/step - loss: 0.0117 - accuracy: 0.9989 - val_loss: 0.0034 - val_accuracy: 0.9994\n",
      "Epoch 4/15\n",
      "203/203 [==============================] - 227s 1s/step - loss: 0.0919 - accuracy: 0.9779 - val_loss: 0.0703 - val_accuracy: 0.9753\n",
      "Epoch 5/15\n",
      "203/203 [==============================] - 217s 1s/step - loss: 0.0380 - accuracy: 0.9920 - val_loss: 0.0102 - val_accuracy: 0.9963\n",
      "51/51 [==============================] - 7s 137ms/step - loss: 0.0034 - accuracy: 0.9994\n",
      "INFO:tensorflow:Assets written to: saved_models\\Model 1\\Run-11\\assets\n",
      "--- Starting Trial: run-12\n",
      "{'kernel size': 7, 'kernel num': 128}\n",
      "Epoch 1/15\n",
      "203/203 [==============================] - 299s 1s/step - loss: 0.1025 - accuracy: 0.9656 - val_loss: 0.0087 - val_accuracy: 0.9994\n",
      "Epoch 2/15\n",
      "203/203 [==============================] - 286s 1s/step - loss: 0.0130 - accuracy: 0.9983 - val_loss: 0.0046 - val_accuracy: 0.9994\n",
      "Epoch 3/15\n",
      "203/203 [==============================] - 286s 1s/step - loss: 0.0096 - accuracy: 0.9984 - val_loss: 0.0062 - val_accuracy: 0.9988\n",
      "Epoch 4/15\n",
      "203/203 [==============================] - 318s 2s/step - loss: 0.0088 - accuracy: 0.9984 - val_loss: 0.0052 - val_accuracy: 0.9988\n",
      "51/51 [==============================] - 15s 295ms/step - loss: 0.0046 - accuracy: 0.9994\n",
      "INFO:tensorflow:Assets written to: saved_models\\Model 1\\Run-12\\assets\n"
     ]
    }
   ],
   "source": [
    "session_num = 1\n",
    "# all hparams combination\n",
    "for kernel_size in HP_KERNEL_SIZE.domain.values:\n",
    "    for kernel_num in HP_KERNEL_NUM.domain.values:\n",
    "        hparams = {\n",
    "            HP_KERNEL_SIZE : kernel_size,\n",
    "            HP_KERNEL_NUM : kernel_num\n",
    "        }\n",
    "        run_name = f\"run-{session_num}\"\n",
    "        print('--- Starting Trial:',run_name)\n",
    "        print({h.name: hparams[h] for h in hparams})\n",
    "        run(\"Logs/Model 1 (Primary Classification)/hparam_tuning/\" + run_name, hparams, session_num)\n",
    "        \n",
    "        session_num += 1"
   ]
  },
  {
   "cell_type": "code",
   "execution_count": null,
   "id": "regulated-equipment",
   "metadata": {},
   "outputs": [],
   "source": []
  }
 ],
 "metadata": {
  "kernelspec": {
   "display_name": "Python 3 (TF2)",
   "language": "python",
   "name": "python3-tf2"
  },
  "language_info": {
   "codemirror_mode": {
    "name": "ipython",
    "version": 3
   },
   "file_extension": ".py",
   "mimetype": "text/x-python",
   "name": "python",
   "nbconvert_exporter": "python",
   "pygments_lexer": "ipython3",
   "version": "3.8.5"
  }
 },
 "nbformat": 4,
 "nbformat_minor": 5
}
