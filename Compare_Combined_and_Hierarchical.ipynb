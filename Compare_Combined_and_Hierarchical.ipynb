{
 "cells": [
  {
   "cell_type": "markdown",
   "id": "cutting-friday",
   "metadata": {},
   "source": [
    "# Import libraries"
   ]
  },
  {
   "cell_type": "code",
   "execution_count": 11,
   "id": "shaped-philosophy",
   "metadata": {
    "ExecuteTime": {
     "end_time": "2021-03-03T03:10:45.529534Z",
     "start_time": "2021-03-03T03:10:45.525568Z"
    }
   },
   "outputs": [],
   "source": [
    "import numpy as np\n",
    "import tensorflow as tf"
   ]
  },
  {
   "cell_type": "markdown",
   "id": "portuguese-olive",
   "metadata": {},
   "source": [
    "# Compare models"
   ]
  },
  {
   "cell_type": "markdown",
   "id": "polar-beaver",
   "metadata": {},
   "source": [
    "## Trousers and Jeans"
   ]
  },
  {
   "cell_type": "code",
   "execution_count": 12,
   "id": "stock-rubber",
   "metadata": {
    "ExecuteTime": {
     "end_time": "2021-03-03T03:10:45.545136Z",
     "start_time": "2021-03-03T03:10:45.531048Z"
    }
   },
   "outputs": [],
   "source": [
    "data_tj_test = np.load('dataset/Trousers & Jeans - All - Test.npz')"
   ]
  },
  {
   "cell_type": "code",
   "execution_count": 13,
   "id": "covered-denmark",
   "metadata": {
    "ExecuteTime": {
     "end_time": "2021-03-03T03:10:45.560157Z",
     "start_time": "2021-03-03T03:10:45.546640Z"
    }
   },
   "outputs": [
    {
     "data": {
      "text/plain": [
       "['images', 'labels', 'genders']"
      ]
     },
     "execution_count": 13,
     "metadata": {},
     "output_type": "execute_result"
    }
   ],
   "source": [
    "data_tj_test.files"
   ]
  },
  {
   "cell_type": "code",
   "execution_count": 42,
   "id": "czech-protocol",
   "metadata": {
    "ExecuteTime": {
     "end_time": "2021-03-03T08:57:58.951469Z",
     "start_time": "2021-03-03T08:57:58.944713Z"
    }
   },
   "outputs": [
    {
     "data": {
      "text/plain": [
       "array([0, 1, 2, 3])"
      ]
     },
     "execution_count": 42,
     "metadata": {},
     "output_type": "execute_result"
    }
   ],
   "source": [
    "np.unique(data_tj_test['labels'])"
   ]
  },
  {
   "cell_type": "code",
   "execution_count": 14,
   "id": "respected-gallery",
   "metadata": {
    "ExecuteTime": {
     "end_time": "2021-03-03T03:10:45.606669Z",
     "start_time": "2021-03-03T03:10:45.562659Z"
    }
   },
   "outputs": [],
   "source": [
    "images_tj_test = data_tj_test['images']\n",
    "\n",
    "genders_tj_test = data_tj_test['genders']\n",
    "types_tj_test = data_tj_test['labels'] % 2\n",
    "\n",
    "# The Type label is contained in the combined labels:\n",
    "#    - 0 and 2 correspond to Trousers   (0)\n",
    "#    - 1 and 3 correspond to Jeans      (1)\n",
    "# 0 and 2 are both even, 1 and 3 are odd\n",
    "# Therefore '% 2' works as it: \n",
    "#     returns 0, for input 0 and 2 (Trousers)\n",
    "# and returns 1, for input 1 and 3 (Jeans)"
   ]
  },
  {
   "cell_type": "code",
   "execution_count": 15,
   "id": "illegal-vampire",
   "metadata": {
    "ExecuteTime": {
     "end_time": "2021-03-03T03:10:45.669638Z",
     "start_time": "2021-03-03T03:10:45.607905Z"
    }
   },
   "outputs": [],
   "source": [
    "# Standardized the images\n",
    "images_tj_test = images_tj_test/255.0"
   ]
  },
  {
   "cell_type": "code",
   "execution_count": 16,
   "id": "discrete-elimination",
   "metadata": {
    "ExecuteTime": {
     "end_time": "2021-03-03T03:10:54.670608Z",
     "start_time": "2021-03-03T03:10:45.671630Z"
    }
   },
   "outputs": [],
   "source": [
    "# load the best trained models for each classification\n",
    "model_tj_all = tf.keras.models.load_model('saved_models/Model 3 (Trousers&Jeans_All)/Run-62')\n",
    "\n",
    "model_tj_gender = tf.keras.models.load_model('saved_models/Model 1 (Trousers&Jeans_Gender)/Run-12')\n",
    "model_tj_male = tf.keras.models.load_model('saved_models/Model 1 (Trousers&Jeans_Male)/Run-5')\n",
    "model_tj_female = tf.keras.models.load_model('saved_models/Model 1 (Trousers&Jeans_Female)/Run-13')"
   ]
  },
  {
   "cell_type": "code",
   "execution_count": 37,
   "id": "formal-spare",
   "metadata": {
    "ExecuteTime": {
     "end_time": "2021-03-03T03:38:46.369492Z",
     "start_time": "2021-03-03T03:38:46.363992Z"
    }
   },
   "outputs": [],
   "source": [
    "# In this case only accuracy won't be enough becuz we have 2 classes (genders and labels)\n",
    "# but our 2 models have 2 different approaches; combined and hierarchical\n",
    "# if we use only accuracy it will be hard to compare because hierarchical models have 3 models\n",
    "# but combined model have only 1 model\n",
    "# So, we have to define new measures\n",
    "# in this case we give 1 score if model can predict Gender correctly, and 1 score if model can predict label correctly\n",
    "\n",
    "score_tj_all = 0\n",
    "score_tj_hierarchical = 0"
   ]
  },
  {
   "cell_type": "code",
   "execution_count": 38,
   "id": "noble-flight",
   "metadata": {
    "ExecuteTime": {
     "end_time": "2021-03-03T03:39:18.695339Z",
     "start_time": "2021-03-03T03:38:48.899980Z"
    }
   },
   "outputs": [],
   "source": [
    "#predict 1 by 1 image at a time\n",
    "for i in range(len(images_tj_test)):\n",
    "    \n",
    "    #Test combined model\n",
    "    \n",
    "    # model require 4 dimensional input, if we use only [i] it will give (120,90,3)\n",
    "    # so, we use [i:i+1] it will give (1,120,90,3)\n",
    "    predict_tj_all = model_tj_all(images_tj_test[i:i+1])\n",
    "    # the label is the index corresponding to the highest score\n",
    "    label_tj_all = np.argmax(predict_tj_all)\n",
    "    # 0 1 2//2=1 3//2=1\n",
    "    if label_tj_all // 2 == genders_tj_test[i]: # Combined label // 2 correspond to 'gender' label\n",
    "        score_tj_all += 1\n",
    "    if label_tj_all % 2 == types_tj_test[i]: # Combined label % 2 correspond to 'type' label\n",
    "        score_tj_all += 1\n",
    "        \n",
    "    #Test hierarchical model\n",
    "    \n",
    "    predict_tj_gender = model_tj_gender(images_tj_test[i:i+1])\n",
    "    label_tj_gender = np.argmax(predict_tj_gender)\n",
    "    \n",
    "    if label_tj_gender == genders_tj_test[i]:\n",
    "        score_tj_hierarchical += 1\n",
    "    \n",
    "    # If predict 'Male'\n",
    "    if label_tj_gender == 0: \n",
    "        predict_tj_male = model_tj_male(images_tj_test[i:i+1])\n",
    "        label_tj_type = np.argmax(predict_tj_male)\n",
    "        \n",
    "        if label_tj_type == types_tj_test[i]:\n",
    "            score_tj_hierarchical += 1\n",
    "            \n",
    "    # If predict 'Female'\n",
    "    if label_tj_gender == 1: \n",
    "        predict_tj_female = model_tj_male(images_tj_test[i:i+1])\n",
    "        label_tj_type = np.argmax(predict_tj_female)\n",
    "        \n",
    "        if label_tj_type == types_tj_test[i]:\n",
    "            score_tj_hierarchical += 1\n",
    "            "
   ]
  },
  {
   "cell_type": "code",
   "execution_count": 39,
   "id": "third-causing",
   "metadata": {
    "ExecuteTime": {
     "end_time": "2021-03-03T03:39:24.567411Z",
     "start_time": "2021-03-03T03:39:24.558784Z"
    },
    "scrolled": true
   },
   "outputs": [
    {
     "name": "stdout",
     "output_type": "stream",
     "text": [
      "Combined Labels: \n",
      "869 points \n",
      " \n",
      "Hierarchical Classification: \n",
      "868 points\n"
     ]
    }
   ],
   "source": [
    "# Show the final the scores\n",
    "print(f\"Combined Labels: \\n{score_tj_all} points \\n \\nHierarchical Classification: \\n{score_tj_hierarchical} points\")"
   ]
  },
  {
   "cell_type": "markdown",
   "id": "alpine-offset",
   "metadata": {},
   "source": [
    "### There is no difference in performance for this work!"
   ]
  },
  {
   "cell_type": "markdown",
   "id": "expensive-galaxy",
   "metadata": {},
   "source": [
    "## Shoes"
   ]
  },
  {
   "cell_type": "code",
   "execution_count": 43,
   "id": "amino-founder",
   "metadata": {
    "ExecuteTime": {
     "end_time": "2021-03-03T09:07:19.223613Z",
     "start_time": "2021-03-03T09:07:19.214107Z"
    }
   },
   "outputs": [],
   "source": [
    "data_shoes_test = np.load('dataset/Shoes - All - Test.npz')"
   ]
  },
  {
   "cell_type": "code",
   "execution_count": 47,
   "id": "brown-bearing",
   "metadata": {
    "ExecuteTime": {
     "end_time": "2021-03-03T09:07:45.404686Z",
     "start_time": "2021-03-03T09:07:45.392236Z"
    }
   },
   "outputs": [
    {
     "data": {
      "text/plain": [
       "['images', 'labels', 'genders']"
      ]
     },
     "execution_count": 47,
     "metadata": {},
     "output_type": "execute_result"
    }
   ],
   "source": [
    "data_shoes_test.files"
   ]
  },
  {
   "cell_type": "code",
   "execution_count": 49,
   "id": "guilty-reservation",
   "metadata": {
    "ExecuteTime": {
     "end_time": "2021-03-03T09:08:05.828723Z",
     "start_time": "2021-03-03T09:08:05.806709Z"
    }
   },
   "outputs": [
    {
     "data": {
      "text/plain": [
       "array([ 0,  1,  2,  3,  4,  5,  6,  7,  8,  9, 10])"
      ]
     },
     "execution_count": 49,
     "metadata": {},
     "output_type": "execute_result"
    }
   ],
   "source": [
    "np.unique(data_shoes_test['labels'])"
   ]
  },
  {
   "cell_type": "code",
   "execution_count": 55,
   "id": "charitable-conviction",
   "metadata": {
    "ExecuteTime": {
     "end_time": "2021-03-03T09:21:54.257248Z",
     "start_time": "2021-03-03T09:21:54.207011Z"
    }
   },
   "outputs": [],
   "source": [
    "images_shoes_test = data_shoes_test['images']\n",
    "genders_shoes_test = data_shoes_test['genders']\n",
    "types_shoes_test = data_shoes_test['labels']"
   ]
  },
  {
   "cell_type": "code",
   "execution_count": 56,
   "id": "chinese-congo",
   "metadata": {
    "ExecuteTime": {
     "end_time": "2021-03-03T09:21:56.209929Z",
     "start_time": "2021-03-03T09:21:56.122976Z"
    }
   },
   "outputs": [],
   "source": [
    "# standardize the images\n",
    "images_shoes_test = images_shoes_test / 255.0"
   ]
  },
  {
   "cell_type": "code",
   "execution_count": 58,
   "id": "competent-cheat",
   "metadata": {
    "ExecuteTime": {
     "end_time": "2021-03-03T09:34:05.014417Z",
     "start_time": "2021-03-03T09:33:56.905789Z"
    }
   },
   "outputs": [],
   "source": [
    "# load the best trained model\n",
    "model_shoes_all = tf.keras.models.load_model('saved_models/Model 1 (Shoes_All_Dropout)/Run-18')\n",
    "\n",
    "model_shoes_gender = tf.keras.models.load_model('saved_models/Model 1 (Shoes_Gender_L2)/Run-14')\n",
    "model_shoes_male = tf.keras.models.load_model('saved_models/Model 1 (Shoes_Male_L2)/Run-2')\n",
    "model_shoes_female = tf.keras.models.load_model('saved_models/Model 1 (Shoes_Female_L2)/Run-7')"
   ]
  },
  {
   "cell_type": "code",
   "execution_count": 78,
   "id": "amber-forwarding",
   "metadata": {
    "ExecuteTime": {
     "end_time": "2021-03-03T10:12:00.645263Z",
     "start_time": "2021-03-03T10:12:00.639767Z"
    }
   },
   "outputs": [],
   "source": [
    "# define the score counter\n",
    "score_shoes_all = 0\n",
    "score_shoes_hierarchical = 0"
   ]
  },
  {
   "cell_type": "code",
   "execution_count": 79,
   "id": "alert-resolution",
   "metadata": {
    "ExecuteTime": {
     "end_time": "2021-03-03T10:12:35.674057Z",
     "start_time": "2021-03-03T10:12:06.314500Z"
    }
   },
   "outputs": [],
   "source": [
    "for i in range(len(images_shoes_test)):\n",
    "    \n",
    "    # combined model\n",
    "    predict_shoes_all = model_shoes_all(images_shoes_test[i:i+1])\n",
    "    predicted_label = np.argmax(predict_shoes_all)\n",
    "    \n",
    "#     all classes are 'Boots Male','Trainers/Sneakers Male',\n",
    "#                     'Sandals/Flip flops/Slippers Male', 'Formal shoes Male',\n",
    "#                     'Others Male',\n",
    "#                     'Boots Female', 'Ballerina Female', 'Trainers/Sneakers Female',\n",
    "#                     'High heels Female', 'Sandals/Flip flops/Slippers Female',\n",
    "#                     'Others Female'\n",
    "                        \n",
    "    predicted_label_gender = (predicted_label >= 5) # The first 5 label are male and male is labels as 0\n",
    "    if predicted_label_gender == genders_shoes_test[i]:\n",
    "        score_shoes_all += 1\n",
    "    \n",
    "    if predicted_label == types_shoes_test[i]:\n",
    "        score_shoes_all += 1\n",
    "        \n",
    "    # Hierarachical model\n",
    "    predict_shoes_gender = model_shoes_gender(images_shoes_test[i:i+1])\n",
    "    predicted_gender = np.argmax(predict_shoes_gender)\n",
    "    \n",
    "    if predicted_gender == genders_shoes_test[i]:\n",
    "        score_shoes_hierarchical += 1\n",
    "    \n",
    "    # Male model\n",
    "    if predicted_gender == 0:\n",
    "        predict_shoes_male = model_shoes_male(images_shoes_test[i:i+1])\n",
    "        predicted_male = np.argmax(predict_shoes_male)\n",
    "        \n",
    "        if predicted_male == types_shoes_test[i]:\n",
    "            score_shoes_hierarchical += 1\n",
    "    \n",
    "    #female\n",
    "    if predicted_gender == 1:\n",
    "        predict_shoes_female = model_shoes_female(images_shoes_test[i:i+1])\n",
    "        predicted_female = np.argmax(predict_shoes_female)\n",
    "        \n",
    "        # -5 because in the separated model, the model predict 0 to 5\n",
    "        # But in the all gender they are 5 to 10 (remember first 5 (0 to 4) are male)\n",
    "        if predicted_female == types_shoes_test[i]-5: \n",
    "            score_shoes_hierarchical += 1"
   ]
  },
  {
   "cell_type": "code",
   "execution_count": 80,
   "id": "acquired-prompt",
   "metadata": {
    "ExecuteTime": {
     "end_time": "2021-03-03T10:12:40.338417Z",
     "start_time": "2021-03-03T10:12:40.331173Z"
    }
   },
   "outputs": [
    {
     "name": "stdout",
     "output_type": "stream",
     "text": [
      "Combined score: 981\n",
      "Hierarchical score: 991\n"
     ]
    }
   ],
   "source": [
    "print(f'Combined score: {score_shoes_all}\\nHierarchical score: {score_shoes_hierarchical}')"
   ]
  },
  {
   "cell_type": "markdown",
   "id": "bizarre-selection",
   "metadata": {
    "ExecuteTime": {
     "end_time": "2021-03-03T10:13:05.755483Z",
     "start_time": "2021-03-03T10:13:05.746597Z"
    }
   },
   "source": [
    "### For shoes, hierarchical model perform around 10% better than combined one. Good!"
   ]
  }
 ],
 "metadata": {
  "kernelspec": {
   "display_name": "Python 3 (TF2)",
   "language": "python",
   "name": "python3-tf2"
  },
  "language_info": {
   "codemirror_mode": {
    "name": "ipython",
    "version": 3
   },
   "file_extension": ".py",
   "mimetype": "text/x-python",
   "name": "python",
   "nbconvert_exporter": "python",
   "pygments_lexer": "ipython3",
   "version": "3.8.5"
  }
 },
 "nbformat": 4,
 "nbformat_minor": 5
}
