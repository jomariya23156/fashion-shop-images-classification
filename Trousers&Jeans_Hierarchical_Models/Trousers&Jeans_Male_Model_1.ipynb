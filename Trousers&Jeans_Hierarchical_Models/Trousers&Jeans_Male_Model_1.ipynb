{
 "cells": [
  {
   "cell_type": "markdown",
   "id": "compressed-seating",
   "metadata": {},
   "source": [
    "## Import libraries"
   ]
  },
  {
   "cell_type": "code",
   "execution_count": 30,
   "id": "great-sunday",
   "metadata": {},
   "outputs": [],
   "source": [
    "import io\n",
    "import itertools\n",
    "\n",
    "import numpy as np\n",
    "import sklearn.metrics\n",
    "\n",
    "import tensorflow as tf\n",
    "from tensorboard.plugins.hparams import api as hp\n",
    "\n",
    "import matplotlib.pyplot as plt"
   ]
  },
  {
   "cell_type": "markdown",
   "id": "micro-nature",
   "metadata": {},
   "source": [
    "## Load and preprocess data"
   ]
  },
  {
   "cell_type": "code",
   "execution_count": 31,
   "id": "temporal-collective",
   "metadata": {},
   "outputs": [],
   "source": [
    "train_data = np.load('dataset/Trousers & Jeans - Male - train.npz')\n",
    "validation_data = np.load('dataset/Trousers & Jeans - Male - validation.npz')\n",
    "test_data = np.load('dataset/Trousers & Jeans - Male - test.npz')"
   ]
  },
  {
   "cell_type": "code",
   "execution_count": 32,
   "id": "sweet-palestine",
   "metadata": {},
   "outputs": [
    {
     "data": {
      "text/plain": [
       "array(['images', 'labels'], dtype='<U6')"
      ]
     },
     "execution_count": 32,
     "metadata": {},
     "output_type": "execute_result"
    }
   ],
   "source": [
    "np.unique(train_data)"
   ]
  },
  {
   "cell_type": "code",
   "execution_count": 33,
   "id": "annual-accent",
   "metadata": {},
   "outputs": [],
   "source": [
    "images_train, labels_train = train_data['images'], train_data['labels']\n",
    "images_val, labels_val = validation_data['images'], validation_data['labels']\n",
    "images_test, labels_test = test_data['images'], test_data['labels']"
   ]
  },
  {
   "cell_type": "code",
   "execution_count": 34,
   "id": "embedded-invalid",
   "metadata": {},
   "outputs": [
    {
     "data": {
      "text/plain": [
       "array([0, 1])"
      ]
     },
     "execution_count": 34,
     "metadata": {},
     "output_type": "execute_result"
    }
   ],
   "source": [
    "np.unique(labels_train)"
   ]
  },
  {
   "cell_type": "code",
   "execution_count": 35,
   "id": "sunrise-sixth",
   "metadata": {},
   "outputs": [
    {
     "data": {
      "text/plain": [
       "(2002, 120, 90, 3)"
      ]
     },
     "execution_count": 35,
     "metadata": {},
     "output_type": "execute_result"
    }
   ],
   "source": [
    "images_train.shape"
   ]
  },
  {
   "cell_type": "code",
   "execution_count": 36,
   "id": "happy-backing",
   "metadata": {},
   "outputs": [
    {
     "data": {
      "text/plain": [
       "(2002,)"
      ]
     },
     "execution_count": 36,
     "metadata": {},
     "output_type": "execute_result"
    }
   ],
   "source": [
    "labels_train.shape"
   ]
  },
  {
   "cell_type": "code",
   "execution_count": 37,
   "id": "elegant-advertiser",
   "metadata": {},
   "outputs": [
    {
     "data": {
      "text/plain": [
       "(250, 120, 90, 3)"
      ]
     },
     "execution_count": 37,
     "metadata": {},
     "output_type": "execute_result"
    }
   ],
   "source": [
    "images_validation.shape"
   ]
  },
  {
   "cell_type": "code",
   "execution_count": 38,
   "id": "basic-marshall",
   "metadata": {},
   "outputs": [
    {
     "data": {
      "text/plain": [
       "(250,)"
      ]
     },
     "execution_count": 38,
     "metadata": {},
     "output_type": "execute_result"
    }
   ],
   "source": [
    "labels_validation.shape"
   ]
  },
  {
   "cell_type": "code",
   "execution_count": 39,
   "id": "signed-terrain",
   "metadata": {},
   "outputs": [
    {
     "data": {
      "text/plain": [
       "(250, 120, 90, 3)"
      ]
     },
     "execution_count": 39,
     "metadata": {},
     "output_type": "execute_result"
    }
   ],
   "source": [
    "images_test.shape"
   ]
  },
  {
   "cell_type": "code",
   "execution_count": 40,
   "id": "introductory-apache",
   "metadata": {},
   "outputs": [
    {
     "data": {
      "text/plain": [
       "(250,)"
      ]
     },
     "execution_count": 40,
     "metadata": {},
     "output_type": "execute_result"
    }
   ],
   "source": [
    "labels_test.shape"
   ]
  },
  {
   "cell_type": "code",
   "execution_count": 41,
   "id": "junior-brazilian",
   "metadata": {},
   "outputs": [],
   "source": [
    "# standardize \n",
    "images_train = images_train/255.0\n",
    "images_val = images_val/255.0\n",
    "images_test = images_test/255.0"
   ]
  },
  {
   "cell_type": "markdown",
   "id": "intense-hypothesis",
   "metadata": {},
   "source": [
    "## Create model"
   ]
  },
  {
   "cell_type": "markdown",
   "id": "exciting-marriage",
   "metadata": {},
   "source": [
    "### Define some hyperparameters"
   ]
  },
  {
   "cell_type": "code",
   "execution_count": 42,
   "id": "nervous-offering",
   "metadata": {},
   "outputs": [],
   "source": [
    "EPOCHS = 15\n",
    "BATCH_SIZE = 64"
   ]
  },
  {
   "cell_type": "code",
   "execution_count": 43,
   "id": "welsh-jacksonville",
   "metadata": {},
   "outputs": [],
   "source": [
    "HP_KERNEL_SIZE_1 = hp.HParam('kernel size 1', hp.Discrete([3,5]))\n",
    "HP_KERNEL_SIZE_2 = hp.HParam('kernel size 2', hp.Discrete([3,5]))\n",
    "HP_KERNEL_NUM = hp.HParam('kernel num', hp.Discrete([32,64]))\n",
    "HP_DENSE_SIZE = hp.HParam('dense size', hp.Discrete([256,512]))\n",
    "\n",
    "METRIC = 'accuracy'\n",
    "\n",
    "with tf.summary.create_file_writer(r'Logs/Model 1 (Trousers&Jeans_Male)/hparam_tuning').as_default():\n",
    "    hp.hparams_config(\n",
    "        hparams = [HP_KERNEL_SIZE_1,HP_KERNEL_SIZE_2,HP_KERNEL_NUM,HP_DENSE_SIZE],\n",
    "        metrics = [hp.Metric(METRIC, display_name = 'accuracy')]\n",
    "    )"
   ]
  },
  {
   "cell_type": "markdown",
   "id": "foreign-pharmacy",
   "metadata": {},
   "source": [
    "### Model architecture"
   ]
  },
  {
   "cell_type": "code",
   "execution_count": 44,
   "id": "environmental-brain",
   "metadata": {},
   "outputs": [],
   "source": [
    "def train_test_model(hparams, session_num):\n",
    "    model = tf.keras.Sequential([\n",
    "        tf.keras.layers.Conv2D(hparams[HP_KERNEL_NUM], hparams[HP_KERNEL_SIZE_1], activation = 'relu', input_shape = (120,90,3)),\n",
    "        tf.keras.layers.MaxPooling2D(pool_size=(2,2)),\n",
    "        tf.keras.layers.Conv2D(hparams[HP_KERNEL_NUM], hparams[HP_KERNEL_SIZE_2], activation = 'relu'),\n",
    "        tf.keras.layers.MaxPooling2D(pool_size=(2,2)),\n",
    "        tf.keras.layers.Flatten(),\n",
    "        tf.keras.layers.Dense(hparams[HP_DENSE_SIZE], activation='relu'),\n",
    "        tf.keras.layers.Dense(2, activation = 'softmax')\n",
    "    ])\n",
    "    \n",
    "    loss_fn = tf.keras.losses.SparseCategoricalCrossentropy()\n",
    "    model.compile(optimizer = 'adam', loss = loss_fn, metrics = ['accuracy'])\n",
    "    \n",
    "    log_dir = \"Logs\\\\Model 1 (Trousers&Jeans_Male)\\\\fit\\\\\" + f\"run-{session_num}\"\n",
    "    \n",
    "    # functions for creating confusion matrix\n",
    "    def plot_confusion_matrix(cm, class_names):\n",
    "        \"\"\"\n",
    "        Returns a matplotlib figure containing the plotted confusion matrix.\n",
    "\n",
    "        Args:\n",
    "        cm (array, shape = [n, n]): a confusion matrix of integer classes\n",
    "        class_names (array, shape = [n]): String names of the integer classes\n",
    "        \"\"\"\n",
    "        figure = plt.figure(figsize=(12, 12))\n",
    "        plt.imshow(cm, interpolation='nearest', cmap=plt.cm.Blues)\n",
    "        plt.title(\"Confusion matrix\")\n",
    "        plt.colorbar()\n",
    "        tick_marks = np.arange(len(class_names))\n",
    "        plt.xticks(tick_marks, class_names, rotation=45)\n",
    "        plt.yticks(tick_marks, class_names)\n",
    "\n",
    "        # Normalize the confusion matrix.\n",
    "        cm = np.around(cm.astype('float') / cm.sum(axis=1)[:, np.newaxis], decimals=2)\n",
    "\n",
    "        # Use white text if squares are dark; otherwise black.\n",
    "        threshold = cm.max() / 2.\n",
    "        for i, j in itertools.product(range(cm.shape[0]), range(cm.shape[1])):\n",
    "            color = \"white\" if cm[i, j] > threshold else \"black\"\n",
    "            plt.text(j, i, cm[i, j], horizontalalignment=\"center\", color=color)\n",
    "\n",
    "        plt.tight_layout()\n",
    "        plt.ylabel('True label')\n",
    "        plt.xlabel('Predicted label')\n",
    "\n",
    "        return figure\n",
    "\n",
    "    def plot_to_image(figure):\n",
    "        \"\"\"Converts the matplotlib plot specified by 'figure' to a PNG image and\n",
    "        returns it. The supplied figure is closed and inaccessible after this call.\"\"\"\n",
    "\n",
    "        # Save the plot to a PNG in memory.\n",
    "        buf = io.BytesIO()\n",
    "        plt.savefig(buf, format='png')\n",
    "\n",
    "        # Closing the figure prevents it from being displayed directly inside the notebook.\n",
    "        plt.close(figure)\n",
    "\n",
    "        buf.seek(0)\n",
    "\n",
    "        # Convert PNG buffer to TF image\n",
    "        image = tf.image.decode_png(buf.getvalue(), channels=4)\n",
    "\n",
    "        # Add the batch dimension\n",
    "        image = tf.expand_dims(image, 0)\n",
    "\n",
    "        return image\n",
    "\n",
    "    # Define a file writer variable for logging purposes\n",
    "    file_writer_cm = tf.summary.create_file_writer(log_dir + '/cm')\n",
    "\n",
    "    def log_confusion_matrix(epoch, logs):\n",
    "        # Use the model to predict the values from the validation dataset.\n",
    "        test_pred_raw = model.predict(images_val)\n",
    "        test_pred = np.argmax(test_pred_raw, axis=1)\n",
    "\n",
    "        # Calculate the confusion matrix.\n",
    "        cm = sklearn.metrics.confusion_matrix(labels_val, test_pred)\n",
    "\n",
    "        # Log the confusion matrix as an image summary.\n",
    "        figure = plot_confusion_matrix(cm, class_names=['Trousers', 'Jeans'])\n",
    "        cm_image = plot_to_image(figure)\n",
    "\n",
    "        # Log the confusion matrix as an image summary.\n",
    "        with file_writer_cm.as_default():\n",
    "            tf.summary.image(\"Confusion Matrix\", cm_image, step=epoch)\n",
    "            \n",
    "    # callbacks\n",
    "    early_stopping = tf.keras.callbacks.EarlyStopping(patience = 2, restore_best_weights = True)\n",
    "    cm_callback = tf.keras.callbacks.LambdaCallback(on_epoch_end = log_confusion_matrix)\n",
    "    tensorboard_callback = tf.keras.callbacks.TensorBoard(log_dir = log_dir, profile_batch = 0)\n",
    "    \n",
    "    model.fit(images_train,\n",
    "              labels_train,\n",
    "              epochs = EPOCHS,\n",
    "              batch_size = BATCH_SIZE,\n",
    "              callbacks = [tensorboard_callback, cm_callback, early_stopping],\n",
    "              validation_data = (images_val, labels_val),\n",
    "              verbose = 1)\n",
    "    \n",
    "    _, accuracy = model.evaluate(images_val, labels_val)\n",
    "    \n",
    "    model.save(r'saved_models\\Model 1 (Trousers&Jeans_Male)\\Run-{}'.format(session_num))\n",
    "    \n",
    "    return accuracy"
   ]
  },
  {
   "cell_type": "code",
   "execution_count": 45,
   "id": "representative-anniversary",
   "metadata": {},
   "outputs": [],
   "source": [
    "def run(log_dir, hparams, session_num):\n",
    "    with tf.summary.create_file_writer(log_dir).as_default():\n",
    "        hp.hparams(hparams)  # record the values used in this trial\n",
    "        accuracy = train_test_model(hparams, session_num)\n",
    "        tf.summary.scalar(METRIC,accuracy,step=1)"
   ]
  },
  {
   "cell_type": "code",
   "execution_count": 46,
   "id": "executive-engine",
   "metadata": {},
   "outputs": [
    {
     "name": "stdout",
     "output_type": "stream",
     "text": [
      "--- Starting Trial: run-1\n",
      "{'kernel size 1': 3, 'kernel size 2': 3, 'kernel num': 32, 'dense size': 256}\n",
      "Epoch 1/15\n",
      "32/32 [==============================] - 11s 351ms/step - loss: 1.1978 - accuracy: 0.5919 - val_loss: 0.5948 - val_accuracy: 0.6800\n",
      "Epoch 2/15\n",
      "32/32 [==============================] - 10s 321ms/step - loss: 0.4800 - accuracy: 0.7677 - val_loss: 0.4118 - val_accuracy: 0.8000\n",
      "Epoch 3/15\n",
      "32/32 [==============================] - 10s 322ms/step - loss: 0.4112 - accuracy: 0.8172 - val_loss: 0.3890 - val_accuracy: 0.8040\n",
      "Epoch 4/15\n",
      "32/32 [==============================] - 10s 327ms/step - loss: 0.3520 - accuracy: 0.8382 - val_loss: 0.3514 - val_accuracy: 0.8600\n",
      "Epoch 5/15\n",
      "32/32 [==============================] - 11s 334ms/step - loss: 0.3465 - accuracy: 0.8511 - val_loss: 0.3709 - val_accuracy: 0.8320\n",
      "Epoch 6/15\n",
      "32/32 [==============================] - 10s 323ms/step - loss: 0.3293 - accuracy: 0.8362 - val_loss: 0.3806 - val_accuracy: 0.8560\n",
      "8/8 [==============================] - 0s 41ms/step - loss: 0.3514 - accuracy: 0.8600\n",
      "WARNING:tensorflow:From C:\\Users\\Admin\\anaconda3\\envs\\Python3-TF2\\lib\\site-packages\\tensorflow\\python\\training\\tracking\\tracking.py:111: Model.state_updates (from tensorflow.python.keras.engine.training) is deprecated and will be removed in a future version.\n",
      "Instructions for updating:\n",
      "This property should not be used in TensorFlow 2.0, as updates are applied automatically.\n",
      "WARNING:tensorflow:From C:\\Users\\Admin\\anaconda3\\envs\\Python3-TF2\\lib\\site-packages\\tensorflow\\python\\training\\tracking\\tracking.py:111: Layer.updates (from tensorflow.python.keras.engine.base_layer) is deprecated and will be removed in a future version.\n",
      "Instructions for updating:\n",
      "This property should not be used in TensorFlow 2.0, as updates are applied automatically.\n",
      "INFO:tensorflow:Assets written to: saved_models\\Model 1 (Trousers&Jeans_Male)\\Run-1\\assets\n",
      "--- Starting Trial: run-2\n",
      "{'kernel size 1': 3, 'kernel size 2': 3, 'kernel num': 32, 'dense size': 512}\n",
      "Epoch 1/15\n",
      "32/32 [==============================] - 12s 363ms/step - loss: 0.8872 - accuracy: 0.6384 - val_loss: 0.4917 - val_accuracy: 0.7560\n",
      "Epoch 2/15\n",
      "32/32 [==============================] - 11s 347ms/step - loss: 0.4623 - accuracy: 0.7937 - val_loss: 0.4064 - val_accuracy: 0.8040\n",
      "Epoch 3/15\n",
      "32/32 [==============================] - 12s 364ms/step - loss: 0.3909 - accuracy: 0.8247 - val_loss: 0.3663 - val_accuracy: 0.8120\n",
      "Epoch 4/15\n",
      "32/32 [==============================] - 12s 369ms/step - loss: 0.3668 - accuracy: 0.8267 - val_loss: 0.3885 - val_accuracy: 0.8160\n",
      "Epoch 5/15\n",
      "32/32 [==============================] - 11s 348ms/step - loss: 0.3167 - accuracy: 0.8591 - val_loss: 0.3242 - val_accuracy: 0.8440\n",
      "Epoch 6/15\n",
      "32/32 [==============================] - 11s 349ms/step - loss: 0.2833 - accuracy: 0.8756 - val_loss: 0.3235 - val_accuracy: 0.8520\n",
      "Epoch 7/15\n",
      "32/32 [==============================] - 13s 399ms/step - loss: 0.2623 - accuracy: 0.8781 - val_loss: 0.3420 - val_accuracy: 0.8360\n",
      "Epoch 8/15\n",
      "32/32 [==============================] - 12s 387ms/step - loss: 0.2659 - accuracy: 0.8816 - val_loss: 0.3064 - val_accuracy: 0.8640\n",
      "Epoch 9/15\n",
      "32/32 [==============================] - 12s 388ms/step - loss: 0.2271 - accuracy: 0.9006 - val_loss: 0.3773 - val_accuracy: 0.8440\n",
      "Epoch 10/15\n",
      "32/32 [==============================] - 11s 351ms/step - loss: 0.2199 - accuracy: 0.9056 - val_loss: 0.3270 - val_accuracy: 0.8840\n",
      "8/8 [==============================] - 0s 41ms/step - loss: 0.3064 - accuracy: 0.8640\n",
      "INFO:tensorflow:Assets written to: saved_models\\Model 1 (Trousers&Jeans_Male)\\Run-2\\assets\n",
      "--- Starting Trial: run-3\n",
      "{'kernel size 1': 3, 'kernel size 2': 5, 'kernel num': 32, 'dense size': 256}\n",
      "Epoch 1/15\n",
      "32/32 [==============================] - 16s 514ms/step - loss: 0.6844 - accuracy: 0.6663 - val_loss: 0.4958 - val_accuracy: 0.7640\n",
      "Epoch 2/15\n",
      "32/32 [==============================] - 16s 486ms/step - loss: 0.4578 - accuracy: 0.7952 - val_loss: 0.5176 - val_accuracy: 0.7520\n",
      "Epoch 3/15\n",
      "32/32 [==============================] - 17s 517ms/step - loss: 0.4407 - accuracy: 0.8002 - val_loss: 0.4451 - val_accuracy: 0.8160\n",
      "Epoch 4/15\n",
      "32/32 [==============================] - 16s 500ms/step - loss: 0.4012 - accuracy: 0.8172 - val_loss: 0.4116 - val_accuracy: 0.8120\n",
      "Epoch 5/15\n",
      "32/32 [==============================] - 16s 498ms/step - loss: 0.3540 - accuracy: 0.8402 - val_loss: 0.3445 - val_accuracy: 0.8680\n",
      "Epoch 6/15\n",
      "32/32 [==============================] - 16s 512ms/step - loss: 0.3315 - accuracy: 0.8541 - val_loss: 0.3552 - val_accuracy: 0.8480\n",
      "Epoch 7/15\n",
      "32/32 [==============================] - 17s 517ms/step - loss: 0.2897 - accuracy: 0.8711 - val_loss: 0.3595 - val_accuracy: 0.8440\n",
      "8/8 [==============================] - 0s 60ms/step - loss: 0.3445 - accuracy: 0.8680\n",
      "INFO:tensorflow:Assets written to: saved_models\\Model 1 (Trousers&Jeans_Male)\\Run-3\\assets\n",
      "--- Starting Trial: run-4\n",
      "{'kernel size 1': 3, 'kernel size 2': 5, 'kernel num': 32, 'dense size': 512}\n",
      "Epoch 1/15\n",
      "32/32 [==============================] - 16s 515ms/step - loss: 0.8531 - accuracy: 0.6049 - val_loss: 0.5356 - val_accuracy: 0.7760\n",
      "Epoch 2/15\n",
      "32/32 [==============================] - 16s 494ms/step - loss: 0.4839 - accuracy: 0.7807 - val_loss: 0.4765 - val_accuracy: 0.7520\n",
      "Epoch 3/15\n",
      "32/32 [==============================] - 16s 491ms/step - loss: 0.4364 - accuracy: 0.8027 - val_loss: 0.6205 - val_accuracy: 0.7680\n",
      "Epoch 4/15\n",
      "32/32 [==============================] - 16s 499ms/step - loss: 0.4017 - accuracy: 0.8192 - val_loss: 0.3780 - val_accuracy: 0.8400\n",
      "Epoch 5/15\n",
      "32/32 [==============================] - 16s 494ms/step - loss: 0.3574 - accuracy: 0.8322 - val_loss: 0.4201 - val_accuracy: 0.8000\n",
      "Epoch 6/15\n",
      "32/32 [==============================] - 16s 495ms/step - loss: 0.3111 - accuracy: 0.8631 - val_loss: 0.3957 - val_accuracy: 0.8360\n",
      "8/8 [==============================] - 0s 52ms/step - loss: 0.3780 - accuracy: 0.8400\n",
      "INFO:tensorflow:Assets written to: saved_models\\Model 1 (Trousers&Jeans_Male)\\Run-4\\assets\n",
      "--- Starting Trial: run-5\n",
      "{'kernel size 1': 3, 'kernel size 2': 3, 'kernel num': 64, 'dense size': 256}\n",
      "Epoch 1/15\n",
      "32/32 [==============================] - 21s 661ms/step - loss: 0.8072 - accuracy: 0.6384 - val_loss: 0.5748 - val_accuracy: 0.7160\n",
      "Epoch 2/15\n",
      "32/32 [==============================] - 21s 649ms/step - loss: 0.4844 - accuracy: 0.7792 - val_loss: 0.4196 - val_accuracy: 0.8120\n",
      "Epoch 3/15\n",
      "32/32 [==============================] - 21s 656ms/step - loss: 0.4116 - accuracy: 0.8142 - val_loss: 0.4089 - val_accuracy: 0.8280\n",
      "Epoch 4/15\n",
      "32/32 [==============================] - 21s 652ms/step - loss: 0.3521 - accuracy: 0.8407 - val_loss: 0.3291 - val_accuracy: 0.8640\n",
      "Epoch 5/15\n",
      "32/32 [==============================] - 21s 670ms/step - loss: 0.3187 - accuracy: 0.8551 - val_loss: 0.3159 - val_accuracy: 0.8960\n",
      "Epoch 6/15\n",
      "32/32 [==============================] - 22s 694ms/step - loss: 0.2912 - accuracy: 0.8726 - val_loss: 0.3388 - val_accuracy: 0.8560\n",
      "Epoch 7/15\n",
      "32/32 [==============================] - 22s 687ms/step - loss: 0.2899 - accuracy: 0.8761 - val_loss: 0.3313 - val_accuracy: 0.8680\n",
      "8/8 [==============================] - 1s 81ms/step - loss: 0.3159 - accuracy: 0.8960\n",
      "INFO:tensorflow:Assets written to: saved_models\\Model 1 (Trousers&Jeans_Male)\\Run-5\\assets\n",
      "--- Starting Trial: run-6\n",
      "{'kernel size 1': 3, 'kernel size 2': 3, 'kernel num': 64, 'dense size': 512}\n",
      "Epoch 1/15\n",
      "32/32 [==============================] - 24s 743ms/step - loss: 1.0528 - accuracy: 0.6339 - val_loss: 0.5122 - val_accuracy: 0.7800\n",
      "Epoch 2/15\n",
      "32/32 [==============================] - 23s 707ms/step - loss: 0.4701 - accuracy: 0.7817 - val_loss: 0.4309 - val_accuracy: 0.8280\n",
      "Epoch 3/15\n",
      "32/32 [==============================] - 23s 708ms/step - loss: 0.3930 - accuracy: 0.8207 - val_loss: 0.9011 - val_accuracy: 0.6680\n",
      "Epoch 4/15\n",
      "32/32 [==============================] - 25s 787ms/step - loss: 0.4037 - accuracy: 0.8147 - val_loss: 0.3648 - val_accuracy: 0.8280\n",
      "Epoch 5/15\n",
      "32/32 [==============================] - 25s 768ms/step - loss: 0.3215 - accuracy: 0.8467 - val_loss: 0.3095 - val_accuracy: 0.8680\n",
      "Epoch 6/15\n"
     ]
    },
    {
     "name": "stdout",
     "output_type": "stream",
     "text": [
      "32/32 [==============================] - 22s 699ms/step - loss: 0.2761 - accuracy: 0.8771 - val_loss: 0.3175 - val_accuracy: 0.8800\n",
      "Epoch 7/15\n",
      "32/32 [==============================] - 22s 696ms/step - loss: 0.2988 - accuracy: 0.8651 - val_loss: 0.3235 - val_accuracy: 0.8640\n",
      "8/8 [==============================] - 1s 79ms/step - loss: 0.3095 - accuracy: 0.8680\n",
      "INFO:tensorflow:Assets written to: saved_models\\Model 1 (Trousers&Jeans_Male)\\Run-6\\assets\n",
      "--- Starting Trial: run-7\n",
      "{'kernel size 1': 3, 'kernel size 2': 5, 'kernel num': 64, 'dense size': 256}\n",
      "Epoch 1/15\n",
      "32/32 [==============================] - 31s 977ms/step - loss: 0.7500 - accuracy: 0.6583 - val_loss: 0.4841 - val_accuracy: 0.7600\n",
      "Epoch 2/15\n",
      "32/32 [==============================] - 31s 969ms/step - loss: 0.4649 - accuracy: 0.7967 - val_loss: 0.3932 - val_accuracy: 0.8160\n",
      "Epoch 3/15\n",
      "32/32 [==============================] - 31s 967ms/step - loss: 0.4691 - accuracy: 0.7837 - val_loss: 0.4540 - val_accuracy: 0.7880\n",
      "Epoch 4/15\n",
      "32/32 [==============================] - 31s 978ms/step - loss: 0.3869 - accuracy: 0.8252 - val_loss: 0.3822 - val_accuracy: 0.8320\n",
      "Epoch 5/15\n",
      "32/32 [==============================] - 31s 979ms/step - loss: 0.3469 - accuracy: 0.8457 - val_loss: 0.3696 - val_accuracy: 0.8280\n",
      "Epoch 6/15\n",
      "32/32 [==============================] - 31s 968ms/step - loss: 0.3736 - accuracy: 0.8252 - val_loss: 0.3863 - val_accuracy: 0.8320\n",
      "Epoch 7/15\n",
      "32/32 [==============================] - 31s 969ms/step - loss: 0.3756 - accuracy: 0.8277 - val_loss: 0.3928 - val_accuracy: 0.8400\n",
      "8/8 [==============================] - 1s 105ms/step - loss: 0.3696 - accuracy: 0.8280\n",
      "INFO:tensorflow:Assets written to: saved_models\\Model 1 (Trousers&Jeans_Male)\\Run-7\\assets\n",
      "--- Starting Trial: run-8\n",
      "{'kernel size 1': 3, 'kernel size 2': 5, 'kernel num': 64, 'dense size': 512}\n",
      "Epoch 1/15\n",
      "32/32 [==============================] - 33s 1s/step - loss: 1.0293 - accuracy: 0.6553 - val_loss: 0.5995 - val_accuracy: 0.6640\n",
      "Epoch 2/15\n",
      "32/32 [==============================] - 34s 1s/step - loss: 0.4959 - accuracy: 0.7772 - val_loss: 0.4454 - val_accuracy: 0.8000\n",
      "Epoch 3/15\n",
      "32/32 [==============================] - 33s 1s/step - loss: 0.4485 - accuracy: 0.8007 - val_loss: 0.4422 - val_accuracy: 0.8000\n",
      "Epoch 4/15\n",
      "32/32 [==============================] - 32s 1s/step - loss: 0.4461 - accuracy: 0.8102 - val_loss: 0.4614 - val_accuracy: 0.7720\n",
      "Epoch 5/15\n",
      "32/32 [==============================] - 33s 1s/step - loss: 0.3912 - accuracy: 0.8227 - val_loss: 0.4073 - val_accuracy: 0.8080\n",
      "Epoch 6/15\n",
      "32/32 [==============================] - 34s 1s/step - loss: 0.3739 - accuracy: 0.8322 - val_loss: 0.3651 - val_accuracy: 0.8360\n",
      "Epoch 7/15\n",
      "32/32 [==============================] - 36s 1s/step - loss: 0.3388 - accuracy: 0.8596 - val_loss: 0.4118 - val_accuracy: 0.8160\n",
      "Epoch 8/15\n",
      "32/32 [==============================] - 39s 1s/step - loss: 0.3205 - accuracy: 0.8462 - val_loss: 0.3444 - val_accuracy: 0.8480\n",
      "Epoch 9/15\n",
      "32/32 [==============================] - 38s 1s/step - loss: 0.2864 - accuracy: 0.8816 - val_loss: 0.3387 - val_accuracy: 0.8400\n",
      "Epoch 10/15\n",
      "32/32 [==============================] - 34s 1s/step - loss: 0.3083 - accuracy: 0.8511 - val_loss: 0.3505 - val_accuracy: 0.8360\n",
      "Epoch 11/15\n",
      "32/32 [==============================] - 33s 1s/step - loss: 0.2925 - accuracy: 0.8696 - val_loss: 0.3340 - val_accuracy: 0.8480\n",
      "Epoch 12/15\n",
      "32/32 [==============================] - 39s 1s/step - loss: 0.2423 - accuracy: 0.8851 - val_loss: 0.3482 - val_accuracy: 0.8560\n",
      "Epoch 13/15\n",
      "32/32 [==============================] - 33s 1s/step - loss: 0.2813 - accuracy: 0.8671 - val_loss: 0.3202 - val_accuracy: 0.8600\n",
      "Epoch 14/15\n",
      "32/32 [==============================] - 33s 1s/step - loss: 0.2634 - accuracy: 0.8776 - val_loss: 0.3300 - val_accuracy: 0.8680\n",
      "Epoch 15/15\n",
      "32/32 [==============================] - 33s 1s/step - loss: 0.2076 - accuracy: 0.9061 - val_loss: 0.2896 - val_accuracy: 0.8880\n",
      "8/8 [==============================] - 1s 107ms/step - loss: 0.2896 - accuracy: 0.8880\n",
      "INFO:tensorflow:Assets written to: saved_models\\Model 1 (Trousers&Jeans_Male)\\Run-8\\assets\n",
      "--- Starting Trial: run-9\n",
      "{'kernel size 1': 5, 'kernel size 2': 3, 'kernel num': 32, 'dense size': 256}\n",
      "Epoch 1/15\n",
      "32/32 [==============================] - 12s 373ms/step - loss: 1.0270 - accuracy: 0.5729 - val_loss: 0.5616 - val_accuracy: 0.7520\n",
      "Epoch 2/15\n",
      "32/32 [==============================] - 12s 366ms/step - loss: 0.5016 - accuracy: 0.7727 - val_loss: 0.4434 - val_accuracy: 0.7760\n",
      "Epoch 3/15\n",
      "32/32 [==============================] - 12s 365ms/step - loss: 0.4343 - accuracy: 0.7947 - val_loss: 0.4200 - val_accuracy: 0.8240\n",
      "Epoch 4/15\n",
      "32/32 [==============================] - 12s 367ms/step - loss: 0.4106 - accuracy: 0.8082 - val_loss: 0.3778 - val_accuracy: 0.8320\n",
      "Epoch 5/15\n",
      "32/32 [==============================] - 11s 359ms/step - loss: 0.3564 - accuracy: 0.8372 - val_loss: 0.4412 - val_accuracy: 0.7960\n",
      "Epoch 6/15\n",
      "32/32 [==============================] - 11s 358ms/step - loss: 0.3601 - accuracy: 0.8387 - val_loss: 0.3915 - val_accuracy: 0.8240\n",
      "8/8 [==============================] - 0s 44ms/step - loss: 0.3778 - accuracy: 0.8320\n",
      "INFO:tensorflow:Assets written to: saved_models\\Model 1 (Trousers&Jeans_Male)\\Run-9\\assets\n",
      "--- Starting Trial: run-10\n",
      "{'kernel size 1': 5, 'kernel size 2': 3, 'kernel num': 32, 'dense size': 512}\n",
      "Epoch 1/15\n",
      "32/32 [==============================] - 13s 394ms/step - loss: 1.2148 - accuracy: 0.6259 - val_loss: 0.5358 - val_accuracy: 0.7600\n",
      "Epoch 2/15\n",
      "32/32 [==============================] - 13s 403ms/step - loss: 0.4701 - accuracy: 0.7717 - val_loss: 0.4102 - val_accuracy: 0.8080\n",
      "Epoch 3/15\n",
      "32/32 [==============================] - 12s 389ms/step - loss: 0.3963 - accuracy: 0.8162 - val_loss: 0.4462 - val_accuracy: 0.7680\n",
      "Epoch 4/15\n",
      "32/32 [==============================] - 12s 380ms/step - loss: 0.3922 - accuracy: 0.8227 - val_loss: 0.3868 - val_accuracy: 0.8360\n",
      "Epoch 5/15\n",
      "32/32 [==============================] - 12s 382ms/step - loss: 0.3631 - accuracy: 0.8282 - val_loss: 0.3441 - val_accuracy: 0.8480\n",
      "Epoch 6/15\n",
      "32/32 [==============================] - 12s 386ms/step - loss: 0.3186 - accuracy: 0.8571 - val_loss: 0.4850 - val_accuracy: 0.8000\n",
      "Epoch 7/15\n",
      "32/32 [==============================] - 12s 381ms/step - loss: 0.3399 - accuracy: 0.8477 - val_loss: 0.3486 - val_accuracy: 0.8320\n",
      "8/8 [==============================] - 0s 43ms/step - loss: 0.3441 - accuracy: 0.8480\n",
      "INFO:tensorflow:Assets written to: saved_models\\Model 1 (Trousers&Jeans_Male)\\Run-10\\assets\n",
      "--- Starting Trial: run-11\n",
      "{'kernel size 1': 5, 'kernel size 2': 5, 'kernel num': 32, 'dense size': 256}\n",
      "Epoch 1/15\n",
      "32/32 [==============================] - 17s 516ms/step - loss: 0.7771 - accuracy: 0.6888 - val_loss: 0.5747 - val_accuracy: 0.7000\n",
      "Epoch 2/15\n",
      "32/32 [==============================] - 16s 500ms/step - loss: 0.4809 - accuracy: 0.7782 - val_loss: 0.4300 - val_accuracy: 0.8200\n",
      "Epoch 3/15\n",
      "32/32 [==============================] - 18s 551ms/step - loss: 0.4388 - accuracy: 0.7982 - val_loss: 0.4933 - val_accuracy: 0.7760\n",
      "Epoch 4/15\n",
      "32/32 [==============================] - 16s 509ms/step - loss: 0.4209 - accuracy: 0.8012 - val_loss: 0.3781 - val_accuracy: 0.8200\n",
      "Epoch 5/15\n",
      "32/32 [==============================] - 16s 503ms/step - loss: 0.3823 - accuracy: 0.8252 - val_loss: 0.4244 - val_accuracy: 0.8080\n",
      "Epoch 6/15\n",
      "32/32 [==============================] - 16s 514ms/step - loss: 0.3434 - accuracy: 0.8432 - val_loss: 0.3954 - val_accuracy: 0.8200\n",
      "8/8 [==============================] - 0s 56ms/step - loss: 0.3781 - accuracy: 0.8200\n",
      "INFO:tensorflow:Assets written to: saved_models\\Model 1 (Trousers&Jeans_Male)\\Run-11\\assets\n",
      "--- Starting Trial: run-12\n",
      "{'kernel size 1': 5, 'kernel size 2': 5, 'kernel num': 32, 'dense size': 512}\n",
      "Epoch 1/15\n",
      "32/32 [==============================] - 17s 533ms/step - loss: 0.9621 - accuracy: 0.5150 - val_loss: 0.6478 - val_accuracy: 0.7080\n",
      "Epoch 2/15\n",
      "32/32 [==============================] - 17s 522ms/step - loss: 0.6130 - accuracy: 0.6743 - val_loss: 0.5996 - val_accuracy: 0.6800\n",
      "Epoch 3/15\n",
      "32/32 [==============================] - 16s 516ms/step - loss: 0.4929 - accuracy: 0.7547 - val_loss: 0.4283 - val_accuracy: 0.8000\n"
     ]
    },
    {
     "name": "stdout",
     "output_type": "stream",
     "text": [
      "Epoch 4/15\n",
      "32/32 [==============================] - 17s 519ms/step - loss: 0.4373 - accuracy: 0.8022 - val_loss: 0.4904 - val_accuracy: 0.7840\n",
      "Epoch 5/15\n",
      "32/32 [==============================] - 17s 537ms/step - loss: 0.4073 - accuracy: 0.8102 - val_loss: 0.3802 - val_accuracy: 0.7960\n",
      "Epoch 6/15\n",
      "32/32 [==============================] - 17s 531ms/step - loss: 0.3478 - accuracy: 0.8367 - val_loss: 0.3555 - val_accuracy: 0.8240\n",
      "Epoch 7/15\n",
      "32/32 [==============================] - 17s 526ms/step - loss: 0.3479 - accuracy: 0.8457 - val_loss: 0.3973 - val_accuracy: 0.8320\n",
      "Epoch 8/15\n",
      "32/32 [==============================] - 17s 530ms/step - loss: 0.3925 - accuracy: 0.8147 - val_loss: 0.3921 - val_accuracy: 0.8200\n",
      "8/8 [==============================] - 0s 56ms/step - loss: 0.3555 - accuracy: 0.8240\n",
      "INFO:tensorflow:Assets written to: saved_models\\Model 1 (Trousers&Jeans_Male)\\Run-12\\assets\n",
      "--- Starting Trial: run-13\n",
      "{'kernel size 1': 5, 'kernel size 2': 3, 'kernel num': 64, 'dense size': 256}\n",
      "Epoch 1/15\n",
      "32/32 [==============================] - 23s 721ms/step - loss: 1.0272 - accuracy: 0.5924 - val_loss: 0.5781 - val_accuracy: 0.7520\n",
      "Epoch 2/15\n",
      "32/32 [==============================] - 23s 716ms/step - loss: 0.5197 - accuracy: 0.7468 - val_loss: 0.7105 - val_accuracy: 0.6600\n",
      "Epoch 3/15\n",
      "32/32 [==============================] - 23s 711ms/step - loss: 0.4642 - accuracy: 0.7932 - val_loss: 0.4243 - val_accuracy: 0.7960\n",
      "Epoch 4/15\n",
      "32/32 [==============================] - 23s 720ms/step - loss: 0.4092 - accuracy: 0.8147 - val_loss: 0.4180 - val_accuracy: 0.8000\n",
      "Epoch 5/15\n",
      "32/32 [==============================] - 23s 714ms/step - loss: 0.4092 - accuracy: 0.8082 - val_loss: 0.4192 - val_accuracy: 0.8120\n",
      "Epoch 6/15\n",
      "32/32 [==============================] - 23s 720ms/step - loss: 0.3785 - accuracy: 0.8257 - val_loss: 0.4444 - val_accuracy: 0.7880\n",
      "8/8 [==============================] - 1s 76ms/step - loss: 0.4180 - accuracy: 0.8000\n",
      "INFO:tensorflow:Assets written to: saved_models\\Model 1 (Trousers&Jeans_Male)\\Run-13\\assets\n",
      "--- Starting Trial: run-14\n",
      "{'kernel size 1': 5, 'kernel size 2': 3, 'kernel num': 64, 'dense size': 512}\n",
      "Epoch 1/15\n",
      "32/32 [==============================] - 25s 788ms/step - loss: 0.9373 - accuracy: 0.6588 - val_loss: 0.5543 - val_accuracy: 0.7080\n",
      "Epoch 2/15\n",
      "32/32 [==============================] - 24s 765ms/step - loss: 0.5183 - accuracy: 0.7498 - val_loss: 0.4741 - val_accuracy: 0.8120\n",
      "Epoch 3/15\n",
      "32/32 [==============================] - 25s 766ms/step - loss: 0.4163 - accuracy: 0.8122 - val_loss: 0.4037 - val_accuracy: 0.8240\n",
      "Epoch 4/15\n",
      "32/32 [==============================] - 24s 757ms/step - loss: 0.3997 - accuracy: 0.8232 - val_loss: 0.4262 - val_accuracy: 0.7840\n",
      "Epoch 5/15\n",
      "32/32 [==============================] - 24s 761ms/step - loss: 0.3941 - accuracy: 0.8212 - val_loss: 0.4773 - val_accuracy: 0.7960\n",
      "8/8 [==============================] - 1s 86ms/step - loss: 0.4037 - accuracy: 0.8240\n",
      "INFO:tensorflow:Assets written to: saved_models\\Model 1 (Trousers&Jeans_Male)\\Run-14\\assets\n",
      "--- Starting Trial: run-15\n",
      "{'kernel size 1': 5, 'kernel size 2': 5, 'kernel num': 64, 'dense size': 256}\n",
      "Epoch 1/15\n",
      "32/32 [==============================] - 35s 1s/step - loss: 1.0390 - accuracy: 0.6354 - val_loss: 0.6134 - val_accuracy: 0.6800\n",
      "Epoch 2/15\n",
      "32/32 [==============================] - 33s 1s/step - loss: 0.5179 - accuracy: 0.7552 - val_loss: 0.4584 - val_accuracy: 0.8240\n",
      "Epoch 3/15\n",
      "32/32 [==============================] - 33s 1s/step - loss: 0.4757 - accuracy: 0.7732 - val_loss: 0.4355 - val_accuracy: 0.7960\n",
      "Epoch 4/15\n",
      "32/32 [==============================] - 33s 1s/step - loss: 0.4335 - accuracy: 0.7932 - val_loss: 0.4342 - val_accuracy: 0.7920\n",
      "Epoch 5/15\n",
      "32/32 [==============================] - 33s 1s/step - loss: 0.4152 - accuracy: 0.7972 - val_loss: 0.3932 - val_accuracy: 0.8120\n",
      "Epoch 6/15\n",
      "32/32 [==============================] - 33s 1s/step - loss: 0.3892 - accuracy: 0.8212 - val_loss: 0.3836 - val_accuracy: 0.8080\n",
      "Epoch 7/15\n",
      "32/32 [==============================] - 33s 1s/step - loss: 0.4075 - accuracy: 0.7977 - val_loss: 0.4761 - val_accuracy: 0.7520\n",
      "Epoch 8/15\n",
      "32/32 [==============================] - 33s 1s/step - loss: 0.4247 - accuracy: 0.7952 - val_loss: 0.4566 - val_accuracy: 0.7960\n",
      "8/8 [==============================] - 1s 115ms/step - loss: 0.3836 - accuracy: 0.8080\n",
      "INFO:tensorflow:Assets written to: saved_models\\Model 1 (Trousers&Jeans_Male)\\Run-15\\assets\n",
      "--- Starting Trial: run-16\n",
      "{'kernel size 1': 5, 'kernel size 2': 5, 'kernel num': 64, 'dense size': 512}\n",
      "Epoch 1/15\n",
      "32/32 [==============================] - 34s 1s/step - loss: 0.9572 - accuracy: 0.6354 - val_loss: 0.5450 - val_accuracy: 0.7360\n",
      "Epoch 2/15\n",
      "32/32 [==============================] - 34s 1s/step - loss: 0.5685 - accuracy: 0.7273 - val_loss: 0.5601 - val_accuracy: 0.7240\n",
      "Epoch 3/15\n",
      "32/32 [==============================] - 35s 1s/step - loss: 0.5026 - accuracy: 0.7567 - val_loss: 0.5135 - val_accuracy: 0.7120\n",
      "Epoch 4/15\n",
      "32/32 [==============================] - 34s 1s/step - loss: 0.4779 - accuracy: 0.7747 - val_loss: 0.4907 - val_accuracy: 0.7600\n",
      "Epoch 5/15\n",
      "32/32 [==============================] - 34s 1s/step - loss: 0.4399 - accuracy: 0.7882 - val_loss: 0.4565 - val_accuracy: 0.7680\n",
      "Epoch 6/15\n",
      "32/32 [==============================] - 35s 1s/step - loss: 0.4021 - accuracy: 0.8047 - val_loss: 0.4462 - val_accuracy: 0.7520\n",
      "Epoch 7/15\n",
      "32/32 [==============================] - 34s 1s/step - loss: 0.3725 - accuracy: 0.8227 - val_loss: 0.4709 - val_accuracy: 0.7640\n",
      "Epoch 8/15\n",
      "32/32 [==============================] - 34s 1s/step - loss: 0.4015 - accuracy: 0.8052 - val_loss: 0.4489 - val_accuracy: 0.7680\n",
      "8/8 [==============================] - 1s 115ms/step - loss: 0.4462 - accuracy: 0.7520\n",
      "INFO:tensorflow:Assets written to: saved_models\\Model 1 (Trousers&Jeans_Male)\\Run-16\\assets\n"
     ]
    }
   ],
   "source": [
    "session_num = 1\n",
    "for kernel_size_1 in HP_KERNEL_SIZE_1.domain.values:\n",
    "    for kernel_num in HP_KERNEL_NUM.domain.values:\n",
    "        for kernel_size_2 in HP_KERNEL_SIZE_2.domain.values:\n",
    "            for dense_size in HP_DENSE_SIZE.domain.values:\n",
    "                hparams = {\n",
    "                    HP_KERNEL_SIZE_1 : kernel_size_1,\n",
    "                    HP_KERNEL_SIZE_2 : kernel_size_2,\n",
    "                    HP_KERNEL_NUM : kernel_num,\n",
    "                    HP_DENSE_SIZE : dense_size\n",
    "                }\n",
    "                run_name = f'run-{session_num}'\n",
    "                print('--- Starting Trial:',run_name)\n",
    "                print({h.name: hparams[h] for h in hparams})\n",
    "                run(\"Logs/Model 1 (Trousers&Jeans_Male)/hparam_tuning/\" + run_name, hparams, session_num)\n",
    "\n",
    "                session_num += 1"
   ]
  }
 ],
 "metadata": {
  "kernelspec": {
   "display_name": "Python 3 (TF2)",
   "language": "python",
   "name": "python3-tf2"
  },
  "language_info": {
   "codemirror_mode": {
    "name": "ipython",
    "version": 3
   },
   "file_extension": ".py",
   "mimetype": "text/x-python",
   "name": "python",
   "nbconvert_exporter": "python",
   "pygments_lexer": "ipython3",
   "version": "3.8.5"
  }
 },
 "nbformat": 4,
 "nbformat_minor": 5
}
